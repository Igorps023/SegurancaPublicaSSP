{
  "cells": [
    {
      "cell_type": "markdown",
      "metadata": {
        "id": "view-in-github",
        "colab_type": "text"
      },
      "source": [
        "<a href=\"https://colab.research.google.com/github/Igorps023/SegurancaPublicaSSP/blob/main/02refined_script.ipynb\" target=\"_parent\"><img src=\"https://colab.research.google.com/assets/colab-badge.svg\" alt=\"Open In Colab\"/></a>"
      ]
    },
    {
      "cell_type": "code",
      "source": [
        "!pip install pyspark"
      ],
      "metadata": {
        "colab": {
          "base_uri": "https://localhost:8080/"
        },
        "id": "R_5M1QBYFFyv",
        "outputId": "32645be9-688e-488b-8161-e7ac9076d5ba"
      },
      "id": "R_5M1QBYFFyv",
      "execution_count": 3,
      "outputs": [
        {
          "output_type": "stream",
          "name": "stdout",
          "text": [
            "Collecting pyspark\n",
            "  Downloading pyspark-3.5.0.tar.gz (316.9 MB)\n",
            "\u001b[2K     \u001b[90m━━━━━━━━━━━━━━━━━━━━━━━━━━━━━━━━━━━━━━━━\u001b[0m \u001b[32m316.9/316.9 MB\u001b[0m \u001b[31m4.0 MB/s\u001b[0m eta \u001b[36m0:00:00\u001b[0m\n",
            "\u001b[?25h  Preparing metadata (setup.py) ... \u001b[?25l\u001b[?25hdone\n",
            "Requirement already satisfied: py4j==0.10.9.7 in /usr/local/lib/python3.10/dist-packages (from pyspark) (0.10.9.7)\n",
            "Building wheels for collected packages: pyspark\n",
            "  Building wheel for pyspark (setup.py) ... \u001b[?25l\u001b[?25hdone\n",
            "  Created wheel for pyspark: filename=pyspark-3.5.0-py2.py3-none-any.whl size=317425345 sha256=eaf32ff524ec5c218106d62983ef1e2f5e7a1d991a66182c0a0b0ee4501bf3d7\n",
            "  Stored in directory: /root/.cache/pip/wheels/41/4e/10/c2cf2467f71c678cfc8a6b9ac9241e5e44a01940da8fbb17fc\n",
            "Successfully built pyspark\n",
            "Installing collected packages: pyspark\n",
            "Successfully installed pyspark-3.5.0\n"
          ]
        }
      ]
    },
    {
      "metadata": {
        "trusted": true,
        "id": "16978014"
      },
      "id": "16978014",
      "cell_type": "code",
      "source": [
        "#!/usr/bin/env python\n",
        "# coding: utf-8"
      ],
      "execution_count": 4,
      "outputs": []
    },
    {
      "metadata": {
        "trusted": true,
        "id": "4437a8c0"
      },
      "id": "4437a8c0",
      "cell_type": "code",
      "source": [
        "import os\n",
        "import sys\n",
        "import pytz\n",
        "import numpy as np\n",
        "import datetime\n",
        "from pyspark.sql import SparkSession\n",
        "from pyspark.sql import SQLContext\n",
        "from pyspark.sql.functions import udf, lpad, translate\n",
        "from datetime import datetime\n",
        "from datetime import timedelta\n",
        "from datetime import date\n",
        "from dateutil.relativedelta import relativedelta\n",
        "from pyspark.sql.types import *\n",
        "from pyspark.sql.functions import count, avg, col"
      ],
      "execution_count": 5,
      "outputs": []
    },
    {
      "metadata": {
        "trusted": true,
        "id": "aae70791"
      },
      "id": "aae70791",
      "cell_type": "code",
      "source": [
        "### FREQ FUNCTION\n",
        "def Freq(pTabela,pColuna):\n",
        "\n",
        "    qtd_total=pTabela.count()\n",
        "\n",
        "    pTabela.registerTempTable(\"tab_input\")\n",
        "    frq = spark.sql(\n",
        "            \"\"\"\n",
        "                select\n",
        "                    {col},\n",
        "                    count(*) as qtd_absoluto,\n",
        "                    round(100*(count(*) / {tot}),2) as qtd_percentual\n",
        "                from\n",
        "                    tab_input\n",
        "                group by\n",
        "                    {col}\n",
        "                order by\n",
        "                    {col}\n",
        "            \"\"\".format(col=pColuna, tot=qtd_total))\n",
        "\n",
        "    qtd=frq.count()\n",
        "    print('Quantidade de dominios',qtd)\n",
        "    if qtd > 500:\n",
        "        frq.show(1000,truncate=False)\n",
        "        return \"Dominio muito granular\"\n",
        "\n",
        "    else:\n",
        "        frq.show(qtd,truncate=False)\n",
        "        print(\"volumetria total:\",qtd_total)\n",
        "        return 'Freq da coluna ' + pColuna;"
      ],
      "execution_count": 6,
      "outputs": []
    },
    {
      "metadata": {
        "trusted": true,
        "id": "b0a1ce27"
      },
      "id": "b0a1ce27",
      "cell_type": "code",
      "source": [
        "agora=datetime.now(pytz.timezone('America/Sao_Paulo'))\n",
        "dthproc=agora.strftime(\"%Y%m%d%H%M%S\")"
      ],
      "execution_count": 7,
      "outputs": []
    },
    {
      "metadata": {
        "trusted": true,
        "colab": {
          "base_uri": "https://localhost:8080/",
          "height": 35
        },
        "id": "994aa25f",
        "outputId": "35ff48bb-31bd-49ef-a983-7a7fd043faa6"
      },
      "id": "994aa25f",
      "cell_type": "code",
      "source": [
        "dthproc"
      ],
      "execution_count": 8,
      "outputs": [
        {
          "output_type": "execute_result",
          "data": {
            "text/plain": [
              "'20240109195604'"
            ],
            "application/vnd.google.colaboratory.intrinsic+json": {
              "type": "string"
            }
          },
          "metadata": {},
          "execution_count": 8
        }
      ]
    },
    {
      "metadata": {
        "trusted": true,
        "colab": {
          "base_uri": "https://localhost:8080/"
        },
        "id": "21451d9a",
        "outputId": "4bf2e0b5-a4d8-48e9-bade-262444e4bec5"
      },
      "id": "21451d9a",
      "cell_type": "code",
      "source": [
        "### CHANGE FOR EACH FILE\n",
        "spark = SparkSession.builder.appName('t_ssp_montly_file').getOrCreate()\n",
        "sqlContext=SQLContext(spark.sparkContext)"
      ],
      "execution_count": 9,
      "outputs": [
        {
          "output_type": "stream",
          "name": "stderr",
          "text": [
            "/usr/local/lib/python3.10/dist-packages/pyspark/sql/context.py:113: FutureWarning: Deprecated in 3.0.0. Use SparkSession.builder.getOrCreate() instead.\n",
            "  warnings.warn(\n"
          ]
        }
      ]
    },
    {
      "metadata": {
        "trusted": true,
        "id": "77d6d8db"
      },
      "id": "77d6d8db",
      "cell_type": "code",
      "source": [
        "### CHANGE FOR EACH FILE\n",
        "raw ='t_ssp_montly_file'"
      ],
      "execution_count": 10,
      "outputs": []
    },
    {
      "metadata": {
        "trusted": true,
        "id": "e7f1b41f"
      },
      "id": "e7f1b41f",
      "cell_type": "code",
      "source": [
        "bucket_control =    \"bkt-ssp/Files/5_Control\"\n",
        "bucket_ingestion =  \"bkt-ssp/Files/1_IngestionZone\"\n",
        "bucket_raw =        \"bkt-ssp/Files/2_RawZone\"\n",
        "bucket_trusted =    \"bkt-ssp/Files/3_TrustedZone\"\n",
        "bucket_refined =    \"bkt-ssp/Files/4_RefinedZone\""
      ],
      "execution_count": 11,
      "outputs": []
    },
    {
      "metadata": {
        "trusted": true,
        "id": "7126596f"
      },
      "id": "7126596f",
      "cell_type": "code",
      "source": [
        "### CHANGE FOR EACH FILE\n",
        "output_trusted = 'trusted_ssp_montly_file'"
      ],
      "execution_count": 12,
      "outputs": []
    },
    {
      "metadata": {
        "trusted": true,
        "colab": {
          "base_uri": "https://localhost:8080/"
        },
        "id": "43b76b46",
        "outputId": "015e4b86-390c-437b-93f0-7662f636b68f"
      },
      "id": "43b76b46",
      "cell_type": "code",
      "source": [
        "full_path_raw = 's3://{bkt}/{file}'.format(bkt=bucket_raw,file=raw)\n",
        "print(full_path_raw)"
      ],
      "execution_count": 13,
      "outputs": [
        {
          "output_type": "stream",
          "name": "stdout",
          "text": [
            "s3://bkt-ssp/Files/2_RawZone/t_ssp_montly_file\n"
          ]
        }
      ]
    },
    {
      "metadata": {
        "trusted": true,
        "id": "78fef2b8"
      },
      "id": "78fef2b8",
      "cell_type": "code",
      "source": [
        "path_lake = os.path.join(full_path_raw)\n",
        "raw_00=sqlContext.read.format(\"parquet\").load(path_lake)\n",
        "raw_00.registerTempTable(\"raw_00\")"
      ],
      "execution_count": null,
      "outputs": []
    },
    {
      "metadata": {
        "trusted": true,
        "id": "dc8668e7"
      },
      "id": "dc8668e7",
      "cell_type": "code",
      "source": [
        "raw_00.printSchema()"
      ],
      "execution_count": null,
      "outputs": []
    },
    {
      "metadata": {
        "trusted": true,
        "colab": {
          "referenced_widgets": [
            ""
          ]
        },
        "id": "6e40afdd",
        "outputId": "f53edc67-17ed-4b8a-b756-526f303c4961"
      },
      "id": "6e40afdd",
      "cell_type": "code",
      "source": [
        "lake = spark.sql(\n",
        "    \"\"\"\n",
        "        select\n",
        "            -- padrao para todas as cargas no datalake--\n",
        "\n",
        "            --ref,\n",
        "            --ref_partition,\n",
        "\n",
        "            {pdthproc} as ts_proc,\n",
        "            {pdthproc} as ts_proc_partition,\n",
        "\n",
        "            -- campos do arquivo --\n",
        "\n",
        "            cast(track_id as string) as track_id,\n",
        "            cast(user_id as string) as user_id,\n",
        "            cast(playcount as bigint) as playcount\n",
        "        from\n",
        "            raw_00\n",
        "    \"\"\".format(pdthproc=dthproc))\n",
        "lake.registerTempTable(\"lake\")\n",
        "lake.cache()\n",
        "lake.count()"
      ],
      "execution_count": null,
      "outputs": [
        {
          "output_type": "display_data",
          "data": {
            "text/plain": "FloatProgress(value=0.0, bar_style='info', description='Progress:', layout=Layout(height='25px', width='50%'),…",
            "application/vnd.jupyter.widget-view+json": {
              "version_major": 2,
              "version_minor": 0,
              "model_id": ""
            }
          },
          "metadata": {}
        },
        {
          "output_type": "stream",
          "text": "9711301",
          "name": "stdout"
        }
      ]
    },
    {
      "metadata": {
        "trusted": true,
        "colab": {
          "referenced_widgets": [
            ""
          ]
        },
        "id": "fc88cd24",
        "outputId": "aa95efcd-de36-4ca6-c19d-b9dbc7da4c60"
      },
      "id": "fc88cd24",
      "cell_type": "code",
      "source": [
        "### CHANGE FOR EACH FILE\n",
        "path_trusted = os.path.join('s3://',bucket_trusted,output_trusted)\n",
        "print(path_trusted)\n",
        "\n",
        "lake.coalesce(1).write.parquet(path_trusted,mode='overwrite')\n",
        "#partitionBy(\"genre\",\"ts_proc_partition\"). \\\n",
        "#parquet(path_trusted,mode='overwrite')"
      ],
      "execution_count": null,
      "outputs": [
        {
          "output_type": "display_data",
          "data": {
            "text/plain": "FloatProgress(value=0.0, bar_style='info', description='Progress:', layout=Layout(height='25px', width='50%'),…",
            "application/vnd.jupyter.widget-view+json": {
              "version_major": 2,
              "version_minor": 0,
              "model_id": ""
            }
          },
          "metadata": {}
        },
        {
          "output_type": "stream",
          "text": "s3://bkt-musicstream-bi/Files/TrustedZone/trusted_user_listening_history",
          "name": "stdout"
        }
      ]
    },
    {
      "metadata": {
        "trusted": true,
        "colab": {
          "referenced_widgets": [
            ""
          ]
        },
        "id": "ulmcD7lME0eo",
        "outputId": "5f708e7a-ff4d-464d-a6ef-3527965eca59"
      },
      "cell_type": "code",
      "source": [
        "varDataFile = output_trusted"
      ],
      "execution_count": null,
      "outputs": [
        {
          "output_type": "display_data",
          "data": {
            "text/plain": "FloatProgress(value=0.0, bar_style='info', description='Progress:', layout=Layout(height='25px', width='50%'),…",
            "application/vnd.jupyter.widget-view+json": {
              "version_major": 2,
              "version_minor": 0,
              "model_id": ""
            }
          },
          "metadata": {}
        }
      ],
      "id": "ulmcD7lME0eo"
    },
    {
      "metadata": {
        "trusted": true,
        "colab": {
          "referenced_widgets": [
            ""
          ]
        },
        "id": "2baB41m3E0ep",
        "outputId": "3cd0a245-6cd0-4c24-9c90-8c8a808eabde"
      },
      "cell_type": "code",
      "source": [
        "controle = spark.sql(\n",
        "        \"\"\"\n",
        "            select\n",
        "                '{tb}' as name_file,\n",
        "                '{tb}' as name_file_partition,\n",
        "\n",
        "                --ref,\n",
        "                --ref_partition,\n",
        "\n",
        "                ts_proc,\n",
        "                ts_proc_partition,\n",
        "\n",
        "                count(*) as qtd_registros\n",
        "            from\n",
        "                lake as a\n",
        "            group by\n",
        "                1,2,3,4\n",
        "            order by\n",
        "                1,2,3,4\n",
        "        \"\"\".format(tb=varDataFile))"
      ],
      "execution_count": null,
      "outputs": [
        {
          "output_type": "display_data",
          "data": {
            "text/plain": "FloatProgress(value=0.0, bar_style='info', description='Progress:', layout=Layout(height='25px', width='50%'),…",
            "application/vnd.jupyter.widget-view+json": {
              "version_major": 2,
              "version_minor": 0,
              "model_id": ""
            }
          },
          "metadata": {}
        }
      ],
      "id": "2baB41m3E0ep"
    },
    {
      "metadata": {
        "trusted": true,
        "colab": {
          "referenced_widgets": [
            ""
          ]
        },
        "id": "HYOcdJdzE0ep",
        "outputId": "a704f205-288c-49ba-efbf-05661dfb8828"
      },
      "cell_type": "code",
      "source": [
        "path_control = os.path.join('s3://',bucket_control,'tb_0002_controle_procesamento_trusted')\n",
        "print(path_control)\n",
        "controle.coalesce(1).write.\\\n",
        "parquet(path_control,mode='append')"
      ],
      "execution_count": null,
      "outputs": [
        {
          "output_type": "display_data",
          "data": {
            "text/plain": "FloatProgress(value=0.0, bar_style='info', description='Progress:', layout=Layout(height='25px', width='50%'),…",
            "application/vnd.jupyter.widget-view+json": {
              "version_major": 2,
              "version_minor": 0,
              "model_id": ""
            }
          },
          "metadata": {}
        },
        {
          "output_type": "stream",
          "text": "s3://bkt-musicstream-bi/Files/Control/tb_0002_controle_procesamento_trusted",
          "name": "stdout"
        }
      ],
      "id": "HYOcdJdzE0ep"
    },
    {
      "metadata": {
        "trusted": true,
        "id": "e6f2bc6a"
      },
      "id": "e6f2bc6a",
      "cell_type": "code",
      "source": [
        "# End"
      ],
      "execution_count": null,
      "outputs": []
    }
  ],
  "metadata": {
    "kernelspec": {
      "name": "pysparkkernel",
      "display_name": "PySpark",
      "language": "python"
    },
    "language_info": {
      "name": "pyspark",
      "mimetype": "text/x-python",
      "codemirror_mode": {
        "name": "python",
        "version": 3
      },
      "file_extension": ".py",
      "pygments_lexer": "python3"
    },
    "colab": {
      "provenance": [],
      "include_colab_link": true
    }
  },
  "nbformat": 4,
  "nbformat_minor": 5
}