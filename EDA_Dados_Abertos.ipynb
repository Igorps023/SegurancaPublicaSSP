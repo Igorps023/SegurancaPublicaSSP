{
  "nbformat": 4,
  "nbformat_minor": 0,
  "metadata": {
    "colab": {
      "provenance": [],
      "authorship_tag": "ABX9TyMDwkUZvnggac84qvLZsPDj",
      "include_colab_link": true
    },
    "kernelspec": {
      "name": "python3",
      "display_name": "Python 3"
    },
    "language_info": {
      "name": "python"
    }
  },
  "cells": [
    {
      "cell_type": "markdown",
      "metadata": {
        "id": "view-in-github",
        "colab_type": "text"
      },
      "source": [
        "<a href=\"https://colab.research.google.com/github/Igorps023/SegurancaPublicaSSP/blob/main/EDA_Dados_Abertos.ipynb\" target=\"_parent\"><img src=\"https://colab.research.google.com/assets/colab-badge.svg\" alt=\"Open In Colab\"/></a>"
      ]
    },
    {
      "cell_type": "code",
      "source": [
        "# !pip install basedosdados # rode para instalar no Python/Jupyter\n",
        "# import basedosdados as bd"
      ],
      "metadata": {
        "id": "rPNY_3SnuYgY"
      },
      "execution_count": null,
      "outputs": []
    },
    {
      "cell_type": "code",
      "execution_count": null,
      "metadata": {
        "colab": {
          "base_uri": "https://localhost:8080/"
        },
        "id": "S8iP5iO1uMmE",
        "outputId": "569435f2-f4d0-4535-f30d-5b968e742b19"
      },
      "outputs": [
        {
          "output_type": "stream",
          "name": "stderr",
          "text": [
            "Downloading: 100%|██████████| 153876/153876 [00:21<00:00, 7008.80rows/s]\n"
          ]
        }
      ],
      "source": [
        "# # Para carregar o dado direto no pandas\n",
        "# df = bd.read_table(dataset_id='br_sp_gov_ssp',\n",
        "# table_id='ocorrencias_registradas',\n",
        "# billing_project_id=\"174045002264\")"
      ]
    },
    {
      "cell_type": "code",
      "source": [
        "# # Caminho salvar arquivo\n",
        "# file_path = '/content/dados_abertos_ssp_sp_1252.csv'"
      ],
      "metadata": {
        "id": "--e8Id4f0dmV"
      },
      "execution_count": null,
      "outputs": []
    },
    {
      "cell_type": "code",
      "source": [
        "# df.to_csv(file_path, index=False, encoding='1252')"
      ],
      "metadata": {
        "id": "mPYqAdZa0IGF"
      },
      "execution_count": null,
      "outputs": []
    },
    {
      "cell_type": "code",
      "source": [
        "import pandas as pd"
      ],
      "metadata": {
        "id": "GZnH-S89fi79"
      },
      "execution_count": null,
      "outputs": []
    },
    {
      "cell_type": "code",
      "source": [
        "df = pd.read_csv('/content/dados_ssp_sp.csv')"
      ],
      "metadata": {
        "id": "if20VKnffZUx"
      },
      "execution_count": null,
      "outputs": []
    },
    {
      "cell_type": "code",
      "source": [
        "df.shape"
      ],
      "metadata": {
        "colab": {
          "base_uri": "https://localhost:8080/"
        },
        "id": "W0RGTnRUue6L",
        "outputId": "e322d6cf-f55b-43be-cc36-b1f2f8373a0a"
      },
      "execution_count": null,
      "outputs": [
        {
          "output_type": "execute_result",
          "data": {
            "text/plain": [
              "(153876, 27)"
            ]
          },
          "metadata": {},
          "execution_count": 7
        }
      ]
    },
    {
      "cell_type": "code",
      "source": [
        "df.columns"
      ],
      "metadata": {
        "colab": {
          "base_uri": "https://localhost:8080/"
        },
        "id": "Ud5hPxpqzbal",
        "outputId": "798792cf-df1d-4e9d-a035-c421c7c60562"
      },
      "execution_count": null,
      "outputs": [
        {
          "output_type": "execute_result",
          "data": {
            "text/plain": [
              "Index(['ano', 'mes', 'id_municipio', 'regiao_ssp', 'homicidio_doloso',\n",
              "       'numero_de_vitimas_em_homicidio_doloso',\n",
              "       'homicidio_doloso_por_acidente_de_transito',\n",
              "       'numero_de_vitimas_em_homicidio_doloso_por_acidente_de_transito',\n",
              "       'homicidio_culposo_por_acidente_de_transito',\n",
              "       'homicidio_culposo_outros', 'tentativa_de_homicidio',\n",
              "       'lesao_corporal_seguida_de_morte', 'lesao_corporal_dolosa',\n",
              "       'lesao_corporal_culposa_por_acidente_de_transito',\n",
              "       'lesao_corporal_culposa_outras', 'latrocinio',\n",
              "       'numero_de_vitimas_em_latrocinio', 'total_de_estupro', 'estupro',\n",
              "       'estupro_de_vulneravel', 'total_de_roubo_outros', 'roubo_outros',\n",
              "       'roubo_de_veiculo', 'roubo_a_banco', 'roubo_de_carga', 'furto_outros',\n",
              "       'furto_de_veiculo'],\n",
              "      dtype='object')"
            ]
          },
          "metadata": {},
          "execution_count": 8
        }
      ]
    },
    {
      "cell_type": "code",
      "source": [
        "df = df.sort_values(by=['ano', 'mes', 'regiao_ssp', 'id_municipio'], ascending=[True, True, True, True])"
      ],
      "metadata": {
        "id": "2YKLWk7w2JI7"
      },
      "execution_count": null,
      "outputs": []
    },
    {
      "cell_type": "code",
      "source": [
        "df"
      ],
      "metadata": {
        "colab": {
          "base_uri": "https://localhost:8080/",
          "height": 617
        },
        "id": "E7SikzxJhr_n",
        "outputId": "2d2e2ffe-d210-4440-afcf-0faddc706eb1"
      },
      "execution_count": null,
      "outputs": [
        {
          "output_type": "execute_result",
          "data": {
            "text/plain": [
              "         ano  mes  id_municipio           regiao_ssp  homicidio_doloso  \\\n",
              "7368    2002    1       3501103            Araçatuba               0.0   \n",
              "7248    2002    1       3502101            Araçatuba               1.0   \n",
              "7152    2002    1       3502804            Araçatuba               3.0   \n",
              "6960    2002    1       3504206            Araçatuba               0.0   \n",
              "6936    2002    1       3504404            Araçatuba               0.0   \n",
              "...      ...  ...           ...                  ...               ...   \n",
              "108911  2021   12       3550704  São José dos Campos               NaN   \n",
              "108719  2021   12       3552007  São José dos Campos               NaN   \n",
              "108419  2021   12       3554102  São José dos Campos               NaN   \n",
              "108311  2021   12       3554805  São José dos Campos               NaN   \n",
              "108215  2021   12       3555406  São José dos Campos               NaN   \n",
              "\n",
              "        numero_de_vitimas_em_homicidio_doloso  \\\n",
              "7368                                      0.0   \n",
              "7248                                      1.0   \n",
              "7152                                      3.0   \n",
              "6960                                      0.0   \n",
              "6936                                      0.0   \n",
              "...                                       ...   \n",
              "108911                                    NaN   \n",
              "108719                                    NaN   \n",
              "108419                                    NaN   \n",
              "108311                                    NaN   \n",
              "108215                                    NaN   \n",
              "\n",
              "        homicidio_doloso_por_acidente_de_transito  \\\n",
              "7368                                          0.0   \n",
              "7248                                          0.0   \n",
              "7152                                          0.0   \n",
              "6960                                          0.0   \n",
              "6936                                          0.0   \n",
              "...                                           ...   \n",
              "108911                                        NaN   \n",
              "108719                                        NaN   \n",
              "108419                                        NaN   \n",
              "108311                                        NaN   \n",
              "108215                                        NaN   \n",
              "\n",
              "        numero_de_vitimas_em_homicidio_doloso_por_acidente_de_transito  \\\n",
              "7368                                                  0.0                \n",
              "7248                                                  0.0                \n",
              "7152                                                  0.0                \n",
              "6960                                                  0.0                \n",
              "6936                                                  0.0                \n",
              "...                                                   ...                \n",
              "108911                                                NaN                \n",
              "108719                                                NaN                \n",
              "108419                                                NaN                \n",
              "108311                                                NaN                \n",
              "108215                                                NaN                \n",
              "\n",
              "        homicidio_culposo_por_acidente_de_transito  homicidio_culposo_outros  \\\n",
              "7368                                           0.0                       0.0   \n",
              "7248                                           1.0                       0.0   \n",
              "7152                                           0.0                       0.0   \n",
              "6960                                           0.0                       0.0   \n",
              "6936                                           0.0                       0.0   \n",
              "...                                            ...                       ...   \n",
              "108911                                         NaN                       NaN   \n",
              "108719                                         NaN                       NaN   \n",
              "108419                                         NaN                       NaN   \n",
              "108311                                         NaN                       NaN   \n",
              "108215                                         NaN                       NaN   \n",
              "\n",
              "        ...  total_de_estupro  estupro  estupro_de_vulneravel  \\\n",
              "7368    ...               0.0      NaN                    NaN   \n",
              "7248    ...               0.0      NaN                    NaN   \n",
              "7152    ...               1.0      NaN                    NaN   \n",
              "6960    ...               0.0      NaN                    NaN   \n",
              "6936    ...               0.0      NaN                    NaN   \n",
              "...     ...               ...      ...                    ...   \n",
              "108911  ...               NaN      NaN                    NaN   \n",
              "108719  ...               NaN      NaN                    NaN   \n",
              "108419  ...               NaN      NaN                    NaN   \n",
              "108311  ...               NaN      NaN                    NaN   \n",
              "108215  ...               NaN      NaN                    NaN   \n",
              "\n",
              "        total_de_roubo_outros  roubo_outros  roubo_de_veiculo  roubo_a_banco  \\\n",
              "7368                      0.0           NaN               0.0            0.0   \n",
              "7248                      3.0           NaN               0.0            0.0   \n",
              "7152                     88.0           NaN               6.0            0.0   \n",
              "6960                      1.0           NaN               0.0            0.0   \n",
              "6936                      0.0           NaN               0.0            0.0   \n",
              "...                       ...           ...               ...            ...   \n",
              "108911                    NaN           NaN               NaN            NaN   \n",
              "108719                    NaN           NaN               NaN            NaN   \n",
              "108419                    NaN           NaN               NaN            NaN   \n",
              "108311                    NaN           NaN               NaN            NaN   \n",
              "108215                    NaN           NaN               NaN            NaN   \n",
              "\n",
              "        roubo_de_carga  furto_outros  furto_de_veiculo  \n",
              "7368               0.0           1.0               0.0  \n",
              "7248               0.0          78.0               0.0  \n",
              "7152               0.0         404.0              25.0  \n",
              "6960               0.0           3.0               1.0  \n",
              "6936               0.0          13.0               0.0  \n",
              "...                ...           ...               ...  \n",
              "108911             NaN           NaN               NaN  \n",
              "108719             NaN           NaN               NaN  \n",
              "108419             NaN           NaN               NaN  \n",
              "108311             NaN           NaN               NaN  \n",
              "108215             NaN           NaN               NaN  \n",
              "\n",
              "[153876 rows x 27 columns]"
            ],
            "text/html": [
              "\n",
              "  <div id=\"df-9b865212-829e-466e-8aa9-71ab9d0e5a94\" class=\"colab-df-container\">\n",
              "    <div>\n",
              "<style scoped>\n",
              "    .dataframe tbody tr th:only-of-type {\n",
              "        vertical-align: middle;\n",
              "    }\n",
              "\n",
              "    .dataframe tbody tr th {\n",
              "        vertical-align: top;\n",
              "    }\n",
              "\n",
              "    .dataframe thead th {\n",
              "        text-align: right;\n",
              "    }\n",
              "</style>\n",
              "<table border=\"1\" class=\"dataframe\">\n",
              "  <thead>\n",
              "    <tr style=\"text-align: right;\">\n",
              "      <th></th>\n",
              "      <th>ano</th>\n",
              "      <th>mes</th>\n",
              "      <th>id_municipio</th>\n",
              "      <th>regiao_ssp</th>\n",
              "      <th>homicidio_doloso</th>\n",
              "      <th>numero_de_vitimas_em_homicidio_doloso</th>\n",
              "      <th>homicidio_doloso_por_acidente_de_transito</th>\n",
              "      <th>numero_de_vitimas_em_homicidio_doloso_por_acidente_de_transito</th>\n",
              "      <th>homicidio_culposo_por_acidente_de_transito</th>\n",
              "      <th>homicidio_culposo_outros</th>\n",
              "      <th>...</th>\n",
              "      <th>total_de_estupro</th>\n",
              "      <th>estupro</th>\n",
              "      <th>estupro_de_vulneravel</th>\n",
              "      <th>total_de_roubo_outros</th>\n",
              "      <th>roubo_outros</th>\n",
              "      <th>roubo_de_veiculo</th>\n",
              "      <th>roubo_a_banco</th>\n",
              "      <th>roubo_de_carga</th>\n",
              "      <th>furto_outros</th>\n",
              "      <th>furto_de_veiculo</th>\n",
              "    </tr>\n",
              "  </thead>\n",
              "  <tbody>\n",
              "    <tr>\n",
              "      <th>7368</th>\n",
              "      <td>2002</td>\n",
              "      <td>1</td>\n",
              "      <td>3501103</td>\n",
              "      <td>Araçatuba</td>\n",
              "      <td>0.0</td>\n",
              "      <td>0.0</td>\n",
              "      <td>0.0</td>\n",
              "      <td>0.0</td>\n",
              "      <td>0.0</td>\n",
              "      <td>0.0</td>\n",
              "      <td>...</td>\n",
              "      <td>0.0</td>\n",
              "      <td>NaN</td>\n",
              "      <td>NaN</td>\n",
              "      <td>0.0</td>\n",
              "      <td>NaN</td>\n",
              "      <td>0.0</td>\n",
              "      <td>0.0</td>\n",
              "      <td>0.0</td>\n",
              "      <td>1.0</td>\n",
              "      <td>0.0</td>\n",
              "    </tr>\n",
              "    <tr>\n",
              "      <th>7248</th>\n",
              "      <td>2002</td>\n",
              "      <td>1</td>\n",
              "      <td>3502101</td>\n",
              "      <td>Araçatuba</td>\n",
              "      <td>1.0</td>\n",
              "      <td>1.0</td>\n",
              "      <td>0.0</td>\n",
              "      <td>0.0</td>\n",
              "      <td>1.0</td>\n",
              "      <td>0.0</td>\n",
              "      <td>...</td>\n",
              "      <td>0.0</td>\n",
              "      <td>NaN</td>\n",
              "      <td>NaN</td>\n",
              "      <td>3.0</td>\n",
              "      <td>NaN</td>\n",
              "      <td>0.0</td>\n",
              "      <td>0.0</td>\n",
              "      <td>0.0</td>\n",
              "      <td>78.0</td>\n",
              "      <td>0.0</td>\n",
              "    </tr>\n",
              "    <tr>\n",
              "      <th>7152</th>\n",
              "      <td>2002</td>\n",
              "      <td>1</td>\n",
              "      <td>3502804</td>\n",
              "      <td>Araçatuba</td>\n",
              "      <td>3.0</td>\n",
              "      <td>3.0</td>\n",
              "      <td>0.0</td>\n",
              "      <td>0.0</td>\n",
              "      <td>0.0</td>\n",
              "      <td>0.0</td>\n",
              "      <td>...</td>\n",
              "      <td>1.0</td>\n",
              "      <td>NaN</td>\n",
              "      <td>NaN</td>\n",
              "      <td>88.0</td>\n",
              "      <td>NaN</td>\n",
              "      <td>6.0</td>\n",
              "      <td>0.0</td>\n",
              "      <td>0.0</td>\n",
              "      <td>404.0</td>\n",
              "      <td>25.0</td>\n",
              "    </tr>\n",
              "    <tr>\n",
              "      <th>6960</th>\n",
              "      <td>2002</td>\n",
              "      <td>1</td>\n",
              "      <td>3504206</td>\n",
              "      <td>Araçatuba</td>\n",
              "      <td>0.0</td>\n",
              "      <td>0.0</td>\n",
              "      <td>0.0</td>\n",
              "      <td>0.0</td>\n",
              "      <td>0.0</td>\n",
              "      <td>0.0</td>\n",
              "      <td>...</td>\n",
              "      <td>0.0</td>\n",
              "      <td>NaN</td>\n",
              "      <td>NaN</td>\n",
              "      <td>1.0</td>\n",
              "      <td>NaN</td>\n",
              "      <td>0.0</td>\n",
              "      <td>0.0</td>\n",
              "      <td>0.0</td>\n",
              "      <td>3.0</td>\n",
              "      <td>1.0</td>\n",
              "    </tr>\n",
              "    <tr>\n",
              "      <th>6936</th>\n",
              "      <td>2002</td>\n",
              "      <td>1</td>\n",
              "      <td>3504404</td>\n",
              "      <td>Araçatuba</td>\n",
              "      <td>0.0</td>\n",
              "      <td>0.0</td>\n",
              "      <td>0.0</td>\n",
              "      <td>0.0</td>\n",
              "      <td>0.0</td>\n",
              "      <td>0.0</td>\n",
              "      <td>...</td>\n",
              "      <td>0.0</td>\n",
              "      <td>NaN</td>\n",
              "      <td>NaN</td>\n",
              "      <td>0.0</td>\n",
              "      <td>NaN</td>\n",
              "      <td>0.0</td>\n",
              "      <td>0.0</td>\n",
              "      <td>0.0</td>\n",
              "      <td>13.0</td>\n",
              "      <td>0.0</td>\n",
              "    </tr>\n",
              "    <tr>\n",
              "      <th>...</th>\n",
              "      <td>...</td>\n",
              "      <td>...</td>\n",
              "      <td>...</td>\n",
              "      <td>...</td>\n",
              "      <td>...</td>\n",
              "      <td>...</td>\n",
              "      <td>...</td>\n",
              "      <td>...</td>\n",
              "      <td>...</td>\n",
              "      <td>...</td>\n",
              "      <td>...</td>\n",
              "      <td>...</td>\n",
              "      <td>...</td>\n",
              "      <td>...</td>\n",
              "      <td>...</td>\n",
              "      <td>...</td>\n",
              "      <td>...</td>\n",
              "      <td>...</td>\n",
              "      <td>...</td>\n",
              "      <td>...</td>\n",
              "      <td>...</td>\n",
              "    </tr>\n",
              "    <tr>\n",
              "      <th>108911</th>\n",
              "      <td>2021</td>\n",
              "      <td>12</td>\n",
              "      <td>3550704</td>\n",
              "      <td>São José dos Campos</td>\n",
              "      <td>NaN</td>\n",
              "      <td>NaN</td>\n",
              "      <td>NaN</td>\n",
              "      <td>NaN</td>\n",
              "      <td>NaN</td>\n",
              "      <td>NaN</td>\n",
              "      <td>...</td>\n",
              "      <td>NaN</td>\n",
              "      <td>NaN</td>\n",
              "      <td>NaN</td>\n",
              "      <td>NaN</td>\n",
              "      <td>NaN</td>\n",
              "      <td>NaN</td>\n",
              "      <td>NaN</td>\n",
              "      <td>NaN</td>\n",
              "      <td>NaN</td>\n",
              "      <td>NaN</td>\n",
              "    </tr>\n",
              "    <tr>\n",
              "      <th>108719</th>\n",
              "      <td>2021</td>\n",
              "      <td>12</td>\n",
              "      <td>3552007</td>\n",
              "      <td>São José dos Campos</td>\n",
              "      <td>NaN</td>\n",
              "      <td>NaN</td>\n",
              "      <td>NaN</td>\n",
              "      <td>NaN</td>\n",
              "      <td>NaN</td>\n",
              "      <td>NaN</td>\n",
              "      <td>...</td>\n",
              "      <td>NaN</td>\n",
              "      <td>NaN</td>\n",
              "      <td>NaN</td>\n",
              "      <td>NaN</td>\n",
              "      <td>NaN</td>\n",
              "      <td>NaN</td>\n",
              "      <td>NaN</td>\n",
              "      <td>NaN</td>\n",
              "      <td>NaN</td>\n",
              "      <td>NaN</td>\n",
              "    </tr>\n",
              "    <tr>\n",
              "      <th>108419</th>\n",
              "      <td>2021</td>\n",
              "      <td>12</td>\n",
              "      <td>3554102</td>\n",
              "      <td>São José dos Campos</td>\n",
              "      <td>NaN</td>\n",
              "      <td>NaN</td>\n",
              "      <td>NaN</td>\n",
              "      <td>NaN</td>\n",
              "      <td>NaN</td>\n",
              "      <td>NaN</td>\n",
              "      <td>...</td>\n",
              "      <td>NaN</td>\n",
              "      <td>NaN</td>\n",
              "      <td>NaN</td>\n",
              "      <td>NaN</td>\n",
              "      <td>NaN</td>\n",
              "      <td>NaN</td>\n",
              "      <td>NaN</td>\n",
              "      <td>NaN</td>\n",
              "      <td>NaN</td>\n",
              "      <td>NaN</td>\n",
              "    </tr>\n",
              "    <tr>\n",
              "      <th>108311</th>\n",
              "      <td>2021</td>\n",
              "      <td>12</td>\n",
              "      <td>3554805</td>\n",
              "      <td>São José dos Campos</td>\n",
              "      <td>NaN</td>\n",
              "      <td>NaN</td>\n",
              "      <td>NaN</td>\n",
              "      <td>NaN</td>\n",
              "      <td>NaN</td>\n",
              "      <td>NaN</td>\n",
              "      <td>...</td>\n",
              "      <td>NaN</td>\n",
              "      <td>NaN</td>\n",
              "      <td>NaN</td>\n",
              "      <td>NaN</td>\n",
              "      <td>NaN</td>\n",
              "      <td>NaN</td>\n",
              "      <td>NaN</td>\n",
              "      <td>NaN</td>\n",
              "      <td>NaN</td>\n",
              "      <td>NaN</td>\n",
              "    </tr>\n",
              "    <tr>\n",
              "      <th>108215</th>\n",
              "      <td>2021</td>\n",
              "      <td>12</td>\n",
              "      <td>3555406</td>\n",
              "      <td>São José dos Campos</td>\n",
              "      <td>NaN</td>\n",
              "      <td>NaN</td>\n",
              "      <td>NaN</td>\n",
              "      <td>NaN</td>\n",
              "      <td>NaN</td>\n",
              "      <td>NaN</td>\n",
              "      <td>...</td>\n",
              "      <td>NaN</td>\n",
              "      <td>NaN</td>\n",
              "      <td>NaN</td>\n",
              "      <td>NaN</td>\n",
              "      <td>NaN</td>\n",
              "      <td>NaN</td>\n",
              "      <td>NaN</td>\n",
              "      <td>NaN</td>\n",
              "      <td>NaN</td>\n",
              "      <td>NaN</td>\n",
              "    </tr>\n",
              "  </tbody>\n",
              "</table>\n",
              "<p>153876 rows × 27 columns</p>\n",
              "</div>\n",
              "    <div class=\"colab-df-buttons\">\n",
              "\n",
              "  <div class=\"colab-df-container\">\n",
              "    <button class=\"colab-df-convert\" onclick=\"convertToInteractive('df-9b865212-829e-466e-8aa9-71ab9d0e5a94')\"\n",
              "            title=\"Convert this dataframe to an interactive table.\"\n",
              "            style=\"display:none;\">\n",
              "\n",
              "  <svg xmlns=\"http://www.w3.org/2000/svg\" height=\"24px\" viewBox=\"0 -960 960 960\">\n",
              "    <path d=\"M120-120v-720h720v720H120Zm60-500h600v-160H180v160Zm220 220h160v-160H400v160Zm0 220h160v-160H400v160ZM180-400h160v-160H180v160Zm440 0h160v-160H620v160ZM180-180h160v-160H180v160Zm440 0h160v-160H620v160Z\"/>\n",
              "  </svg>\n",
              "    </button>\n",
              "\n",
              "  <style>\n",
              "    .colab-df-container {\n",
              "      display:flex;\n",
              "      gap: 12px;\n",
              "    }\n",
              "\n",
              "    .colab-df-convert {\n",
              "      background-color: #E8F0FE;\n",
              "      border: none;\n",
              "      border-radius: 50%;\n",
              "      cursor: pointer;\n",
              "      display: none;\n",
              "      fill: #1967D2;\n",
              "      height: 32px;\n",
              "      padding: 0 0 0 0;\n",
              "      width: 32px;\n",
              "    }\n",
              "\n",
              "    .colab-df-convert:hover {\n",
              "      background-color: #E2EBFA;\n",
              "      box-shadow: 0px 1px 2px rgba(60, 64, 67, 0.3), 0px 1px 3px 1px rgba(60, 64, 67, 0.15);\n",
              "      fill: #174EA6;\n",
              "    }\n",
              "\n",
              "    .colab-df-buttons div {\n",
              "      margin-bottom: 4px;\n",
              "    }\n",
              "\n",
              "    [theme=dark] .colab-df-convert {\n",
              "      background-color: #3B4455;\n",
              "      fill: #D2E3FC;\n",
              "    }\n",
              "\n",
              "    [theme=dark] .colab-df-convert:hover {\n",
              "      background-color: #434B5C;\n",
              "      box-shadow: 0px 1px 3px 1px rgba(0, 0, 0, 0.15);\n",
              "      filter: drop-shadow(0px 1px 2px rgba(0, 0, 0, 0.3));\n",
              "      fill: #FFFFFF;\n",
              "    }\n",
              "  </style>\n",
              "\n",
              "    <script>\n",
              "      const buttonEl =\n",
              "        document.querySelector('#df-9b865212-829e-466e-8aa9-71ab9d0e5a94 button.colab-df-convert');\n",
              "      buttonEl.style.display =\n",
              "        google.colab.kernel.accessAllowed ? 'block' : 'none';\n",
              "\n",
              "      async function convertToInteractive(key) {\n",
              "        const element = document.querySelector('#df-9b865212-829e-466e-8aa9-71ab9d0e5a94');\n",
              "        const dataTable =\n",
              "          await google.colab.kernel.invokeFunction('convertToInteractive',\n",
              "                                                    [key], {});\n",
              "        if (!dataTable) return;\n",
              "\n",
              "        const docLinkHtml = 'Like what you see? Visit the ' +\n",
              "          '<a target=\"_blank\" href=https://colab.research.google.com/notebooks/data_table.ipynb>data table notebook</a>'\n",
              "          + ' to learn more about interactive tables.';\n",
              "        element.innerHTML = '';\n",
              "        dataTable['output_type'] = 'display_data';\n",
              "        await google.colab.output.renderOutput(dataTable, element);\n",
              "        const docLink = document.createElement('div');\n",
              "        docLink.innerHTML = docLinkHtml;\n",
              "        element.appendChild(docLink);\n",
              "      }\n",
              "    </script>\n",
              "  </div>\n",
              "\n",
              "\n",
              "<div id=\"df-9058534d-c1db-40ce-a65c-8d24206a1c01\">\n",
              "  <button class=\"colab-df-quickchart\" onclick=\"quickchart('df-9058534d-c1db-40ce-a65c-8d24206a1c01')\"\n",
              "            title=\"Suggest charts\"\n",
              "            style=\"display:none;\">\n",
              "\n",
              "<svg xmlns=\"http://www.w3.org/2000/svg\" height=\"24px\"viewBox=\"0 0 24 24\"\n",
              "     width=\"24px\">\n",
              "    <g>\n",
              "        <path d=\"M19 3H5c-1.1 0-2 .9-2 2v14c0 1.1.9 2 2 2h14c1.1 0 2-.9 2-2V5c0-1.1-.9-2-2-2zM9 17H7v-7h2v7zm4 0h-2V7h2v10zm4 0h-2v-4h2v4z\"/>\n",
              "    </g>\n",
              "</svg>\n",
              "  </button>\n",
              "\n",
              "<style>\n",
              "  .colab-df-quickchart {\n",
              "      --bg-color: #E8F0FE;\n",
              "      --fill-color: #1967D2;\n",
              "      --hover-bg-color: #E2EBFA;\n",
              "      --hover-fill-color: #174EA6;\n",
              "      --disabled-fill-color: #AAA;\n",
              "      --disabled-bg-color: #DDD;\n",
              "  }\n",
              "\n",
              "  [theme=dark] .colab-df-quickchart {\n",
              "      --bg-color: #3B4455;\n",
              "      --fill-color: #D2E3FC;\n",
              "      --hover-bg-color: #434B5C;\n",
              "      --hover-fill-color: #FFFFFF;\n",
              "      --disabled-bg-color: #3B4455;\n",
              "      --disabled-fill-color: #666;\n",
              "  }\n",
              "\n",
              "  .colab-df-quickchart {\n",
              "    background-color: var(--bg-color);\n",
              "    border: none;\n",
              "    border-radius: 50%;\n",
              "    cursor: pointer;\n",
              "    display: none;\n",
              "    fill: var(--fill-color);\n",
              "    height: 32px;\n",
              "    padding: 0;\n",
              "    width: 32px;\n",
              "  }\n",
              "\n",
              "  .colab-df-quickchart:hover {\n",
              "    background-color: var(--hover-bg-color);\n",
              "    box-shadow: 0 1px 2px rgba(60, 64, 67, 0.3), 0 1px 3px 1px rgba(60, 64, 67, 0.15);\n",
              "    fill: var(--button-hover-fill-color);\n",
              "  }\n",
              "\n",
              "  .colab-df-quickchart-complete:disabled,\n",
              "  .colab-df-quickchart-complete:disabled:hover {\n",
              "    background-color: var(--disabled-bg-color);\n",
              "    fill: var(--disabled-fill-color);\n",
              "    box-shadow: none;\n",
              "  }\n",
              "\n",
              "  .colab-df-spinner {\n",
              "    border: 2px solid var(--fill-color);\n",
              "    border-color: transparent;\n",
              "    border-bottom-color: var(--fill-color);\n",
              "    animation:\n",
              "      spin 1s steps(1) infinite;\n",
              "  }\n",
              "\n",
              "  @keyframes spin {\n",
              "    0% {\n",
              "      border-color: transparent;\n",
              "      border-bottom-color: var(--fill-color);\n",
              "      border-left-color: var(--fill-color);\n",
              "    }\n",
              "    20% {\n",
              "      border-color: transparent;\n",
              "      border-left-color: var(--fill-color);\n",
              "      border-top-color: var(--fill-color);\n",
              "    }\n",
              "    30% {\n",
              "      border-color: transparent;\n",
              "      border-left-color: var(--fill-color);\n",
              "      border-top-color: var(--fill-color);\n",
              "      border-right-color: var(--fill-color);\n",
              "    }\n",
              "    40% {\n",
              "      border-color: transparent;\n",
              "      border-right-color: var(--fill-color);\n",
              "      border-top-color: var(--fill-color);\n",
              "    }\n",
              "    60% {\n",
              "      border-color: transparent;\n",
              "      border-right-color: var(--fill-color);\n",
              "    }\n",
              "    80% {\n",
              "      border-color: transparent;\n",
              "      border-right-color: var(--fill-color);\n",
              "      border-bottom-color: var(--fill-color);\n",
              "    }\n",
              "    90% {\n",
              "      border-color: transparent;\n",
              "      border-bottom-color: var(--fill-color);\n",
              "    }\n",
              "  }\n",
              "</style>\n",
              "\n",
              "  <script>\n",
              "    async function quickchart(key) {\n",
              "      const quickchartButtonEl =\n",
              "        document.querySelector('#' + key + ' button');\n",
              "      quickchartButtonEl.disabled = true;  // To prevent multiple clicks.\n",
              "      quickchartButtonEl.classList.add('colab-df-spinner');\n",
              "      try {\n",
              "        const charts = await google.colab.kernel.invokeFunction(\n",
              "            'suggestCharts', [key], {});\n",
              "      } catch (error) {\n",
              "        console.error('Error during call to suggestCharts:', error);\n",
              "      }\n",
              "      quickchartButtonEl.classList.remove('colab-df-spinner');\n",
              "      quickchartButtonEl.classList.add('colab-df-quickchart-complete');\n",
              "    }\n",
              "    (() => {\n",
              "      let quickchartButtonEl =\n",
              "        document.querySelector('#df-9058534d-c1db-40ce-a65c-8d24206a1c01 button');\n",
              "      quickchartButtonEl.style.display =\n",
              "        google.colab.kernel.accessAllowed ? 'block' : 'none';\n",
              "    })();\n",
              "  </script>\n",
              "</div>\n",
              "\n",
              "  <div id=\"id_d3e38880-3b91-46b5-b319-d49103dd52a1\">\n",
              "    <style>\n",
              "      .colab-df-generate {\n",
              "        background-color: #E8F0FE;\n",
              "        border: none;\n",
              "        border-radius: 50%;\n",
              "        cursor: pointer;\n",
              "        display: none;\n",
              "        fill: #1967D2;\n",
              "        height: 32px;\n",
              "        padding: 0 0 0 0;\n",
              "        width: 32px;\n",
              "      }\n",
              "\n",
              "      .colab-df-generate:hover {\n",
              "        background-color: #E2EBFA;\n",
              "        box-shadow: 0px 1px 2px rgba(60, 64, 67, 0.3), 0px 1px 3px 1px rgba(60, 64, 67, 0.15);\n",
              "        fill: #174EA6;\n",
              "      }\n",
              "\n",
              "      [theme=dark] .colab-df-generate {\n",
              "        background-color: #3B4455;\n",
              "        fill: #D2E3FC;\n",
              "      }\n",
              "\n",
              "      [theme=dark] .colab-df-generate:hover {\n",
              "        background-color: #434B5C;\n",
              "        box-shadow: 0px 1px 3px 1px rgba(0, 0, 0, 0.15);\n",
              "        filter: drop-shadow(0px 1px 2px rgba(0, 0, 0, 0.3));\n",
              "        fill: #FFFFFF;\n",
              "      }\n",
              "    </style>\n",
              "    <button class=\"colab-df-generate\" onclick=\"generateWithVariable('df')\"\n",
              "            title=\"Generate code using this dataframe.\"\n",
              "            style=\"display:none;\">\n",
              "\n",
              "  <svg xmlns=\"http://www.w3.org/2000/svg\" height=\"24px\"viewBox=\"0 0 24 24\"\n",
              "       width=\"24px\">\n",
              "    <path d=\"M7,19H8.4L18.45,9,17,7.55,7,17.6ZM5,21V16.75L18.45,3.32a2,2,0,0,1,2.83,0l1.4,1.43a1.91,1.91,0,0,1,.58,1.4,1.91,1.91,0,0,1-.58,1.4L9.25,21ZM18.45,9,17,7.55Zm-12,3A5.31,5.31,0,0,0,4.9,8.1,5.31,5.31,0,0,0,1,6.5,5.31,5.31,0,0,0,4.9,4.9,5.31,5.31,0,0,0,6.5,1,5.31,5.31,0,0,0,8.1,4.9,5.31,5.31,0,0,0,12,6.5,5.46,5.46,0,0,0,6.5,12Z\"/>\n",
              "  </svg>\n",
              "    </button>\n",
              "    <script>\n",
              "      (() => {\n",
              "      const buttonEl =\n",
              "        document.querySelector('#id_d3e38880-3b91-46b5-b319-d49103dd52a1 button.colab-df-generate');\n",
              "      buttonEl.style.display =\n",
              "        google.colab.kernel.accessAllowed ? 'block' : 'none';\n",
              "\n",
              "      buttonEl.onclick = () => {\n",
              "        google.colab.notebook.generateWithVariable('df');\n",
              "      }\n",
              "      })();\n",
              "    </script>\n",
              "  </div>\n",
              "\n",
              "    </div>\n",
              "  </div>\n"
            ]
          },
          "metadata": {},
          "execution_count": 17
        }
      ]
    },
    {
      "cell_type": "code",
      "source": [
        "filtro_df = df[ (df['ano'] == 2002) & (df['regiao_ssp'] == 'Araçatuba') & (df['id_municipio'] == 3501103)  ]"
      ],
      "metadata": {
        "id": "Mw2T_pMq2KB5"
      },
      "execution_count": null,
      "outputs": []
    },
    {
      "cell_type": "code",
      "source": [
        "outras_colunas = filtro_df.columns[4:]\n",
        "outras_colunas"
      ],
      "metadata": {
        "colab": {
          "base_uri": "https://localhost:8080/"
        },
        "id": "ZNzqtVFtlfNy",
        "outputId": "18f53390-ddf5-4369-a64b-fa5d042a48c6"
      },
      "execution_count": null,
      "outputs": [
        {
          "output_type": "execute_result",
          "data": {
            "text/plain": [
              "Index(['homicidio_doloso', 'numero_de_vitimas_em_homicidio_doloso',\n",
              "       'homicidio_doloso_por_acidente_de_transito',\n",
              "       'numero_de_vitimas_em_homicidio_doloso_por_acidente_de_transito',\n",
              "       'homicidio_culposo_por_acidente_de_transito',\n",
              "       'homicidio_culposo_outros', 'tentativa_de_homicidio',\n",
              "       'lesao_corporal_seguida_de_morte', 'lesao_corporal_dolosa',\n",
              "       'lesao_corporal_culposa_por_acidente_de_transito',\n",
              "       'lesao_corporal_culposa_outras', 'latrocinio',\n",
              "       'numero_de_vitimas_em_latrocinio', 'total_de_estupro', 'estupro',\n",
              "       'estupro_de_vulneravel', 'total_de_roubo_outros', 'roubo_outros',\n",
              "       'roubo_de_veiculo', 'roubo_a_banco', 'roubo_de_carga', 'furto_outros',\n",
              "       'furto_de_veiculo'],\n",
              "      dtype='object')"
            ]
          },
          "metadata": {},
          "execution_count": 32
        }
      ]
    },
    {
      "cell_type": "code",
      "source": [
        "# pivotar = filtro_df.melt(id_vars=['ano', 'mes', 'regiao_ssp','id_municipio'], var_name='crimes', value_vars='value' )\n",
        "# pivotar.sort_values(by=['value'], ascending=[False])\n",
        "# pivotar.shape"
      ],
      "metadata": {
        "id": "S7o0NYcOha3M"
      },
      "execution_count": null,
      "outputs": []
    },
    {
      "cell_type": "code",
      "source": [
        "outras_colunas = filtro_df.columns[4:]\n",
        "melted_df = filtro_df.melt(id_vars=['ano', 'mes', 'regiao_ssp', 'id_municipio'], value_vars=outras_colunas, var_name='crime', value_name='value')\n",
        "melted_df.sort_values(by=['value'], ascending=[False], inplace=True)\n",
        "print(melted_df.shape)\n"
      ],
      "metadata": {
        "colab": {
          "base_uri": "https://localhost:8080/"
        },
        "id": "v6K8uhOclwUI",
        "outputId": "b5b031c1-ea3c-4c49-a3a3-6ef20fb939b4"
      },
      "execution_count": null,
      "outputs": [
        {
          "output_type": "stream",
          "name": "stdout",
          "text": [
            "(276, 6)\n"
          ]
        }
      ]
    },
    {
      "cell_type": "code",
      "source": [
        "melted_df"
      ],
      "metadata": {
        "id": "wMKw_nwHi12H",
        "colab": {
          "base_uri": "https://localhost:8080/",
          "height": 423
        },
        "outputId": "5f00e19c-2d63-4784-b0de-d0883c7a6ef3"
      },
      "execution_count": null,
      "outputs": [
        {
          "output_type": "execute_result",
          "data": {
            "text/plain": [
              "      ano  mes regiao_ssp  id_municipio         crime  value\n",
              "262  2002   11  Araçatuba       3501103  furto_outros    6.0\n",
              "260  2002    9  Araçatuba       3501103  furto_outros    6.0\n",
              "261  2002   10  Araçatuba       3501103  furto_outros    6.0\n",
              "263  2002   12  Araçatuba       3501103  furto_outros    5.0\n",
              "253  2002    2  Araçatuba       3501103  furto_outros    5.0\n",
              "..    ...  ...        ...           ...           ...    ...\n",
              "211  2002    8  Araçatuba       3501103  roubo_outros    NaN\n",
              "212  2002    9  Araçatuba       3501103  roubo_outros    NaN\n",
              "213  2002   10  Araçatuba       3501103  roubo_outros    NaN\n",
              "214  2002   11  Araçatuba       3501103  roubo_outros    NaN\n",
              "215  2002   12  Araçatuba       3501103  roubo_outros    NaN\n",
              "\n",
              "[276 rows x 6 columns]"
            ],
            "text/html": [
              "\n",
              "  <div id=\"df-de51bb7a-4e8e-483e-b23c-3392fdcb584b\" class=\"colab-df-container\">\n",
              "    <div>\n",
              "<style scoped>\n",
              "    .dataframe tbody tr th:only-of-type {\n",
              "        vertical-align: middle;\n",
              "    }\n",
              "\n",
              "    .dataframe tbody tr th {\n",
              "        vertical-align: top;\n",
              "    }\n",
              "\n",
              "    .dataframe thead th {\n",
              "        text-align: right;\n",
              "    }\n",
              "</style>\n",
              "<table border=\"1\" class=\"dataframe\">\n",
              "  <thead>\n",
              "    <tr style=\"text-align: right;\">\n",
              "      <th></th>\n",
              "      <th>ano</th>\n",
              "      <th>mes</th>\n",
              "      <th>regiao_ssp</th>\n",
              "      <th>id_municipio</th>\n",
              "      <th>crime</th>\n",
              "      <th>value</th>\n",
              "    </tr>\n",
              "  </thead>\n",
              "  <tbody>\n",
              "    <tr>\n",
              "      <th>262</th>\n",
              "      <td>2002</td>\n",
              "      <td>11</td>\n",
              "      <td>Araçatuba</td>\n",
              "      <td>3501103</td>\n",
              "      <td>furto_outros</td>\n",
              "      <td>6.0</td>\n",
              "    </tr>\n",
              "    <tr>\n",
              "      <th>260</th>\n",
              "      <td>2002</td>\n",
              "      <td>9</td>\n",
              "      <td>Araçatuba</td>\n",
              "      <td>3501103</td>\n",
              "      <td>furto_outros</td>\n",
              "      <td>6.0</td>\n",
              "    </tr>\n",
              "    <tr>\n",
              "      <th>261</th>\n",
              "      <td>2002</td>\n",
              "      <td>10</td>\n",
              "      <td>Araçatuba</td>\n",
              "      <td>3501103</td>\n",
              "      <td>furto_outros</td>\n",
              "      <td>6.0</td>\n",
              "    </tr>\n",
              "    <tr>\n",
              "      <th>263</th>\n",
              "      <td>2002</td>\n",
              "      <td>12</td>\n",
              "      <td>Araçatuba</td>\n",
              "      <td>3501103</td>\n",
              "      <td>furto_outros</td>\n",
              "      <td>5.0</td>\n",
              "    </tr>\n",
              "    <tr>\n",
              "      <th>253</th>\n",
              "      <td>2002</td>\n",
              "      <td>2</td>\n",
              "      <td>Araçatuba</td>\n",
              "      <td>3501103</td>\n",
              "      <td>furto_outros</td>\n",
              "      <td>5.0</td>\n",
              "    </tr>\n",
              "    <tr>\n",
              "      <th>...</th>\n",
              "      <td>...</td>\n",
              "      <td>...</td>\n",
              "      <td>...</td>\n",
              "      <td>...</td>\n",
              "      <td>...</td>\n",
              "      <td>...</td>\n",
              "    </tr>\n",
              "    <tr>\n",
              "      <th>211</th>\n",
              "      <td>2002</td>\n",
              "      <td>8</td>\n",
              "      <td>Araçatuba</td>\n",
              "      <td>3501103</td>\n",
              "      <td>roubo_outros</td>\n",
              "      <td>NaN</td>\n",
              "    </tr>\n",
              "    <tr>\n",
              "      <th>212</th>\n",
              "      <td>2002</td>\n",
              "      <td>9</td>\n",
              "      <td>Araçatuba</td>\n",
              "      <td>3501103</td>\n",
              "      <td>roubo_outros</td>\n",
              "      <td>NaN</td>\n",
              "    </tr>\n",
              "    <tr>\n",
              "      <th>213</th>\n",
              "      <td>2002</td>\n",
              "      <td>10</td>\n",
              "      <td>Araçatuba</td>\n",
              "      <td>3501103</td>\n",
              "      <td>roubo_outros</td>\n",
              "      <td>NaN</td>\n",
              "    </tr>\n",
              "    <tr>\n",
              "      <th>214</th>\n",
              "      <td>2002</td>\n",
              "      <td>11</td>\n",
              "      <td>Araçatuba</td>\n",
              "      <td>3501103</td>\n",
              "      <td>roubo_outros</td>\n",
              "      <td>NaN</td>\n",
              "    </tr>\n",
              "    <tr>\n",
              "      <th>215</th>\n",
              "      <td>2002</td>\n",
              "      <td>12</td>\n",
              "      <td>Araçatuba</td>\n",
              "      <td>3501103</td>\n",
              "      <td>roubo_outros</td>\n",
              "      <td>NaN</td>\n",
              "    </tr>\n",
              "  </tbody>\n",
              "</table>\n",
              "<p>276 rows × 6 columns</p>\n",
              "</div>\n",
              "    <div class=\"colab-df-buttons\">\n",
              "\n",
              "  <div class=\"colab-df-container\">\n",
              "    <button class=\"colab-df-convert\" onclick=\"convertToInteractive('df-de51bb7a-4e8e-483e-b23c-3392fdcb584b')\"\n",
              "            title=\"Convert this dataframe to an interactive table.\"\n",
              "            style=\"display:none;\">\n",
              "\n",
              "  <svg xmlns=\"http://www.w3.org/2000/svg\" height=\"24px\" viewBox=\"0 -960 960 960\">\n",
              "    <path d=\"M120-120v-720h720v720H120Zm60-500h600v-160H180v160Zm220 220h160v-160H400v160Zm0 220h160v-160H400v160ZM180-400h160v-160H180v160Zm440 0h160v-160H620v160ZM180-180h160v-160H180v160Zm440 0h160v-160H620v160Z\"/>\n",
              "  </svg>\n",
              "    </button>\n",
              "\n",
              "  <style>\n",
              "    .colab-df-container {\n",
              "      display:flex;\n",
              "      gap: 12px;\n",
              "    }\n",
              "\n",
              "    .colab-df-convert {\n",
              "      background-color: #E8F0FE;\n",
              "      border: none;\n",
              "      border-radius: 50%;\n",
              "      cursor: pointer;\n",
              "      display: none;\n",
              "      fill: #1967D2;\n",
              "      height: 32px;\n",
              "      padding: 0 0 0 0;\n",
              "      width: 32px;\n",
              "    }\n",
              "\n",
              "    .colab-df-convert:hover {\n",
              "      background-color: #E2EBFA;\n",
              "      box-shadow: 0px 1px 2px rgba(60, 64, 67, 0.3), 0px 1px 3px 1px rgba(60, 64, 67, 0.15);\n",
              "      fill: #174EA6;\n",
              "    }\n",
              "\n",
              "    .colab-df-buttons div {\n",
              "      margin-bottom: 4px;\n",
              "    }\n",
              "\n",
              "    [theme=dark] .colab-df-convert {\n",
              "      background-color: #3B4455;\n",
              "      fill: #D2E3FC;\n",
              "    }\n",
              "\n",
              "    [theme=dark] .colab-df-convert:hover {\n",
              "      background-color: #434B5C;\n",
              "      box-shadow: 0px 1px 3px 1px rgba(0, 0, 0, 0.15);\n",
              "      filter: drop-shadow(0px 1px 2px rgba(0, 0, 0, 0.3));\n",
              "      fill: #FFFFFF;\n",
              "    }\n",
              "  </style>\n",
              "\n",
              "    <script>\n",
              "      const buttonEl =\n",
              "        document.querySelector('#df-de51bb7a-4e8e-483e-b23c-3392fdcb584b button.colab-df-convert');\n",
              "      buttonEl.style.display =\n",
              "        google.colab.kernel.accessAllowed ? 'block' : 'none';\n",
              "\n",
              "      async function convertToInteractive(key) {\n",
              "        const element = document.querySelector('#df-de51bb7a-4e8e-483e-b23c-3392fdcb584b');\n",
              "        const dataTable =\n",
              "          await google.colab.kernel.invokeFunction('convertToInteractive',\n",
              "                                                    [key], {});\n",
              "        if (!dataTable) return;\n",
              "\n",
              "        const docLinkHtml = 'Like what you see? Visit the ' +\n",
              "          '<a target=\"_blank\" href=https://colab.research.google.com/notebooks/data_table.ipynb>data table notebook</a>'\n",
              "          + ' to learn more about interactive tables.';\n",
              "        element.innerHTML = '';\n",
              "        dataTable['output_type'] = 'display_data';\n",
              "        await google.colab.output.renderOutput(dataTable, element);\n",
              "        const docLink = document.createElement('div');\n",
              "        docLink.innerHTML = docLinkHtml;\n",
              "        element.appendChild(docLink);\n",
              "      }\n",
              "    </script>\n",
              "  </div>\n",
              "\n",
              "\n",
              "<div id=\"df-a419df29-dc83-4152-bcea-b5ff3d64ac42\">\n",
              "  <button class=\"colab-df-quickchart\" onclick=\"quickchart('df-a419df29-dc83-4152-bcea-b5ff3d64ac42')\"\n",
              "            title=\"Suggest charts\"\n",
              "            style=\"display:none;\">\n",
              "\n",
              "<svg xmlns=\"http://www.w3.org/2000/svg\" height=\"24px\"viewBox=\"0 0 24 24\"\n",
              "     width=\"24px\">\n",
              "    <g>\n",
              "        <path d=\"M19 3H5c-1.1 0-2 .9-2 2v14c0 1.1.9 2 2 2h14c1.1 0 2-.9 2-2V5c0-1.1-.9-2-2-2zM9 17H7v-7h2v7zm4 0h-2V7h2v10zm4 0h-2v-4h2v4z\"/>\n",
              "    </g>\n",
              "</svg>\n",
              "  </button>\n",
              "\n",
              "<style>\n",
              "  .colab-df-quickchart {\n",
              "      --bg-color: #E8F0FE;\n",
              "      --fill-color: #1967D2;\n",
              "      --hover-bg-color: #E2EBFA;\n",
              "      --hover-fill-color: #174EA6;\n",
              "      --disabled-fill-color: #AAA;\n",
              "      --disabled-bg-color: #DDD;\n",
              "  }\n",
              "\n",
              "  [theme=dark] .colab-df-quickchart {\n",
              "      --bg-color: #3B4455;\n",
              "      --fill-color: #D2E3FC;\n",
              "      --hover-bg-color: #434B5C;\n",
              "      --hover-fill-color: #FFFFFF;\n",
              "      --disabled-bg-color: #3B4455;\n",
              "      --disabled-fill-color: #666;\n",
              "  }\n",
              "\n",
              "  .colab-df-quickchart {\n",
              "    background-color: var(--bg-color);\n",
              "    border: none;\n",
              "    border-radius: 50%;\n",
              "    cursor: pointer;\n",
              "    display: none;\n",
              "    fill: var(--fill-color);\n",
              "    height: 32px;\n",
              "    padding: 0;\n",
              "    width: 32px;\n",
              "  }\n",
              "\n",
              "  .colab-df-quickchart:hover {\n",
              "    background-color: var(--hover-bg-color);\n",
              "    box-shadow: 0 1px 2px rgba(60, 64, 67, 0.3), 0 1px 3px 1px rgba(60, 64, 67, 0.15);\n",
              "    fill: var(--button-hover-fill-color);\n",
              "  }\n",
              "\n",
              "  .colab-df-quickchart-complete:disabled,\n",
              "  .colab-df-quickchart-complete:disabled:hover {\n",
              "    background-color: var(--disabled-bg-color);\n",
              "    fill: var(--disabled-fill-color);\n",
              "    box-shadow: none;\n",
              "  }\n",
              "\n",
              "  .colab-df-spinner {\n",
              "    border: 2px solid var(--fill-color);\n",
              "    border-color: transparent;\n",
              "    border-bottom-color: var(--fill-color);\n",
              "    animation:\n",
              "      spin 1s steps(1) infinite;\n",
              "  }\n",
              "\n",
              "  @keyframes spin {\n",
              "    0% {\n",
              "      border-color: transparent;\n",
              "      border-bottom-color: var(--fill-color);\n",
              "      border-left-color: var(--fill-color);\n",
              "    }\n",
              "    20% {\n",
              "      border-color: transparent;\n",
              "      border-left-color: var(--fill-color);\n",
              "      border-top-color: var(--fill-color);\n",
              "    }\n",
              "    30% {\n",
              "      border-color: transparent;\n",
              "      border-left-color: var(--fill-color);\n",
              "      border-top-color: var(--fill-color);\n",
              "      border-right-color: var(--fill-color);\n",
              "    }\n",
              "    40% {\n",
              "      border-color: transparent;\n",
              "      border-right-color: var(--fill-color);\n",
              "      border-top-color: var(--fill-color);\n",
              "    }\n",
              "    60% {\n",
              "      border-color: transparent;\n",
              "      border-right-color: var(--fill-color);\n",
              "    }\n",
              "    80% {\n",
              "      border-color: transparent;\n",
              "      border-right-color: var(--fill-color);\n",
              "      border-bottom-color: var(--fill-color);\n",
              "    }\n",
              "    90% {\n",
              "      border-color: transparent;\n",
              "      border-bottom-color: var(--fill-color);\n",
              "    }\n",
              "  }\n",
              "</style>\n",
              "\n",
              "  <script>\n",
              "    async function quickchart(key) {\n",
              "      const quickchartButtonEl =\n",
              "        document.querySelector('#' + key + ' button');\n",
              "      quickchartButtonEl.disabled = true;  // To prevent multiple clicks.\n",
              "      quickchartButtonEl.classList.add('colab-df-spinner');\n",
              "      try {\n",
              "        const charts = await google.colab.kernel.invokeFunction(\n",
              "            'suggestCharts', [key], {});\n",
              "      } catch (error) {\n",
              "        console.error('Error during call to suggestCharts:', error);\n",
              "      }\n",
              "      quickchartButtonEl.classList.remove('colab-df-spinner');\n",
              "      quickchartButtonEl.classList.add('colab-df-quickchart-complete');\n",
              "    }\n",
              "    (() => {\n",
              "      let quickchartButtonEl =\n",
              "        document.querySelector('#df-a419df29-dc83-4152-bcea-b5ff3d64ac42 button');\n",
              "      quickchartButtonEl.style.display =\n",
              "        google.colab.kernel.accessAllowed ? 'block' : 'none';\n",
              "    })();\n",
              "  </script>\n",
              "</div>\n",
              "\n",
              "  <div id=\"id_044b07bd-b507-49d3-a281-51310dcce0ba\">\n",
              "    <style>\n",
              "      .colab-df-generate {\n",
              "        background-color: #E8F0FE;\n",
              "        border: none;\n",
              "        border-radius: 50%;\n",
              "        cursor: pointer;\n",
              "        display: none;\n",
              "        fill: #1967D2;\n",
              "        height: 32px;\n",
              "        padding: 0 0 0 0;\n",
              "        width: 32px;\n",
              "      }\n",
              "\n",
              "      .colab-df-generate:hover {\n",
              "        background-color: #E2EBFA;\n",
              "        box-shadow: 0px 1px 2px rgba(60, 64, 67, 0.3), 0px 1px 3px 1px rgba(60, 64, 67, 0.15);\n",
              "        fill: #174EA6;\n",
              "      }\n",
              "\n",
              "      [theme=dark] .colab-df-generate {\n",
              "        background-color: #3B4455;\n",
              "        fill: #D2E3FC;\n",
              "      }\n",
              "\n",
              "      [theme=dark] .colab-df-generate:hover {\n",
              "        background-color: #434B5C;\n",
              "        box-shadow: 0px 1px 3px 1px rgba(0, 0, 0, 0.15);\n",
              "        filter: drop-shadow(0px 1px 2px rgba(0, 0, 0, 0.3));\n",
              "        fill: #FFFFFF;\n",
              "      }\n",
              "    </style>\n",
              "    <button class=\"colab-df-generate\" onclick=\"generateWithVariable('melted_df')\"\n",
              "            title=\"Generate code using this dataframe.\"\n",
              "            style=\"display:none;\">\n",
              "\n",
              "  <svg xmlns=\"http://www.w3.org/2000/svg\" height=\"24px\"viewBox=\"0 0 24 24\"\n",
              "       width=\"24px\">\n",
              "    <path d=\"M7,19H8.4L18.45,9,17,7.55,7,17.6ZM5,21V16.75L18.45,3.32a2,2,0,0,1,2.83,0l1.4,1.43a1.91,1.91,0,0,1,.58,1.4,1.91,1.91,0,0,1-.58,1.4L9.25,21ZM18.45,9,17,7.55Zm-12,3A5.31,5.31,0,0,0,4.9,8.1,5.31,5.31,0,0,0,1,6.5,5.31,5.31,0,0,0,4.9,4.9,5.31,5.31,0,0,0,6.5,1,5.31,5.31,0,0,0,8.1,4.9,5.31,5.31,0,0,0,12,6.5,5.46,5.46,0,0,0,6.5,12Z\"/>\n",
              "  </svg>\n",
              "    </button>\n",
              "    <script>\n",
              "      (() => {\n",
              "      const buttonEl =\n",
              "        document.querySelector('#id_044b07bd-b507-49d3-a281-51310dcce0ba button.colab-df-generate');\n",
              "      buttonEl.style.display =\n",
              "        google.colab.kernel.accessAllowed ? 'block' : 'none';\n",
              "\n",
              "      buttonEl.onclick = () => {\n",
              "        google.colab.notebook.generateWithVariable('melted_df');\n",
              "      }\n",
              "      })();\n",
              "    </script>\n",
              "  </div>\n",
              "\n",
              "    </div>\n",
              "  </div>\n"
            ]
          },
          "metadata": {},
          "execution_count": 34
        }
      ]
    },
    {
      "cell_type": "markdown",
      "source": [
        "# PySpark"
      ],
      "metadata": {
        "id": "I0HtOQGy6Jdw"
      }
    },
    {
      "cell_type": "code",
      "source": [
        "# Desmontar o Google Drive (se já estiver montado)\n",
        "from google.colab import drive\n",
        "drive.flush_and_unmount()\n",
        "\n",
        "# Montar o Google Drive novamente\n",
        "drive.mount('/content/drive')"
      ],
      "metadata": {
        "id": "XlmvKiSZmAHP",
        "colab": {
          "base_uri": "https://localhost:8080/"
        },
        "outputId": "6c6111b8-b24b-451a-d5cb-bc15570b3a26"
      },
      "execution_count": 1,
      "outputs": [
        {
          "output_type": "stream",
          "name": "stdout",
          "text": [
            "Drive not mounted, so nothing to flush and unmount.\n",
            "Mounted at /content/drive\n"
          ]
        }
      ]
    },
    {
      "cell_type": "code",
      "source": [
        "!pip install pyspark"
      ],
      "metadata": {
        "colab": {
          "base_uri": "https://localhost:8080/"
        },
        "id": "fZRv_6WD6HUm",
        "outputId": "95cca614-59a8-488e-9fa5-4f2862cb09e6"
      },
      "execution_count": 1,
      "outputs": [
        {
          "output_type": "stream",
          "name": "stdout",
          "text": [
            "Collecting pyspark\n",
            "  Downloading pyspark-3.5.0.tar.gz (316.9 MB)\n",
            "\u001b[2K     \u001b[90m━━━━━━━━━━━━━━━━━━━━━━━━━━━━━━━━━━━━━━━━\u001b[0m \u001b[32m316.9/316.9 MB\u001b[0m \u001b[31m2.4 MB/s\u001b[0m eta \u001b[36m0:00:00\u001b[0m\n",
            "\u001b[?25h  Preparing metadata (setup.py) ... \u001b[?25l\u001b[?25hdone\n",
            "Requirement already satisfied: py4j==0.10.9.7 in /usr/local/lib/python3.10/dist-packages (from pyspark) (0.10.9.7)\n",
            "Building wheels for collected packages: pyspark\n",
            "  Building wheel for pyspark (setup.py) ... \u001b[?25l\u001b[?25hdone\n",
            "  Created wheel for pyspark: filename=pyspark-3.5.0-py2.py3-none-any.whl size=317425345 sha256=ae5dff8ed720d604c28febc688c2520e8424b09a8645e5ec2ab50b45cbcdba76\n",
            "  Stored in directory: /root/.cache/pip/wheels/41/4e/10/c2cf2467f71c678cfc8a6b9ac9241e5e44a01940da8fbb17fc\n",
            "Successfully built pyspark\n",
            "Installing collected packages: pyspark\n",
            "Successfully installed pyspark-3.5.0\n"
          ]
        }
      ]
    },
    {
      "cell_type": "code",
      "source": [
        "#importando bibliotecas\n",
        "import os\n",
        "import sys\n",
        "import pytz\n",
        "import numpy as np\n",
        "import datetime\n",
        "import time\n",
        "from pyspark.sql import SparkSession\n",
        "from pyspark.sql import SQLContext\n",
        "from pyspark.sql.functions import *\n",
        "from datetime import datetime\n",
        "from datetime import timedelta\n",
        "from datetime import date\n",
        "from dateutil.relativedelta import relativedelta\n",
        "from pyspark.sql.types import *\n",
        "from pyspark.sql.functions import count, avg, col, expr, array, explode, asc, desc, min,avg,max,sum,count,stddev"
      ],
      "metadata": {
        "id": "cEEPC4rA6I65"
      },
      "execution_count": 27,
      "outputs": []
    },
    {
      "cell_type": "code",
      "source": [
        "spark = SparkSession.builder.appName(\"SSP\").getOrCreate()"
      ],
      "metadata": {
        "id": "GTFvTwIV6RSg"
      },
      "execution_count": 3,
      "outputs": []
    },
    {
      "cell_type": "code",
      "source": [
        "spark"
      ],
      "metadata": {
        "colab": {
          "base_uri": "https://localhost:8080/",
          "height": 219
        },
        "id": "nd32_lPs6Tkw",
        "outputId": "72610b39-cfc7-4c52-d568-871047469998"
      },
      "execution_count": 4,
      "outputs": [
        {
          "output_type": "execute_result",
          "data": {
            "text/plain": [
              "<pyspark.sql.session.SparkSession at 0x79fb30280370>"
            ],
            "text/html": [
              "\n",
              "            <div>\n",
              "                <p><b>SparkSession - in-memory</b></p>\n",
              "                \n",
              "        <div>\n",
              "            <p><b>SparkContext</b></p>\n",
              "\n",
              "            <p><a href=\"http://21d1828c002e:4040\">Spark UI</a></p>\n",
              "\n",
              "            <dl>\n",
              "              <dt>Version</dt>\n",
              "                <dd><code>v3.5.0</code></dd>\n",
              "              <dt>Master</dt>\n",
              "                <dd><code>local[*]</code></dd>\n",
              "              <dt>AppName</dt>\n",
              "                <dd><code>SSP</code></dd>\n",
              "            </dl>\n",
              "        </div>\n",
              "        \n",
              "            </div>\n",
              "        "
            ]
          },
          "metadata": {},
          "execution_count": 4
        }
      ]
    },
    {
      "cell_type": "code",
      "source": [
        "#funcao freq\n",
        "def Freq(pTabela,pColuna):\n",
        "\n",
        "    qtd_total=pTabela.count()\n",
        "\n",
        "    pTabela.registerTempTable(\"tab_input\")\n",
        "    frq = spark.sql(\n",
        "            \"\"\"\n",
        "                select\n",
        "                    {col},\n",
        "                    count(*) as qtd_absoluto,\n",
        "                    round(100*(count(*) / {tot}),2) as qtd_percentual\n",
        "                from\n",
        "                    tab_input\n",
        "                group by\n",
        "                    {col}\n",
        "                order by\n",
        "                    qtd_percentual DESC, {col}\n",
        "            \"\"\".format(col=pColuna, tot=qtd_total))\n",
        "\n",
        "    qtd=frq.count()\n",
        "    print('Quantidade de dominios',qtd)\n",
        "    if qtd > 500:\n",
        "        frq.show(1000,truncate=False)\n",
        "        return \"Dominio muito granular\"\n",
        "\n",
        "    else:\n",
        "        frq.show(qtd,truncate=False)\n",
        "        print(\"volumetria total:\",qtd_total)\n",
        "        return 'Freq da coluna ' + pColuna;"
      ],
      "metadata": {
        "id": "wmBtrlgR6VTY"
      },
      "execution_count": 5,
      "outputs": []
    },
    {
      "cell_type": "code",
      "source": [
        "### MOD_PER_FILE\n",
        "file_1 = \"dados_ssp_sp.csv\""
      ],
      "metadata": {
        "id": "_KVWHxFC6W0x"
      },
      "execution_count": 6,
      "outputs": []
    },
    {
      "cell_type": "code",
      "source": [
        "full_path_raw_1 = file_1"
      ],
      "metadata": {
        "id": "wlMk6Vvf6faJ"
      },
      "execution_count": 7,
      "outputs": []
    },
    {
      "cell_type": "code",
      "source": [
        "df = os.path.join(full_path_raw_1)\n",
        "df = spark.read.format(\"csv\").load(df, header=True, inferSchema=True, sep=\",\")\n",
        "df.registerTempTable(\"df\")\n",
        "df.count()"
      ],
      "metadata": {
        "colab": {
          "base_uri": "https://localhost:8080/"
        },
        "id": "6ba8VLe76hs-",
        "outputId": "35ab016f-76a5-44ea-c79a-e46ee511b484"
      },
      "execution_count": 8,
      "outputs": [
        {
          "output_type": "stream",
          "name": "stderr",
          "text": [
            "/usr/local/lib/python3.10/dist-packages/pyspark/sql/dataframe.py:329: FutureWarning: Deprecated in 2.0, use createOrReplaceTempView instead.\n",
            "  warnings.warn(\"Deprecated in 2.0, use createOrReplaceTempView instead.\", FutureWarning)\n"
          ]
        },
        {
          "output_type": "execute_result",
          "data": {
            "text/plain": [
              "153876"
            ]
          },
          "metadata": {},
          "execution_count": 8
        }
      ]
    },
    {
      "cell_type": "code",
      "source": [
        "df.show(4)"
      ],
      "metadata": {
        "colab": {
          "base_uri": "https://localhost:8080/"
        },
        "id": "pdRyF7YS6tRu",
        "outputId": "4d26c701-8f0c-422e-8a41-57bc75f687da"
      },
      "execution_count": 9,
      "outputs": [
        {
          "output_type": "stream",
          "name": "stdout",
          "text": [
            "+----+---+------------+-------------------+----------------+-------------------------------------+-----------------------------------------+--------------------------------------------------------------+------------------------------------------+------------------------+----------------------+-------------------------------+---------------------+-----------------------------------------------+-----------------------------+----------+-------------------------------+----------------+-------+---------------------+---------------------+------------+----------------+-------------+--------------+------------+----------------+\n",
            "| ano|mes|id_municipio|         regiao_ssp|homicidio_doloso|numero_de_vitimas_em_homicidio_doloso|homicidio_doloso_por_acidente_de_transito|numero_de_vitimas_em_homicidio_doloso_por_acidente_de_transito|homicidio_culposo_por_acidente_de_transito|homicidio_culposo_outros|tentativa_de_homicidio|lesao_corporal_seguida_de_morte|lesao_corporal_dolosa|lesao_corporal_culposa_por_acidente_de_transito|lesao_corporal_culposa_outras|latrocinio|numero_de_vitimas_em_latrocinio|total_de_estupro|estupro|estupro_de_vulneravel|total_de_roubo_outros|roubo_outros|roubo_de_veiculo|roubo_a_banco|roubo_de_carga|furto_outros|furto_de_veiculo|\n",
            "+----+---+------------+-------------------+----------------+-------------------------------------+-----------------------------------------+--------------------------------------------------------------+------------------------------------------+------------------------+----------------------+-------------------------------+---------------------+-----------------------------------------------+-----------------------------+----------+-------------------------------+----------------+-------+---------------------+---------------------+------------+----------------+-------------+--------------+------------+----------------+\n",
            "|2002|  1|     3500105|Presidente Prudente|               0|                                    0|                                        0|                                                             0|                                         0|                       0|                     0|                              0|                   24|                                             13|                            2|         0|                              0|               0|   NULL|                 NULL|                    0|        NULL|               0|            0|             0|          21|               0|\n",
            "|2002|  2|     3500105|Presidente Prudente|               0|                                    0|                                        0|                                                             0|                                         0|                       0|                     0|                              0|                   24|                                             15|                            2|         0|                              0|               0|   NULL|                 NULL|                    0|        NULL|               0|            0|             0|          32|               0|\n",
            "|2002|  3|     3500105|Presidente Prudente|               0|                                    0|                                        0|                                                             0|                                         0|                       0|                     1|                              0|                   21|                                             13|                            5|         0|                              0|               0|   NULL|                 NULL|                    0|        NULL|               0|            0|             0|          36|               0|\n",
            "|2002|  4|     3500105|Presidente Prudente|               0|                                    0|                                        0|                                                             0|                                         0|                       0|                     1|                              0|                   36|                                             13|                            1|         0|                              0|               0|   NULL|                 NULL|                    1|        NULL|               0|            0|             0|          45|               0|\n",
            "+----+---+------------+-------------------+----------------+-------------------------------------+-----------------------------------------+--------------------------------------------------------------+------------------------------------------+------------------------+----------------------+-------------------------------+---------------------+-----------------------------------------------+-----------------------------+----------+-------------------------------+----------------+-------+---------------------+---------------------+------------+----------------+-------------+--------------+------------+----------------+\n",
            "only showing top 4 rows\n",
            "\n"
          ]
        }
      ]
    },
    {
      "cell_type": "code",
      "source": [
        "df_filtrado = df.filter( (col(\"ano\") == 2019) & (col(\"regiao_ssp\") == \"Capital\") & (col(\"mes\") == 1) )# & (col(\"id_municipio\") == \"3501103\") )"
      ],
      "metadata": {
        "id": "J1LKHD-F6vbP"
      },
      "execution_count": 91,
      "outputs": []
    },
    {
      "cell_type": "code",
      "source": [
        "df_filtrado.count()"
      ],
      "metadata": {
        "colab": {
          "base_uri": "https://localhost:8080/"
        },
        "id": "av5oqweQ7HSW",
        "outputId": "c6e7d602-35ff-42a8-cd4c-fae91ada898e"
      },
      "execution_count": 94,
      "outputs": [
        {
          "output_type": "execute_result",
          "data": {
            "text/plain": [
              "1"
            ]
          },
          "metadata": {},
          "execution_count": 94
        }
      ]
    },
    {
      "cell_type": "code",
      "source": [
        "df_filtrado.show(12)"
      ],
      "metadata": {
        "colab": {
          "base_uri": "https://localhost:8080/"
        },
        "id": "UqxpWvrp7IbP",
        "outputId": "094e1cc0-ab72-4683-a36e-7a362557f4f0"
      },
      "execution_count": 95,
      "outputs": [
        {
          "output_type": "stream",
          "name": "stdout",
          "text": [
            "+----+---+------------+----------+----------------+-------------------------------------+-----------------------------------------+--------------------------------------------------------------+------------------------------------------+------------------------+----------------------+-------------------------------+---------------------+-----------------------------------------------+-----------------------------+----------+-------------------------------+----------------+-------+---------------------+---------------------+------------+----------------+-------------+--------------+------------+----------------+\n",
            "| ano|mes|id_municipio|regiao_ssp|homicidio_doloso|numero_de_vitimas_em_homicidio_doloso|homicidio_doloso_por_acidente_de_transito|numero_de_vitimas_em_homicidio_doloso_por_acidente_de_transito|homicidio_culposo_por_acidente_de_transito|homicidio_culposo_outros|tentativa_de_homicidio|lesao_corporal_seguida_de_morte|lesao_corporal_dolosa|lesao_corporal_culposa_por_acidente_de_transito|lesao_corporal_culposa_outras|latrocinio|numero_de_vitimas_em_latrocinio|total_de_estupro|estupro|estupro_de_vulneravel|total_de_roubo_outros|roubo_outros|roubo_de_veiculo|roubo_a_banco|roubo_de_carga|furto_outros|furto_de_veiculo|\n",
            "+----+---+------------+----------+----------------+-------------------------------------+-----------------------------------------+--------------------------------------------------------------+------------------------------------------+------------------------+----------------------+-------------------------------+---------------------+-----------------------------------------------+-----------------------------+----------+-------------------------------+----------------+-------+---------------------+---------------------+------------+----------------+-------------+--------------+------------+----------------+\n",
            "|2019|  1|     3550308|   Capital|              55|                                   56|                                        0|                                                             0|                                        66|                       3|                    71|                              2|                 2565|                                           1106|                           89|         6|                              6|             214|     61|                  153|                10980|       10672|            1747|            1|           307|       17270|            2847|\n",
            "+----+---+------------+----------+----------------+-------------------------------------+-----------------------------------------+--------------------------------------------------------------+------------------------------------------+------------------------+----------------------+-------------------------------+---------------------+-----------------------------------------------+-----------------------------+----------+-------------------------------+----------------+-------+---------------------+---------------------+------------+----------------+-------------+--------------+------------+----------------+\n",
            "\n"
          ]
        }
      ]
    },
    {
      "cell_type": "code",
      "source": [
        "manter = df.columns[0:4]\n",
        "outras_colunas = set(df.columns) - set(manter)"
      ],
      "metadata": {
        "id": "o9EgkPI88TWn"
      },
      "execution_count": 96,
      "outputs": []
    },
    {
      "cell_type": "code",
      "source": [
        "colunas_manter = manter\n",
        "colunas_pivotar = list(outras_colunas)"
      ],
      "metadata": {
        "id": "3PEj4jvC8XR4"
      },
      "execution_count": 97,
      "outputs": []
    },
    {
      "cell_type": "code",
      "source": [
        "len(colunas_pivotar)"
      ],
      "metadata": {
        "colab": {
          "base_uri": "https://localhost:8080/"
        },
        "id": "9fDKRhnK0P-k",
        "outputId": "a74301c0-0f51-4b8a-c817-d46ef77980b7"
      },
      "execution_count": 98,
      "outputs": [
        {
          "output_type": "execute_result",
          "data": {
            "text/plain": [
              "23"
            ]
          },
          "metadata": {},
          "execution_count": 98
        }
      ]
    },
    {
      "cell_type": "code",
      "source": [
        "from pyspark.sql import functions as F\n",
        "\n",
        "\n",
        "unpivotExp = \"stack(23, )\""
      ],
      "metadata": {
        "id": "cegh-M8BtUhe"
      },
      "execution_count": 99,
      "outputs": []
    },
    {
      "cell_type": "code",
      "source": [
        "colunas_manter"
      ],
      "metadata": {
        "colab": {
          "base_uri": "https://localhost:8080/"
        },
        "id": "0Em7ZpLcxhLa",
        "outputId": "9031021c-7583-455c-99ab-1aa2108622b7"
      },
      "execution_count": 100,
      "outputs": [
        {
          "output_type": "execute_result",
          "data": {
            "text/plain": [
              "['ano', 'mes', 'id_municipio', 'regiao_ssp']"
            ]
          },
          "metadata": {},
          "execution_count": 100
        }
      ]
    },
    {
      "cell_type": "code",
      "source": [
        "colunas_pivotar"
      ],
      "metadata": {
        "id": "FvRiIS-51KYJ"
      },
      "execution_count": null,
      "outputs": []
    },
    {
      "cell_type": "code",
      "source": [
        "# Assuming your DataFrame is named 'df'\n",
        "unpivotExp = \", \".join([f\"'{col}', {col}\" for col in colunas_pivotar])"
      ],
      "metadata": {
        "id": "XorP1nTu1PmK"
      },
      "execution_count": 102,
      "outputs": []
    },
    {
      "cell_type": "code",
      "source": [
        "df_unpivoted = df_filtrado.selectExpr(*colunas_manter, f\"stack({len(colunas_pivotar)}, {unpivotExp}) as (indicador, valor)\")"
      ],
      "metadata": {
        "id": "ZXM3lnBc1jQe"
      },
      "execution_count": 103,
      "outputs": []
    },
    {
      "cell_type": "code",
      "source": [
        "df_unpivoted.count()"
      ],
      "metadata": {
        "colab": {
          "base_uri": "https://localhost:8080/"
        },
        "id": "LVkWGhaZ19fa",
        "outputId": "f932356e-fb06-47e0-a6a6-951250c523b6"
      },
      "execution_count": 104,
      "outputs": [
        {
          "output_type": "execute_result",
          "data": {
            "text/plain": [
              "23"
            ]
          },
          "metadata": {},
          "execution_count": 104
        }
      ]
    },
    {
      "cell_type": "code",
      "source": [
        "df_unpivoted.orderBy(desc(\"valor\")).show(20, truncate=False)"
      ],
      "metadata": {
        "colab": {
          "base_uri": "https://localhost:8080/"
        },
        "id": "-B85fQOz2ZbL",
        "outputId": "a775a4cd-adb9-4499-f65d-071c60f05ab3"
      },
      "execution_count": 105,
      "outputs": [
        {
          "output_type": "stream",
          "name": "stdout",
          "text": [
            "+----+---+------------+----------+-----------------------------------------------+-----+\n",
            "|ano |mes|id_municipio|regiao_ssp|indicador                                      |valor|\n",
            "+----+---+------------+----------+-----------------------------------------------+-----+\n",
            "|2019|1  |3550308     |Capital   |furto_outros                                   |17270|\n",
            "|2019|1  |3550308     |Capital   |total_de_roubo_outros                          |10980|\n",
            "|2019|1  |3550308     |Capital   |roubo_outros                                   |10672|\n",
            "|2019|1  |3550308     |Capital   |furto_de_veiculo                               |2847 |\n",
            "|2019|1  |3550308     |Capital   |lesao_corporal_dolosa                          |2565 |\n",
            "|2019|1  |3550308     |Capital   |roubo_de_veiculo                               |1747 |\n",
            "|2019|1  |3550308     |Capital   |lesao_corporal_culposa_por_acidente_de_transito|1106 |\n",
            "|2019|1  |3550308     |Capital   |roubo_de_carga                                 |307  |\n",
            "|2019|1  |3550308     |Capital   |total_de_estupro                               |214  |\n",
            "|2019|1  |3550308     |Capital   |estupro_de_vulneravel                          |153  |\n",
            "|2019|1  |3550308     |Capital   |lesao_corporal_culposa_outras                  |89   |\n",
            "|2019|1  |3550308     |Capital   |tentativa_de_homicidio                         |71   |\n",
            "|2019|1  |3550308     |Capital   |homicidio_culposo_por_acidente_de_transito     |66   |\n",
            "|2019|1  |3550308     |Capital   |estupro                                        |61   |\n",
            "|2019|1  |3550308     |Capital   |numero_de_vitimas_em_homicidio_doloso          |56   |\n",
            "|2019|1  |3550308     |Capital   |homicidio_doloso                               |55   |\n",
            "|2019|1  |3550308     |Capital   |numero_de_vitimas_em_latrocinio                |6    |\n",
            "|2019|1  |3550308     |Capital   |latrocinio                                     |6    |\n",
            "|2019|1  |3550308     |Capital   |homicidio_culposo_outros                       |3    |\n",
            "|2019|1  |3550308     |Capital   |lesao_corporal_seguida_de_morte                |2    |\n",
            "+----+---+------------+----------+-----------------------------------------------+-----+\n",
            "only showing top 20 rows\n",
            "\n"
          ]
        }
      ]
    },
    {
      "cell_type": "code",
      "source": [],
      "metadata": {
        "id": "4V1Tlb4m2606"
      },
      "execution_count": null,
      "outputs": []
    }
  ]
}