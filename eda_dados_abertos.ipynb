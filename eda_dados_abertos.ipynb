{
  "nbformat": 4,
  "nbformat_minor": 0,
  "metadata": {
    "colab": {
      "provenance": [],
      "authorship_tag": "ABX9TyMSK/XtZa/jGPAdlMF8Z7rU",
      "include_colab_link": true
    },
    "kernelspec": {
      "name": "python3",
      "display_name": "Python 3"
    },
    "language_info": {
      "name": "python"
    }
  },
  "cells": [
    {
      "cell_type": "markdown",
      "metadata": {
        "id": "view-in-github",
        "colab_type": "text"
      },
      "source": [
        "<a href=\"https://colab.research.google.com/github/Igorps023/SegurancaPublicaSSP/blob/main/eda_dados_abertos.ipynb\" target=\"_parent\"><img src=\"https://colab.research.google.com/assets/colab-badge.svg\" alt=\"Open In Colab\"/></a>"
      ]
    },
    {
      "cell_type": "code",
      "source": [
        "# !pip install basedosdados # rode para instalar no Python/Jupyter\n",
        "# import basedosdados as bd"
      ],
      "metadata": {
        "id": "rPNY_3SnuYgY"
      },
      "execution_count": null,
      "outputs": []
    },
    {
      "cell_type": "code",
      "execution_count": null,
      "metadata": {
        "colab": {
          "base_uri": "https://localhost:8080/"
        },
        "id": "S8iP5iO1uMmE",
        "outputId": "569435f2-f4d0-4535-f30d-5b968e742b19"
      },
      "outputs": [
        {
          "output_type": "stream",
          "name": "stderr",
          "text": [
            "Downloading: 100%|██████████| 153876/153876 [00:21<00:00, 7008.80rows/s]\n"
          ]
        }
      ],
      "source": [
        "# # Para carregar o dado direto no pandas\n",
        "# df = bd.read_table(dataset_id='br_sp_gov_ssp',\n",
        "# table_id='ocorrencias_registradas',\n",
        "# billing_project_id=\"174045002264\")"
      ]
    },
    {
      "cell_type": "code",
      "source": [
        "# # Caminho salvar arquivo\n",
        "# file_path = '/content/dados_abertos_ssp_sp_1252.csv'"
      ],
      "metadata": {
        "id": "--e8Id4f0dmV"
      },
      "execution_count": null,
      "outputs": []
    },
    {
      "cell_type": "code",
      "source": [
        "# df.to_csv(file_path, index=False, encoding='1252')"
      ],
      "metadata": {
        "id": "mPYqAdZa0IGF"
      },
      "execution_count": null,
      "outputs": []
    },
    {
      "cell_type": "markdown",
      "source": [
        "# Pandas"
      ],
      "metadata": {
        "id": "isJS_6K7z4_r"
      }
    },
    {
      "cell_type": "code",
      "source": [
        "# import pandas as pd"
      ],
      "metadata": {
        "id": "GZnH-S89fi79"
      },
      "execution_count": null,
      "outputs": []
    },
    {
      "cell_type": "code",
      "source": [
        "# df = pd.read_csv('/content/dados_ssp_sp.csv')"
      ],
      "metadata": {
        "id": "if20VKnffZUx"
      },
      "execution_count": null,
      "outputs": []
    },
    {
      "cell_type": "code",
      "source": [
        "# df.shape"
      ],
      "metadata": {
        "id": "W0RGTnRUue6L"
      },
      "execution_count": null,
      "outputs": []
    },
    {
      "cell_type": "code",
      "source": [
        "# df.columns"
      ],
      "metadata": {
        "id": "Ud5hPxpqzbal"
      },
      "execution_count": null,
      "outputs": []
    },
    {
      "cell_type": "code",
      "source": [
        "# df = df.sort_values(by=['ano', 'mes', 'regiao_ssp', 'id_municipio'], ascending=[True, True, True, True])"
      ],
      "metadata": {
        "id": "2YKLWk7w2JI7"
      },
      "execution_count": null,
      "outputs": []
    },
    {
      "cell_type": "code",
      "source": [
        "# df"
      ],
      "metadata": {
        "colab": {
          "base_uri": "https://localhost:8080/",
          "height": 617
        },
        "id": "E7SikzxJhr_n",
        "outputId": "2d2e2ffe-d210-4440-afcf-0faddc706eb1"
      },
      "execution_count": null,
      "outputs": [
        {
          "output_type": "execute_result",
          "data": {
            "text/plain": [
              "         ano  mes  id_municipio           regiao_ssp  homicidio_doloso  \\\n",
              "7368    2002    1       3501103            Araçatuba               0.0   \n",
              "7248    2002    1       3502101            Araçatuba               1.0   \n",
              "7152    2002    1       3502804            Araçatuba               3.0   \n",
              "6960    2002    1       3504206            Araçatuba               0.0   \n",
              "6936    2002    1       3504404            Araçatuba               0.0   \n",
              "...      ...  ...           ...                  ...               ...   \n",
              "108911  2021   12       3550704  São José dos Campos               NaN   \n",
              "108719  2021   12       3552007  São José dos Campos               NaN   \n",
              "108419  2021   12       3554102  São José dos Campos               NaN   \n",
              "108311  2021   12       3554805  São José dos Campos               NaN   \n",
              "108215  2021   12       3555406  São José dos Campos               NaN   \n",
              "\n",
              "        numero_de_vitimas_em_homicidio_doloso  \\\n",
              "7368                                      0.0   \n",
              "7248                                      1.0   \n",
              "7152                                      3.0   \n",
              "6960                                      0.0   \n",
              "6936                                      0.0   \n",
              "...                                       ...   \n",
              "108911                                    NaN   \n",
              "108719                                    NaN   \n",
              "108419                                    NaN   \n",
              "108311                                    NaN   \n",
              "108215                                    NaN   \n",
              "\n",
              "        homicidio_doloso_por_acidente_de_transito  \\\n",
              "7368                                          0.0   \n",
              "7248                                          0.0   \n",
              "7152                                          0.0   \n",
              "6960                                          0.0   \n",
              "6936                                          0.0   \n",
              "...                                           ...   \n",
              "108911                                        NaN   \n",
              "108719                                        NaN   \n",
              "108419                                        NaN   \n",
              "108311                                        NaN   \n",
              "108215                                        NaN   \n",
              "\n",
              "        numero_de_vitimas_em_homicidio_doloso_por_acidente_de_transito  \\\n",
              "7368                                                  0.0                \n",
              "7248                                                  0.0                \n",
              "7152                                                  0.0                \n",
              "6960                                                  0.0                \n",
              "6936                                                  0.0                \n",
              "...                                                   ...                \n",
              "108911                                                NaN                \n",
              "108719                                                NaN                \n",
              "108419                                                NaN                \n",
              "108311                                                NaN                \n",
              "108215                                                NaN                \n",
              "\n",
              "        homicidio_culposo_por_acidente_de_transito  homicidio_culposo_outros  \\\n",
              "7368                                           0.0                       0.0   \n",
              "7248                                           1.0                       0.0   \n",
              "7152                                           0.0                       0.0   \n",
              "6960                                           0.0                       0.0   \n",
              "6936                                           0.0                       0.0   \n",
              "...                                            ...                       ...   \n",
              "108911                                         NaN                       NaN   \n",
              "108719                                         NaN                       NaN   \n",
              "108419                                         NaN                       NaN   \n",
              "108311                                         NaN                       NaN   \n",
              "108215                                         NaN                       NaN   \n",
              "\n",
              "        ...  total_de_estupro  estupro  estupro_de_vulneravel  \\\n",
              "7368    ...               0.0      NaN                    NaN   \n",
              "7248    ...               0.0      NaN                    NaN   \n",
              "7152    ...               1.0      NaN                    NaN   \n",
              "6960    ...               0.0      NaN                    NaN   \n",
              "6936    ...               0.0      NaN                    NaN   \n",
              "...     ...               ...      ...                    ...   \n",
              "108911  ...               NaN      NaN                    NaN   \n",
              "108719  ...               NaN      NaN                    NaN   \n",
              "108419  ...               NaN      NaN                    NaN   \n",
              "108311  ...               NaN      NaN                    NaN   \n",
              "108215  ...               NaN      NaN                    NaN   \n",
              "\n",
              "        total_de_roubo_outros  roubo_outros  roubo_de_veiculo  roubo_a_banco  \\\n",
              "7368                      0.0           NaN               0.0            0.0   \n",
              "7248                      3.0           NaN               0.0            0.0   \n",
              "7152                     88.0           NaN               6.0            0.0   \n",
              "6960                      1.0           NaN               0.0            0.0   \n",
              "6936                      0.0           NaN               0.0            0.0   \n",
              "...                       ...           ...               ...            ...   \n",
              "108911                    NaN           NaN               NaN            NaN   \n",
              "108719                    NaN           NaN               NaN            NaN   \n",
              "108419                    NaN           NaN               NaN            NaN   \n",
              "108311                    NaN           NaN               NaN            NaN   \n",
              "108215                    NaN           NaN               NaN            NaN   \n",
              "\n",
              "        roubo_de_carga  furto_outros  furto_de_veiculo  \n",
              "7368               0.0           1.0               0.0  \n",
              "7248               0.0          78.0               0.0  \n",
              "7152               0.0         404.0              25.0  \n",
              "6960               0.0           3.0               1.0  \n",
              "6936               0.0          13.0               0.0  \n",
              "...                ...           ...               ...  \n",
              "108911             NaN           NaN               NaN  \n",
              "108719             NaN           NaN               NaN  \n",
              "108419             NaN           NaN               NaN  \n",
              "108311             NaN           NaN               NaN  \n",
              "108215             NaN           NaN               NaN  \n",
              "\n",
              "[153876 rows x 27 columns]"
            ],
            "text/html": [
              "\n",
              "  <div id=\"df-9b865212-829e-466e-8aa9-71ab9d0e5a94\" class=\"colab-df-container\">\n",
              "    <div>\n",
              "<style scoped>\n",
              "    .dataframe tbody tr th:only-of-type {\n",
              "        vertical-align: middle;\n",
              "    }\n",
              "\n",
              "    .dataframe tbody tr th {\n",
              "        vertical-align: top;\n",
              "    }\n",
              "\n",
              "    .dataframe thead th {\n",
              "        text-align: right;\n",
              "    }\n",
              "</style>\n",
              "<table border=\"1\" class=\"dataframe\">\n",
              "  <thead>\n",
              "    <tr style=\"text-align: right;\">\n",
              "      <th></th>\n",
              "      <th>ano</th>\n",
              "      <th>mes</th>\n",
              "      <th>id_municipio</th>\n",
              "      <th>regiao_ssp</th>\n",
              "      <th>homicidio_doloso</th>\n",
              "      <th>numero_de_vitimas_em_homicidio_doloso</th>\n",
              "      <th>homicidio_doloso_por_acidente_de_transito</th>\n",
              "      <th>numero_de_vitimas_em_homicidio_doloso_por_acidente_de_transito</th>\n",
              "      <th>homicidio_culposo_por_acidente_de_transito</th>\n",
              "      <th>homicidio_culposo_outros</th>\n",
              "      <th>...</th>\n",
              "      <th>total_de_estupro</th>\n",
              "      <th>estupro</th>\n",
              "      <th>estupro_de_vulneravel</th>\n",
              "      <th>total_de_roubo_outros</th>\n",
              "      <th>roubo_outros</th>\n",
              "      <th>roubo_de_veiculo</th>\n",
              "      <th>roubo_a_banco</th>\n",
              "      <th>roubo_de_carga</th>\n",
              "      <th>furto_outros</th>\n",
              "      <th>furto_de_veiculo</th>\n",
              "    </tr>\n",
              "  </thead>\n",
              "  <tbody>\n",
              "    <tr>\n",
              "      <th>7368</th>\n",
              "      <td>2002</td>\n",
              "      <td>1</td>\n",
              "      <td>3501103</td>\n",
              "      <td>Araçatuba</td>\n",
              "      <td>0.0</td>\n",
              "      <td>0.0</td>\n",
              "      <td>0.0</td>\n",
              "      <td>0.0</td>\n",
              "      <td>0.0</td>\n",
              "      <td>0.0</td>\n",
              "      <td>...</td>\n",
              "      <td>0.0</td>\n",
              "      <td>NaN</td>\n",
              "      <td>NaN</td>\n",
              "      <td>0.0</td>\n",
              "      <td>NaN</td>\n",
              "      <td>0.0</td>\n",
              "      <td>0.0</td>\n",
              "      <td>0.0</td>\n",
              "      <td>1.0</td>\n",
              "      <td>0.0</td>\n",
              "    </tr>\n",
              "    <tr>\n",
              "      <th>7248</th>\n",
              "      <td>2002</td>\n",
              "      <td>1</td>\n",
              "      <td>3502101</td>\n",
              "      <td>Araçatuba</td>\n",
              "      <td>1.0</td>\n",
              "      <td>1.0</td>\n",
              "      <td>0.0</td>\n",
              "      <td>0.0</td>\n",
              "      <td>1.0</td>\n",
              "      <td>0.0</td>\n",
              "      <td>...</td>\n",
              "      <td>0.0</td>\n",
              "      <td>NaN</td>\n",
              "      <td>NaN</td>\n",
              "      <td>3.0</td>\n",
              "      <td>NaN</td>\n",
              "      <td>0.0</td>\n",
              "      <td>0.0</td>\n",
              "      <td>0.0</td>\n",
              "      <td>78.0</td>\n",
              "      <td>0.0</td>\n",
              "    </tr>\n",
              "    <tr>\n",
              "      <th>7152</th>\n",
              "      <td>2002</td>\n",
              "      <td>1</td>\n",
              "      <td>3502804</td>\n",
              "      <td>Araçatuba</td>\n",
              "      <td>3.0</td>\n",
              "      <td>3.0</td>\n",
              "      <td>0.0</td>\n",
              "      <td>0.0</td>\n",
              "      <td>0.0</td>\n",
              "      <td>0.0</td>\n",
              "      <td>...</td>\n",
              "      <td>1.0</td>\n",
              "      <td>NaN</td>\n",
              "      <td>NaN</td>\n",
              "      <td>88.0</td>\n",
              "      <td>NaN</td>\n",
              "      <td>6.0</td>\n",
              "      <td>0.0</td>\n",
              "      <td>0.0</td>\n",
              "      <td>404.0</td>\n",
              "      <td>25.0</td>\n",
              "    </tr>\n",
              "    <tr>\n",
              "      <th>6960</th>\n",
              "      <td>2002</td>\n",
              "      <td>1</td>\n",
              "      <td>3504206</td>\n",
              "      <td>Araçatuba</td>\n",
              "      <td>0.0</td>\n",
              "      <td>0.0</td>\n",
              "      <td>0.0</td>\n",
              "      <td>0.0</td>\n",
              "      <td>0.0</td>\n",
              "      <td>0.0</td>\n",
              "      <td>...</td>\n",
              "      <td>0.0</td>\n",
              "      <td>NaN</td>\n",
              "      <td>NaN</td>\n",
              "      <td>1.0</td>\n",
              "      <td>NaN</td>\n",
              "      <td>0.0</td>\n",
              "      <td>0.0</td>\n",
              "      <td>0.0</td>\n",
              "      <td>3.0</td>\n",
              "      <td>1.0</td>\n",
              "    </tr>\n",
              "    <tr>\n",
              "      <th>6936</th>\n",
              "      <td>2002</td>\n",
              "      <td>1</td>\n",
              "      <td>3504404</td>\n",
              "      <td>Araçatuba</td>\n",
              "      <td>0.0</td>\n",
              "      <td>0.0</td>\n",
              "      <td>0.0</td>\n",
              "      <td>0.0</td>\n",
              "      <td>0.0</td>\n",
              "      <td>0.0</td>\n",
              "      <td>...</td>\n",
              "      <td>0.0</td>\n",
              "      <td>NaN</td>\n",
              "      <td>NaN</td>\n",
              "      <td>0.0</td>\n",
              "      <td>NaN</td>\n",
              "      <td>0.0</td>\n",
              "      <td>0.0</td>\n",
              "      <td>0.0</td>\n",
              "      <td>13.0</td>\n",
              "      <td>0.0</td>\n",
              "    </tr>\n",
              "    <tr>\n",
              "      <th>...</th>\n",
              "      <td>...</td>\n",
              "      <td>...</td>\n",
              "      <td>...</td>\n",
              "      <td>...</td>\n",
              "      <td>...</td>\n",
              "      <td>...</td>\n",
              "      <td>...</td>\n",
              "      <td>...</td>\n",
              "      <td>...</td>\n",
              "      <td>...</td>\n",
              "      <td>...</td>\n",
              "      <td>...</td>\n",
              "      <td>...</td>\n",
              "      <td>...</td>\n",
              "      <td>...</td>\n",
              "      <td>...</td>\n",
              "      <td>...</td>\n",
              "      <td>...</td>\n",
              "      <td>...</td>\n",
              "      <td>...</td>\n",
              "      <td>...</td>\n",
              "    </tr>\n",
              "    <tr>\n",
              "      <th>108911</th>\n",
              "      <td>2021</td>\n",
              "      <td>12</td>\n",
              "      <td>3550704</td>\n",
              "      <td>São José dos Campos</td>\n",
              "      <td>NaN</td>\n",
              "      <td>NaN</td>\n",
              "      <td>NaN</td>\n",
              "      <td>NaN</td>\n",
              "      <td>NaN</td>\n",
              "      <td>NaN</td>\n",
              "      <td>...</td>\n",
              "      <td>NaN</td>\n",
              "      <td>NaN</td>\n",
              "      <td>NaN</td>\n",
              "      <td>NaN</td>\n",
              "      <td>NaN</td>\n",
              "      <td>NaN</td>\n",
              "      <td>NaN</td>\n",
              "      <td>NaN</td>\n",
              "      <td>NaN</td>\n",
              "      <td>NaN</td>\n",
              "    </tr>\n",
              "    <tr>\n",
              "      <th>108719</th>\n",
              "      <td>2021</td>\n",
              "      <td>12</td>\n",
              "      <td>3552007</td>\n",
              "      <td>São José dos Campos</td>\n",
              "      <td>NaN</td>\n",
              "      <td>NaN</td>\n",
              "      <td>NaN</td>\n",
              "      <td>NaN</td>\n",
              "      <td>NaN</td>\n",
              "      <td>NaN</td>\n",
              "      <td>...</td>\n",
              "      <td>NaN</td>\n",
              "      <td>NaN</td>\n",
              "      <td>NaN</td>\n",
              "      <td>NaN</td>\n",
              "      <td>NaN</td>\n",
              "      <td>NaN</td>\n",
              "      <td>NaN</td>\n",
              "      <td>NaN</td>\n",
              "      <td>NaN</td>\n",
              "      <td>NaN</td>\n",
              "    </tr>\n",
              "    <tr>\n",
              "      <th>108419</th>\n",
              "      <td>2021</td>\n",
              "      <td>12</td>\n",
              "      <td>3554102</td>\n",
              "      <td>São José dos Campos</td>\n",
              "      <td>NaN</td>\n",
              "      <td>NaN</td>\n",
              "      <td>NaN</td>\n",
              "      <td>NaN</td>\n",
              "      <td>NaN</td>\n",
              "      <td>NaN</td>\n",
              "      <td>...</td>\n",
              "      <td>NaN</td>\n",
              "      <td>NaN</td>\n",
              "      <td>NaN</td>\n",
              "      <td>NaN</td>\n",
              "      <td>NaN</td>\n",
              "      <td>NaN</td>\n",
              "      <td>NaN</td>\n",
              "      <td>NaN</td>\n",
              "      <td>NaN</td>\n",
              "      <td>NaN</td>\n",
              "    </tr>\n",
              "    <tr>\n",
              "      <th>108311</th>\n",
              "      <td>2021</td>\n",
              "      <td>12</td>\n",
              "      <td>3554805</td>\n",
              "      <td>São José dos Campos</td>\n",
              "      <td>NaN</td>\n",
              "      <td>NaN</td>\n",
              "      <td>NaN</td>\n",
              "      <td>NaN</td>\n",
              "      <td>NaN</td>\n",
              "      <td>NaN</td>\n",
              "      <td>...</td>\n",
              "      <td>NaN</td>\n",
              "      <td>NaN</td>\n",
              "      <td>NaN</td>\n",
              "      <td>NaN</td>\n",
              "      <td>NaN</td>\n",
              "      <td>NaN</td>\n",
              "      <td>NaN</td>\n",
              "      <td>NaN</td>\n",
              "      <td>NaN</td>\n",
              "      <td>NaN</td>\n",
              "    </tr>\n",
              "    <tr>\n",
              "      <th>108215</th>\n",
              "      <td>2021</td>\n",
              "      <td>12</td>\n",
              "      <td>3555406</td>\n",
              "      <td>São José dos Campos</td>\n",
              "      <td>NaN</td>\n",
              "      <td>NaN</td>\n",
              "      <td>NaN</td>\n",
              "      <td>NaN</td>\n",
              "      <td>NaN</td>\n",
              "      <td>NaN</td>\n",
              "      <td>...</td>\n",
              "      <td>NaN</td>\n",
              "      <td>NaN</td>\n",
              "      <td>NaN</td>\n",
              "      <td>NaN</td>\n",
              "      <td>NaN</td>\n",
              "      <td>NaN</td>\n",
              "      <td>NaN</td>\n",
              "      <td>NaN</td>\n",
              "      <td>NaN</td>\n",
              "      <td>NaN</td>\n",
              "    </tr>\n",
              "  </tbody>\n",
              "</table>\n",
              "<p>153876 rows × 27 columns</p>\n",
              "</div>\n",
              "    <div class=\"colab-df-buttons\">\n",
              "\n",
              "  <div class=\"colab-df-container\">\n",
              "    <button class=\"colab-df-convert\" onclick=\"convertToInteractive('df-9b865212-829e-466e-8aa9-71ab9d0e5a94')\"\n",
              "            title=\"Convert this dataframe to an interactive table.\"\n",
              "            style=\"display:none;\">\n",
              "\n",
              "  <svg xmlns=\"http://www.w3.org/2000/svg\" height=\"24px\" viewBox=\"0 -960 960 960\">\n",
              "    <path d=\"M120-120v-720h720v720H120Zm60-500h600v-160H180v160Zm220 220h160v-160H400v160Zm0 220h160v-160H400v160ZM180-400h160v-160H180v160Zm440 0h160v-160H620v160ZM180-180h160v-160H180v160Zm440 0h160v-160H620v160Z\"/>\n",
              "  </svg>\n",
              "    </button>\n",
              "\n",
              "  <style>\n",
              "    .colab-df-container {\n",
              "      display:flex;\n",
              "      gap: 12px;\n",
              "    }\n",
              "\n",
              "    .colab-df-convert {\n",
              "      background-color: #E8F0FE;\n",
              "      border: none;\n",
              "      border-radius: 50%;\n",
              "      cursor: pointer;\n",
              "      display: none;\n",
              "      fill: #1967D2;\n",
              "      height: 32px;\n",
              "      padding: 0 0 0 0;\n",
              "      width: 32px;\n",
              "    }\n",
              "\n",
              "    .colab-df-convert:hover {\n",
              "      background-color: #E2EBFA;\n",
              "      box-shadow: 0px 1px 2px rgba(60, 64, 67, 0.3), 0px 1px 3px 1px rgba(60, 64, 67, 0.15);\n",
              "      fill: #174EA6;\n",
              "    }\n",
              "\n",
              "    .colab-df-buttons div {\n",
              "      margin-bottom: 4px;\n",
              "    }\n",
              "\n",
              "    [theme=dark] .colab-df-convert {\n",
              "      background-color: #3B4455;\n",
              "      fill: #D2E3FC;\n",
              "    }\n",
              "\n",
              "    [theme=dark] .colab-df-convert:hover {\n",
              "      background-color: #434B5C;\n",
              "      box-shadow: 0px 1px 3px 1px rgba(0, 0, 0, 0.15);\n",
              "      filter: drop-shadow(0px 1px 2px rgba(0, 0, 0, 0.3));\n",
              "      fill: #FFFFFF;\n",
              "    }\n",
              "  </style>\n",
              "\n",
              "    <script>\n",
              "      const buttonEl =\n",
              "        document.querySelector('#df-9b865212-829e-466e-8aa9-71ab9d0e5a94 button.colab-df-convert');\n",
              "      buttonEl.style.display =\n",
              "        google.colab.kernel.accessAllowed ? 'block' : 'none';\n",
              "\n",
              "      async function convertToInteractive(key) {\n",
              "        const element = document.querySelector('#df-9b865212-829e-466e-8aa9-71ab9d0e5a94');\n",
              "        const dataTable =\n",
              "          await google.colab.kernel.invokeFunction('convertToInteractive',\n",
              "                                                    [key], {});\n",
              "        if (!dataTable) return;\n",
              "\n",
              "        const docLinkHtml = 'Like what you see? Visit the ' +\n",
              "          '<a target=\"_blank\" href=https://colab.research.google.com/notebooks/data_table.ipynb>data table notebook</a>'\n",
              "          + ' to learn more about interactive tables.';\n",
              "        element.innerHTML = '';\n",
              "        dataTable['output_type'] = 'display_data';\n",
              "        await google.colab.output.renderOutput(dataTable, element);\n",
              "        const docLink = document.createElement('div');\n",
              "        docLink.innerHTML = docLinkHtml;\n",
              "        element.appendChild(docLink);\n",
              "      }\n",
              "    </script>\n",
              "  </div>\n",
              "\n",
              "\n",
              "<div id=\"df-9058534d-c1db-40ce-a65c-8d24206a1c01\">\n",
              "  <button class=\"colab-df-quickchart\" onclick=\"quickchart('df-9058534d-c1db-40ce-a65c-8d24206a1c01')\"\n",
              "            title=\"Suggest charts\"\n",
              "            style=\"display:none;\">\n",
              "\n",
              "<svg xmlns=\"http://www.w3.org/2000/svg\" height=\"24px\"viewBox=\"0 0 24 24\"\n",
              "     width=\"24px\">\n",
              "    <g>\n",
              "        <path d=\"M19 3H5c-1.1 0-2 .9-2 2v14c0 1.1.9 2 2 2h14c1.1 0 2-.9 2-2V5c0-1.1-.9-2-2-2zM9 17H7v-7h2v7zm4 0h-2V7h2v10zm4 0h-2v-4h2v4z\"/>\n",
              "    </g>\n",
              "</svg>\n",
              "  </button>\n",
              "\n",
              "<style>\n",
              "  .colab-df-quickchart {\n",
              "      --bg-color: #E8F0FE;\n",
              "      --fill-color: #1967D2;\n",
              "      --hover-bg-color: #E2EBFA;\n",
              "      --hover-fill-color: #174EA6;\n",
              "      --disabled-fill-color: #AAA;\n",
              "      --disabled-bg-color: #DDD;\n",
              "  }\n",
              "\n",
              "  [theme=dark] .colab-df-quickchart {\n",
              "      --bg-color: #3B4455;\n",
              "      --fill-color: #D2E3FC;\n",
              "      --hover-bg-color: #434B5C;\n",
              "      --hover-fill-color: #FFFFFF;\n",
              "      --disabled-bg-color: #3B4455;\n",
              "      --disabled-fill-color: #666;\n",
              "  }\n",
              "\n",
              "  .colab-df-quickchart {\n",
              "    background-color: var(--bg-color);\n",
              "    border: none;\n",
              "    border-radius: 50%;\n",
              "    cursor: pointer;\n",
              "    display: none;\n",
              "    fill: var(--fill-color);\n",
              "    height: 32px;\n",
              "    padding: 0;\n",
              "    width: 32px;\n",
              "  }\n",
              "\n",
              "  .colab-df-quickchart:hover {\n",
              "    background-color: var(--hover-bg-color);\n",
              "    box-shadow: 0 1px 2px rgba(60, 64, 67, 0.3), 0 1px 3px 1px rgba(60, 64, 67, 0.15);\n",
              "    fill: var(--button-hover-fill-color);\n",
              "  }\n",
              "\n",
              "  .colab-df-quickchart-complete:disabled,\n",
              "  .colab-df-quickchart-complete:disabled:hover {\n",
              "    background-color: var(--disabled-bg-color);\n",
              "    fill: var(--disabled-fill-color);\n",
              "    box-shadow: none;\n",
              "  }\n",
              "\n",
              "  .colab-df-spinner {\n",
              "    border: 2px solid var(--fill-color);\n",
              "    border-color: transparent;\n",
              "    border-bottom-color: var(--fill-color);\n",
              "    animation:\n",
              "      spin 1s steps(1) infinite;\n",
              "  }\n",
              "\n",
              "  @keyframes spin {\n",
              "    0% {\n",
              "      border-color: transparent;\n",
              "      border-bottom-color: var(--fill-color);\n",
              "      border-left-color: var(--fill-color);\n",
              "    }\n",
              "    20% {\n",
              "      border-color: transparent;\n",
              "      border-left-color: var(--fill-color);\n",
              "      border-top-color: var(--fill-color);\n",
              "    }\n",
              "    30% {\n",
              "      border-color: transparent;\n",
              "      border-left-color: var(--fill-color);\n",
              "      border-top-color: var(--fill-color);\n",
              "      border-right-color: var(--fill-color);\n",
              "    }\n",
              "    40% {\n",
              "      border-color: transparent;\n",
              "      border-right-color: var(--fill-color);\n",
              "      border-top-color: var(--fill-color);\n",
              "    }\n",
              "    60% {\n",
              "      border-color: transparent;\n",
              "      border-right-color: var(--fill-color);\n",
              "    }\n",
              "    80% {\n",
              "      border-color: transparent;\n",
              "      border-right-color: var(--fill-color);\n",
              "      border-bottom-color: var(--fill-color);\n",
              "    }\n",
              "    90% {\n",
              "      border-color: transparent;\n",
              "      border-bottom-color: var(--fill-color);\n",
              "    }\n",
              "  }\n",
              "</style>\n",
              "\n",
              "  <script>\n",
              "    async function quickchart(key) {\n",
              "      const quickchartButtonEl =\n",
              "        document.querySelector('#' + key + ' button');\n",
              "      quickchartButtonEl.disabled = true;  // To prevent multiple clicks.\n",
              "      quickchartButtonEl.classList.add('colab-df-spinner');\n",
              "      try {\n",
              "        const charts = await google.colab.kernel.invokeFunction(\n",
              "            'suggestCharts', [key], {});\n",
              "      } catch (error) {\n",
              "        console.error('Error during call to suggestCharts:', error);\n",
              "      }\n",
              "      quickchartButtonEl.classList.remove('colab-df-spinner');\n",
              "      quickchartButtonEl.classList.add('colab-df-quickchart-complete');\n",
              "    }\n",
              "    (() => {\n",
              "      let quickchartButtonEl =\n",
              "        document.querySelector('#df-9058534d-c1db-40ce-a65c-8d24206a1c01 button');\n",
              "      quickchartButtonEl.style.display =\n",
              "        google.colab.kernel.accessAllowed ? 'block' : 'none';\n",
              "    })();\n",
              "  </script>\n",
              "</div>\n",
              "\n",
              "  <div id=\"id_d3e38880-3b91-46b5-b319-d49103dd52a1\">\n",
              "    <style>\n",
              "      .colab-df-generate {\n",
              "        background-color: #E8F0FE;\n",
              "        border: none;\n",
              "        border-radius: 50%;\n",
              "        cursor: pointer;\n",
              "        display: none;\n",
              "        fill: #1967D2;\n",
              "        height: 32px;\n",
              "        padding: 0 0 0 0;\n",
              "        width: 32px;\n",
              "      }\n",
              "\n",
              "      .colab-df-generate:hover {\n",
              "        background-color: #E2EBFA;\n",
              "        box-shadow: 0px 1px 2px rgba(60, 64, 67, 0.3), 0px 1px 3px 1px rgba(60, 64, 67, 0.15);\n",
              "        fill: #174EA6;\n",
              "      }\n",
              "\n",
              "      [theme=dark] .colab-df-generate {\n",
              "        background-color: #3B4455;\n",
              "        fill: #D2E3FC;\n",
              "      }\n",
              "\n",
              "      [theme=dark] .colab-df-generate:hover {\n",
              "        background-color: #434B5C;\n",
              "        box-shadow: 0px 1px 3px 1px rgba(0, 0, 0, 0.15);\n",
              "        filter: drop-shadow(0px 1px 2px rgba(0, 0, 0, 0.3));\n",
              "        fill: #FFFFFF;\n",
              "      }\n",
              "    </style>\n",
              "    <button class=\"colab-df-generate\" onclick=\"generateWithVariable('df')\"\n",
              "            title=\"Generate code using this dataframe.\"\n",
              "            style=\"display:none;\">\n",
              "\n",
              "  <svg xmlns=\"http://www.w3.org/2000/svg\" height=\"24px\"viewBox=\"0 0 24 24\"\n",
              "       width=\"24px\">\n",
              "    <path d=\"M7,19H8.4L18.45,9,17,7.55,7,17.6ZM5,21V16.75L18.45,3.32a2,2,0,0,1,2.83,0l1.4,1.43a1.91,1.91,0,0,1,.58,1.4,1.91,1.91,0,0,1-.58,1.4L9.25,21ZM18.45,9,17,7.55Zm-12,3A5.31,5.31,0,0,0,4.9,8.1,5.31,5.31,0,0,0,1,6.5,5.31,5.31,0,0,0,4.9,4.9,5.31,5.31,0,0,0,6.5,1,5.31,5.31,0,0,0,8.1,4.9,5.31,5.31,0,0,0,12,6.5,5.46,5.46,0,0,0,6.5,12Z\"/>\n",
              "  </svg>\n",
              "    </button>\n",
              "    <script>\n",
              "      (() => {\n",
              "      const buttonEl =\n",
              "        document.querySelector('#id_d3e38880-3b91-46b5-b319-d49103dd52a1 button.colab-df-generate');\n",
              "      buttonEl.style.display =\n",
              "        google.colab.kernel.accessAllowed ? 'block' : 'none';\n",
              "\n",
              "      buttonEl.onclick = () => {\n",
              "        google.colab.notebook.generateWithVariable('df');\n",
              "      }\n",
              "      })();\n",
              "    </script>\n",
              "  </div>\n",
              "\n",
              "    </div>\n",
              "  </div>\n"
            ]
          },
          "metadata": {},
          "execution_count": 17
        }
      ]
    },
    {
      "cell_type": "code",
      "source": [
        "# filtro_df = df[ (df['ano'] == 2002) & (df['regiao_ssp'] == 'Araçatuba') & (df['id_municipio'] == 3501103)  ]"
      ],
      "metadata": {
        "id": "Mw2T_pMq2KB5"
      },
      "execution_count": null,
      "outputs": []
    },
    {
      "cell_type": "code",
      "source": [
        "# outras_colunas = filtro_df.columns[4:]\n",
        "# outras_colunas"
      ],
      "metadata": {
        "colab": {
          "base_uri": "https://localhost:8080/"
        },
        "id": "ZNzqtVFtlfNy",
        "outputId": "18f53390-ddf5-4369-a64b-fa5d042a48c6"
      },
      "execution_count": null,
      "outputs": [
        {
          "output_type": "execute_result",
          "data": {
            "text/plain": [
              "Index(['homicidio_doloso', 'numero_de_vitimas_em_homicidio_doloso',\n",
              "       'homicidio_doloso_por_acidente_de_transito',\n",
              "       'numero_de_vitimas_em_homicidio_doloso_por_acidente_de_transito',\n",
              "       'homicidio_culposo_por_acidente_de_transito',\n",
              "       'homicidio_culposo_outros', 'tentativa_de_homicidio',\n",
              "       'lesao_corporal_seguida_de_morte', 'lesao_corporal_dolosa',\n",
              "       'lesao_corporal_culposa_por_acidente_de_transito',\n",
              "       'lesao_corporal_culposa_outras', 'latrocinio',\n",
              "       'numero_de_vitimas_em_latrocinio', 'total_de_estupro', 'estupro',\n",
              "       'estupro_de_vulneravel', 'total_de_roubo_outros', 'roubo_outros',\n",
              "       'roubo_de_veiculo', 'roubo_a_banco', 'roubo_de_carga', 'furto_outros',\n",
              "       'furto_de_veiculo'],\n",
              "      dtype='object')"
            ]
          },
          "metadata": {},
          "execution_count": 32
        }
      ]
    },
    {
      "cell_type": "code",
      "source": [
        "# pivotar = filtro_df.melt(id_vars=['ano', 'mes', 'regiao_ssp','id_municipio'], var_name='crimes', value_vars='value' )\n",
        "# pivotar.sort_values(by=['value'], ascending=[False])\n",
        "# pivotar.shape"
      ],
      "metadata": {
        "id": "S7o0NYcOha3M"
      },
      "execution_count": null,
      "outputs": []
    },
    {
      "cell_type": "code",
      "source": [
        "# outras_colunas = filtro_df.columns[4:]\n",
        "# melted_df = filtro_df.melt(id_vars=['ano', 'mes', 'regiao_ssp', 'id_municipio'], value_vars=outras_colunas, var_name='crime', value_name='value')\n",
        "# melted_df.sort_values(by=['value'], ascending=[False], inplace=True)\n",
        "# print(melted_df.shape)\n"
      ],
      "metadata": {
        "colab": {
          "base_uri": "https://localhost:8080/"
        },
        "id": "v6K8uhOclwUI",
        "outputId": "b5b031c1-ea3c-4c49-a3a3-6ef20fb939b4"
      },
      "execution_count": null,
      "outputs": [
        {
          "output_type": "stream",
          "name": "stdout",
          "text": [
            "(276, 6)\n"
          ]
        }
      ]
    },
    {
      "cell_type": "code",
      "source": [
        "# melted_df"
      ],
      "metadata": {
        "id": "wMKw_nwHi12H",
        "colab": {
          "base_uri": "https://localhost:8080/",
          "height": 423
        },
        "outputId": "5f00e19c-2d63-4784-b0de-d0883c7a6ef3"
      },
      "execution_count": null,
      "outputs": [
        {
          "output_type": "execute_result",
          "data": {
            "text/plain": [
              "      ano  mes regiao_ssp  id_municipio         crime  value\n",
              "262  2002   11  Araçatuba       3501103  furto_outros    6.0\n",
              "260  2002    9  Araçatuba       3501103  furto_outros    6.0\n",
              "261  2002   10  Araçatuba       3501103  furto_outros    6.0\n",
              "263  2002   12  Araçatuba       3501103  furto_outros    5.0\n",
              "253  2002    2  Araçatuba       3501103  furto_outros    5.0\n",
              "..    ...  ...        ...           ...           ...    ...\n",
              "211  2002    8  Araçatuba       3501103  roubo_outros    NaN\n",
              "212  2002    9  Araçatuba       3501103  roubo_outros    NaN\n",
              "213  2002   10  Araçatuba       3501103  roubo_outros    NaN\n",
              "214  2002   11  Araçatuba       3501103  roubo_outros    NaN\n",
              "215  2002   12  Araçatuba       3501103  roubo_outros    NaN\n",
              "\n",
              "[276 rows x 6 columns]"
            ],
            "text/html": [
              "\n",
              "  <div id=\"df-de51bb7a-4e8e-483e-b23c-3392fdcb584b\" class=\"colab-df-container\">\n",
              "    <div>\n",
              "<style scoped>\n",
              "    .dataframe tbody tr th:only-of-type {\n",
              "        vertical-align: middle;\n",
              "    }\n",
              "\n",
              "    .dataframe tbody tr th {\n",
              "        vertical-align: top;\n",
              "    }\n",
              "\n",
              "    .dataframe thead th {\n",
              "        text-align: right;\n",
              "    }\n",
              "</style>\n",
              "<table border=\"1\" class=\"dataframe\">\n",
              "  <thead>\n",
              "    <tr style=\"text-align: right;\">\n",
              "      <th></th>\n",
              "      <th>ano</th>\n",
              "      <th>mes</th>\n",
              "      <th>regiao_ssp</th>\n",
              "      <th>id_municipio</th>\n",
              "      <th>crime</th>\n",
              "      <th>value</th>\n",
              "    </tr>\n",
              "  </thead>\n",
              "  <tbody>\n",
              "    <tr>\n",
              "      <th>262</th>\n",
              "      <td>2002</td>\n",
              "      <td>11</td>\n",
              "      <td>Araçatuba</td>\n",
              "      <td>3501103</td>\n",
              "      <td>furto_outros</td>\n",
              "      <td>6.0</td>\n",
              "    </tr>\n",
              "    <tr>\n",
              "      <th>260</th>\n",
              "      <td>2002</td>\n",
              "      <td>9</td>\n",
              "      <td>Araçatuba</td>\n",
              "      <td>3501103</td>\n",
              "      <td>furto_outros</td>\n",
              "      <td>6.0</td>\n",
              "    </tr>\n",
              "    <tr>\n",
              "      <th>261</th>\n",
              "      <td>2002</td>\n",
              "      <td>10</td>\n",
              "      <td>Araçatuba</td>\n",
              "      <td>3501103</td>\n",
              "      <td>furto_outros</td>\n",
              "      <td>6.0</td>\n",
              "    </tr>\n",
              "    <tr>\n",
              "      <th>263</th>\n",
              "      <td>2002</td>\n",
              "      <td>12</td>\n",
              "      <td>Araçatuba</td>\n",
              "      <td>3501103</td>\n",
              "      <td>furto_outros</td>\n",
              "      <td>5.0</td>\n",
              "    </tr>\n",
              "    <tr>\n",
              "      <th>253</th>\n",
              "      <td>2002</td>\n",
              "      <td>2</td>\n",
              "      <td>Araçatuba</td>\n",
              "      <td>3501103</td>\n",
              "      <td>furto_outros</td>\n",
              "      <td>5.0</td>\n",
              "    </tr>\n",
              "    <tr>\n",
              "      <th>...</th>\n",
              "      <td>...</td>\n",
              "      <td>...</td>\n",
              "      <td>...</td>\n",
              "      <td>...</td>\n",
              "      <td>...</td>\n",
              "      <td>...</td>\n",
              "    </tr>\n",
              "    <tr>\n",
              "      <th>211</th>\n",
              "      <td>2002</td>\n",
              "      <td>8</td>\n",
              "      <td>Araçatuba</td>\n",
              "      <td>3501103</td>\n",
              "      <td>roubo_outros</td>\n",
              "      <td>NaN</td>\n",
              "    </tr>\n",
              "    <tr>\n",
              "      <th>212</th>\n",
              "      <td>2002</td>\n",
              "      <td>9</td>\n",
              "      <td>Araçatuba</td>\n",
              "      <td>3501103</td>\n",
              "      <td>roubo_outros</td>\n",
              "      <td>NaN</td>\n",
              "    </tr>\n",
              "    <tr>\n",
              "      <th>213</th>\n",
              "      <td>2002</td>\n",
              "      <td>10</td>\n",
              "      <td>Araçatuba</td>\n",
              "      <td>3501103</td>\n",
              "      <td>roubo_outros</td>\n",
              "      <td>NaN</td>\n",
              "    </tr>\n",
              "    <tr>\n",
              "      <th>214</th>\n",
              "      <td>2002</td>\n",
              "      <td>11</td>\n",
              "      <td>Araçatuba</td>\n",
              "      <td>3501103</td>\n",
              "      <td>roubo_outros</td>\n",
              "      <td>NaN</td>\n",
              "    </tr>\n",
              "    <tr>\n",
              "      <th>215</th>\n",
              "      <td>2002</td>\n",
              "      <td>12</td>\n",
              "      <td>Araçatuba</td>\n",
              "      <td>3501103</td>\n",
              "      <td>roubo_outros</td>\n",
              "      <td>NaN</td>\n",
              "    </tr>\n",
              "  </tbody>\n",
              "</table>\n",
              "<p>276 rows × 6 columns</p>\n",
              "</div>\n",
              "    <div class=\"colab-df-buttons\">\n",
              "\n",
              "  <div class=\"colab-df-container\">\n",
              "    <button class=\"colab-df-convert\" onclick=\"convertToInteractive('df-de51bb7a-4e8e-483e-b23c-3392fdcb584b')\"\n",
              "            title=\"Convert this dataframe to an interactive table.\"\n",
              "            style=\"display:none;\">\n",
              "\n",
              "  <svg xmlns=\"http://www.w3.org/2000/svg\" height=\"24px\" viewBox=\"0 -960 960 960\">\n",
              "    <path d=\"M120-120v-720h720v720H120Zm60-500h600v-160H180v160Zm220 220h160v-160H400v160Zm0 220h160v-160H400v160ZM180-400h160v-160H180v160Zm440 0h160v-160H620v160ZM180-180h160v-160H180v160Zm440 0h160v-160H620v160Z\"/>\n",
              "  </svg>\n",
              "    </button>\n",
              "\n",
              "  <style>\n",
              "    .colab-df-container {\n",
              "      display:flex;\n",
              "      gap: 12px;\n",
              "    }\n",
              "\n",
              "    .colab-df-convert {\n",
              "      background-color: #E8F0FE;\n",
              "      border: none;\n",
              "      border-radius: 50%;\n",
              "      cursor: pointer;\n",
              "      display: none;\n",
              "      fill: #1967D2;\n",
              "      height: 32px;\n",
              "      padding: 0 0 0 0;\n",
              "      width: 32px;\n",
              "    }\n",
              "\n",
              "    .colab-df-convert:hover {\n",
              "      background-color: #E2EBFA;\n",
              "      box-shadow: 0px 1px 2px rgba(60, 64, 67, 0.3), 0px 1px 3px 1px rgba(60, 64, 67, 0.15);\n",
              "      fill: #174EA6;\n",
              "    }\n",
              "\n",
              "    .colab-df-buttons div {\n",
              "      margin-bottom: 4px;\n",
              "    }\n",
              "\n",
              "    [theme=dark] .colab-df-convert {\n",
              "      background-color: #3B4455;\n",
              "      fill: #D2E3FC;\n",
              "    }\n",
              "\n",
              "    [theme=dark] .colab-df-convert:hover {\n",
              "      background-color: #434B5C;\n",
              "      box-shadow: 0px 1px 3px 1px rgba(0, 0, 0, 0.15);\n",
              "      filter: drop-shadow(0px 1px 2px rgba(0, 0, 0, 0.3));\n",
              "      fill: #FFFFFF;\n",
              "    }\n",
              "  </style>\n",
              "\n",
              "    <script>\n",
              "      const buttonEl =\n",
              "        document.querySelector('#df-de51bb7a-4e8e-483e-b23c-3392fdcb584b button.colab-df-convert');\n",
              "      buttonEl.style.display =\n",
              "        google.colab.kernel.accessAllowed ? 'block' : 'none';\n",
              "\n",
              "      async function convertToInteractive(key) {\n",
              "        const element = document.querySelector('#df-de51bb7a-4e8e-483e-b23c-3392fdcb584b');\n",
              "        const dataTable =\n",
              "          await google.colab.kernel.invokeFunction('convertToInteractive',\n",
              "                                                    [key], {});\n",
              "        if (!dataTable) return;\n",
              "\n",
              "        const docLinkHtml = 'Like what you see? Visit the ' +\n",
              "          '<a target=\"_blank\" href=https://colab.research.google.com/notebooks/data_table.ipynb>data table notebook</a>'\n",
              "          + ' to learn more about interactive tables.';\n",
              "        element.innerHTML = '';\n",
              "        dataTable['output_type'] = 'display_data';\n",
              "        await google.colab.output.renderOutput(dataTable, element);\n",
              "        const docLink = document.createElement('div');\n",
              "        docLink.innerHTML = docLinkHtml;\n",
              "        element.appendChild(docLink);\n",
              "      }\n",
              "    </script>\n",
              "  </div>\n",
              "\n",
              "\n",
              "<div id=\"df-a419df29-dc83-4152-bcea-b5ff3d64ac42\">\n",
              "  <button class=\"colab-df-quickchart\" onclick=\"quickchart('df-a419df29-dc83-4152-bcea-b5ff3d64ac42')\"\n",
              "            title=\"Suggest charts\"\n",
              "            style=\"display:none;\">\n",
              "\n",
              "<svg xmlns=\"http://www.w3.org/2000/svg\" height=\"24px\"viewBox=\"0 0 24 24\"\n",
              "     width=\"24px\">\n",
              "    <g>\n",
              "        <path d=\"M19 3H5c-1.1 0-2 .9-2 2v14c0 1.1.9 2 2 2h14c1.1 0 2-.9 2-2V5c0-1.1-.9-2-2-2zM9 17H7v-7h2v7zm4 0h-2V7h2v10zm4 0h-2v-4h2v4z\"/>\n",
              "    </g>\n",
              "</svg>\n",
              "  </button>\n",
              "\n",
              "<style>\n",
              "  .colab-df-quickchart {\n",
              "      --bg-color: #E8F0FE;\n",
              "      --fill-color: #1967D2;\n",
              "      --hover-bg-color: #E2EBFA;\n",
              "      --hover-fill-color: #174EA6;\n",
              "      --disabled-fill-color: #AAA;\n",
              "      --disabled-bg-color: #DDD;\n",
              "  }\n",
              "\n",
              "  [theme=dark] .colab-df-quickchart {\n",
              "      --bg-color: #3B4455;\n",
              "      --fill-color: #D2E3FC;\n",
              "      --hover-bg-color: #434B5C;\n",
              "      --hover-fill-color: #FFFFFF;\n",
              "      --disabled-bg-color: #3B4455;\n",
              "      --disabled-fill-color: #666;\n",
              "  }\n",
              "\n",
              "  .colab-df-quickchart {\n",
              "    background-color: var(--bg-color);\n",
              "    border: none;\n",
              "    border-radius: 50%;\n",
              "    cursor: pointer;\n",
              "    display: none;\n",
              "    fill: var(--fill-color);\n",
              "    height: 32px;\n",
              "    padding: 0;\n",
              "    width: 32px;\n",
              "  }\n",
              "\n",
              "  .colab-df-quickchart:hover {\n",
              "    background-color: var(--hover-bg-color);\n",
              "    box-shadow: 0 1px 2px rgba(60, 64, 67, 0.3), 0 1px 3px 1px rgba(60, 64, 67, 0.15);\n",
              "    fill: var(--button-hover-fill-color);\n",
              "  }\n",
              "\n",
              "  .colab-df-quickchart-complete:disabled,\n",
              "  .colab-df-quickchart-complete:disabled:hover {\n",
              "    background-color: var(--disabled-bg-color);\n",
              "    fill: var(--disabled-fill-color);\n",
              "    box-shadow: none;\n",
              "  }\n",
              "\n",
              "  .colab-df-spinner {\n",
              "    border: 2px solid var(--fill-color);\n",
              "    border-color: transparent;\n",
              "    border-bottom-color: var(--fill-color);\n",
              "    animation:\n",
              "      spin 1s steps(1) infinite;\n",
              "  }\n",
              "\n",
              "  @keyframes spin {\n",
              "    0% {\n",
              "      border-color: transparent;\n",
              "      border-bottom-color: var(--fill-color);\n",
              "      border-left-color: var(--fill-color);\n",
              "    }\n",
              "    20% {\n",
              "      border-color: transparent;\n",
              "      border-left-color: var(--fill-color);\n",
              "      border-top-color: var(--fill-color);\n",
              "    }\n",
              "    30% {\n",
              "      border-color: transparent;\n",
              "      border-left-color: var(--fill-color);\n",
              "      border-top-color: var(--fill-color);\n",
              "      border-right-color: var(--fill-color);\n",
              "    }\n",
              "    40% {\n",
              "      border-color: transparent;\n",
              "      border-right-color: var(--fill-color);\n",
              "      border-top-color: var(--fill-color);\n",
              "    }\n",
              "    60% {\n",
              "      border-color: transparent;\n",
              "      border-right-color: var(--fill-color);\n",
              "    }\n",
              "    80% {\n",
              "      border-color: transparent;\n",
              "      border-right-color: var(--fill-color);\n",
              "      border-bottom-color: var(--fill-color);\n",
              "    }\n",
              "    90% {\n",
              "      border-color: transparent;\n",
              "      border-bottom-color: var(--fill-color);\n",
              "    }\n",
              "  }\n",
              "</style>\n",
              "\n",
              "  <script>\n",
              "    async function quickchart(key) {\n",
              "      const quickchartButtonEl =\n",
              "        document.querySelector('#' + key + ' button');\n",
              "      quickchartButtonEl.disabled = true;  // To prevent multiple clicks.\n",
              "      quickchartButtonEl.classList.add('colab-df-spinner');\n",
              "      try {\n",
              "        const charts = await google.colab.kernel.invokeFunction(\n",
              "            'suggestCharts', [key], {});\n",
              "      } catch (error) {\n",
              "        console.error('Error during call to suggestCharts:', error);\n",
              "      }\n",
              "      quickchartButtonEl.classList.remove('colab-df-spinner');\n",
              "      quickchartButtonEl.classList.add('colab-df-quickchart-complete');\n",
              "    }\n",
              "    (() => {\n",
              "      let quickchartButtonEl =\n",
              "        document.querySelector('#df-a419df29-dc83-4152-bcea-b5ff3d64ac42 button');\n",
              "      quickchartButtonEl.style.display =\n",
              "        google.colab.kernel.accessAllowed ? 'block' : 'none';\n",
              "    })();\n",
              "  </script>\n",
              "</div>\n",
              "\n",
              "  <div id=\"id_044b07bd-b507-49d3-a281-51310dcce0ba\">\n",
              "    <style>\n",
              "      .colab-df-generate {\n",
              "        background-color: #E8F0FE;\n",
              "        border: none;\n",
              "        border-radius: 50%;\n",
              "        cursor: pointer;\n",
              "        display: none;\n",
              "        fill: #1967D2;\n",
              "        height: 32px;\n",
              "        padding: 0 0 0 0;\n",
              "        width: 32px;\n",
              "      }\n",
              "\n",
              "      .colab-df-generate:hover {\n",
              "        background-color: #E2EBFA;\n",
              "        box-shadow: 0px 1px 2px rgba(60, 64, 67, 0.3), 0px 1px 3px 1px rgba(60, 64, 67, 0.15);\n",
              "        fill: #174EA6;\n",
              "      }\n",
              "\n",
              "      [theme=dark] .colab-df-generate {\n",
              "        background-color: #3B4455;\n",
              "        fill: #D2E3FC;\n",
              "      }\n",
              "\n",
              "      [theme=dark] .colab-df-generate:hover {\n",
              "        background-color: #434B5C;\n",
              "        box-shadow: 0px 1px 3px 1px rgba(0, 0, 0, 0.15);\n",
              "        filter: drop-shadow(0px 1px 2px rgba(0, 0, 0, 0.3));\n",
              "        fill: #FFFFFF;\n",
              "      }\n",
              "    </style>\n",
              "    <button class=\"colab-df-generate\" onclick=\"generateWithVariable('melted_df')\"\n",
              "            title=\"Generate code using this dataframe.\"\n",
              "            style=\"display:none;\">\n",
              "\n",
              "  <svg xmlns=\"http://www.w3.org/2000/svg\" height=\"24px\"viewBox=\"0 0 24 24\"\n",
              "       width=\"24px\">\n",
              "    <path d=\"M7,19H8.4L18.45,9,17,7.55,7,17.6ZM5,21V16.75L18.45,3.32a2,2,0,0,1,2.83,0l1.4,1.43a1.91,1.91,0,0,1,.58,1.4,1.91,1.91,0,0,1-.58,1.4L9.25,21ZM18.45,9,17,7.55Zm-12,3A5.31,5.31,0,0,0,4.9,8.1,5.31,5.31,0,0,0,1,6.5,5.31,5.31,0,0,0,4.9,4.9,5.31,5.31,0,0,0,6.5,1,5.31,5.31,0,0,0,8.1,4.9,5.31,5.31,0,0,0,12,6.5,5.46,5.46,0,0,0,6.5,12Z\"/>\n",
              "  </svg>\n",
              "    </button>\n",
              "    <script>\n",
              "      (() => {\n",
              "      const buttonEl =\n",
              "        document.querySelector('#id_044b07bd-b507-49d3-a281-51310dcce0ba button.colab-df-generate');\n",
              "      buttonEl.style.display =\n",
              "        google.colab.kernel.accessAllowed ? 'block' : 'none';\n",
              "\n",
              "      buttonEl.onclick = () => {\n",
              "        google.colab.notebook.generateWithVariable('melted_df');\n",
              "      }\n",
              "      })();\n",
              "    </script>\n",
              "  </div>\n",
              "\n",
              "    </div>\n",
              "  </div>\n"
            ]
          },
          "metadata": {},
          "execution_count": 34
        }
      ]
    },
    {
      "cell_type": "markdown",
      "source": [
        "# PySpark"
      ],
      "metadata": {
        "id": "I0HtOQGy6Jdw"
      }
    },
    {
      "cell_type": "code",
      "source": [
        "# Desmontar o Google Drive (se já estiver montado)\n",
        "from google.colab import drive\n",
        "drive.flush_and_unmount()\n",
        "\n",
        "# Montar o Google Drive novamente\n",
        "drive.mount('/content/drive')"
      ],
      "metadata": {
        "id": "XlmvKiSZmAHP",
        "colab": {
          "base_uri": "https://localhost:8080/"
        },
        "outputId": "98c011b7-cf79-403c-f6a0-b11236cdeab3"
      },
      "execution_count": 1,
      "outputs": [
        {
          "output_type": "stream",
          "name": "stdout",
          "text": [
            "Drive not mounted, so nothing to flush and unmount.\n",
            "Mounted at /content/drive\n"
          ]
        }
      ]
    },
    {
      "cell_type": "code",
      "source": [
        "!pip install pyspark"
      ],
      "metadata": {
        "colab": {
          "base_uri": "https://localhost:8080/"
        },
        "id": "fZRv_6WD6HUm",
        "outputId": "d801bbc4-8b20-4a37-be9d-e4b4c47867fe"
      },
      "execution_count": 2,
      "outputs": [
        {
          "output_type": "stream",
          "name": "stdout",
          "text": [
            "Collecting pyspark\n",
            "  Downloading pyspark-3.5.0.tar.gz (316.9 MB)\n",
            "\u001b[2K     \u001b[90m━━━━━━━━━━━━━━━━━━━━━━━━━━━━━━━━━━━━━━━━\u001b[0m \u001b[32m316.9/316.9 MB\u001b[0m \u001b[31m3.4 MB/s\u001b[0m eta \u001b[36m0:00:00\u001b[0m\n",
            "\u001b[?25h  Preparing metadata (setup.py) ... \u001b[?25l\u001b[?25hdone\n",
            "Requirement already satisfied: py4j==0.10.9.7 in /usr/local/lib/python3.10/dist-packages (from pyspark) (0.10.9.7)\n",
            "Building wheels for collected packages: pyspark\n",
            "  Building wheel for pyspark (setup.py) ... \u001b[?25l\u001b[?25hdone\n",
            "  Created wheel for pyspark: filename=pyspark-3.5.0-py2.py3-none-any.whl size=317425345 sha256=3bc038e71b49872fbf07df733581ba82ba60c29105008940bce870fbfb0f206e\n",
            "  Stored in directory: /root/.cache/pip/wheels/41/4e/10/c2cf2467f71c678cfc8a6b9ac9241e5e44a01940da8fbb17fc\n",
            "Successfully built pyspark\n",
            "Installing collected packages: pyspark\n",
            "Successfully installed pyspark-3.5.0\n"
          ]
        }
      ]
    },
    {
      "cell_type": "code",
      "source": [
        "#importando bibliotecas\n",
        "import os\n",
        "import sys\n",
        "import pytz\n",
        "import numpy as np\n",
        "import datetime\n",
        "import time\n",
        "from pyspark.sql import SparkSession\n",
        "from pyspark.sql import SQLContext\n",
        "from pyspark.sql.functions import *\n",
        "from datetime import datetime\n",
        "from datetime import timedelta\n",
        "from datetime import date\n",
        "from dateutil.relativedelta import relativedelta\n",
        "from pyspark.sql.types import *\n",
        "from pyspark.sql.functions import count, avg, col, expr, regexp_replace, array, explode, asc, desc, min,avg,max,sum,count,stddev, to_date"
      ],
      "metadata": {
        "id": "cEEPC4rA6I65"
      },
      "execution_count": 3,
      "outputs": []
    },
    {
      "cell_type": "code",
      "source": [
        "spark = SparkSession.builder.appName(\"SSP\").getOrCreate()"
      ],
      "metadata": {
        "id": "GTFvTwIV6RSg"
      },
      "execution_count": 4,
      "outputs": []
    },
    {
      "cell_type": "code",
      "source": [
        "spark"
      ],
      "metadata": {
        "colab": {
          "base_uri": "https://localhost:8080/",
          "height": 219
        },
        "id": "nd32_lPs6Tkw",
        "outputId": "0addeb35-8eac-434e-b771-0cf014038db5"
      },
      "execution_count": 5,
      "outputs": [
        {
          "output_type": "execute_result",
          "data": {
            "text/plain": [
              "<pyspark.sql.session.SparkSession at 0x78b1b239ca60>"
            ],
            "text/html": [
              "\n",
              "            <div>\n",
              "                <p><b>SparkSession - in-memory</b></p>\n",
              "                \n",
              "        <div>\n",
              "            <p><b>SparkContext</b></p>\n",
              "\n",
              "            <p><a href=\"http://9b974716ebf8:4040\">Spark UI</a></p>\n",
              "\n",
              "            <dl>\n",
              "              <dt>Version</dt>\n",
              "                <dd><code>v3.5.0</code></dd>\n",
              "              <dt>Master</dt>\n",
              "                <dd><code>local[*]</code></dd>\n",
              "              <dt>AppName</dt>\n",
              "                <dd><code>SSP</code></dd>\n",
              "            </dl>\n",
              "        </div>\n",
              "        \n",
              "            </div>\n",
              "        "
            ]
          },
          "metadata": {},
          "execution_count": 5
        }
      ]
    },
    {
      "cell_type": "code",
      "source": [
        "#funcao freq\n",
        "def Freq(pTabela,pColuna):\n",
        "\n",
        "    qtd_total=pTabela.count()\n",
        "\n",
        "    pTabela.registerTempTable(\"tab_input\")\n",
        "    frq = spark.sql(\n",
        "            \"\"\"\n",
        "                select\n",
        "                    {col},\n",
        "                    count(*) as qtd_absoluto,\n",
        "                    round(100*(count(*) / {tot}),2) as qtd_percentual\n",
        "                from\n",
        "                    tab_input\n",
        "                group by\n",
        "                    {col}\n",
        "                order by\n",
        "                    qtd_percentual DESC, {col}\n",
        "            \"\"\".format(col=pColuna, tot=qtd_total))\n",
        "\n",
        "    qtd=frq.count()\n",
        "    print('Quantidade de dominios',qtd)\n",
        "    if qtd > 500:\n",
        "        frq.show(1000,truncate=False)\n",
        "        return \"Dominio muito granular\"\n",
        "\n",
        "    else:\n",
        "        frq.show(qtd,truncate=False)\n",
        "        print(\"volumetria total:\",qtd_total)\n",
        "        return 'Freq da coluna ' + pColuna;"
      ],
      "metadata": {
        "id": "wmBtrlgR6VTY"
      },
      "execution_count": 6,
      "outputs": []
    },
    {
      "cell_type": "code",
      "source": [
        "### MOD_PER_FILE\n",
        "file_1 = \"dados_ssp_sp.csv\""
      ],
      "metadata": {
        "id": "_KVWHxFC6W0x"
      },
      "execution_count": 7,
      "outputs": []
    },
    {
      "cell_type": "code",
      "source": [
        "full_path_raw_1 = file_1"
      ],
      "metadata": {
        "id": "wlMk6Vvf6faJ"
      },
      "execution_count": 8,
      "outputs": []
    },
    {
      "cell_type": "code",
      "source": [
        "df = os.path.join(full_path_raw_1)\n",
        "df = spark.read.format(\"csv\").load(df, header=True, inferSchema=True, sep=\",\")\n",
        "df.registerTempTable(\"df\")\n",
        "df.count()"
      ],
      "metadata": {
        "colab": {
          "base_uri": "https://localhost:8080/",
          "height": 373
        },
        "id": "6ba8VLe76hs-",
        "outputId": "ea2d759b-75c3-4b40-b9be-d76e5526ac17"
      },
      "execution_count": 9,
      "outputs": [
        {
          "output_type": "error",
          "ename": "AnalysisException",
          "evalue": "ignored",
          "traceback": [
            "\u001b[0;31m---------------------------------------------------------------------------\u001b[0m",
            "\u001b[0;31mAnalysisException\u001b[0m                         Traceback (most recent call last)",
            "\u001b[0;32m<ipython-input-9-72e5f51a0f75>\u001b[0m in \u001b[0;36m<cell line: 2>\u001b[0;34m()\u001b[0m\n\u001b[1;32m      1\u001b[0m \u001b[0mdf\u001b[0m \u001b[0;34m=\u001b[0m \u001b[0mos\u001b[0m\u001b[0;34m.\u001b[0m\u001b[0mpath\u001b[0m\u001b[0;34m.\u001b[0m\u001b[0mjoin\u001b[0m\u001b[0;34m(\u001b[0m\u001b[0mfull_path_raw_1\u001b[0m\u001b[0;34m)\u001b[0m\u001b[0;34m\u001b[0m\u001b[0;34m\u001b[0m\u001b[0m\n\u001b[0;32m----> 2\u001b[0;31m \u001b[0mdf\u001b[0m \u001b[0;34m=\u001b[0m \u001b[0mspark\u001b[0m\u001b[0;34m.\u001b[0m\u001b[0mread\u001b[0m\u001b[0;34m.\u001b[0m\u001b[0mformat\u001b[0m\u001b[0;34m(\u001b[0m\u001b[0;34m\"csv\"\u001b[0m\u001b[0;34m)\u001b[0m\u001b[0;34m.\u001b[0m\u001b[0mload\u001b[0m\u001b[0;34m(\u001b[0m\u001b[0mdf\u001b[0m\u001b[0;34m,\u001b[0m \u001b[0mheader\u001b[0m\u001b[0;34m=\u001b[0m\u001b[0;32mTrue\u001b[0m\u001b[0;34m,\u001b[0m \u001b[0minferSchema\u001b[0m\u001b[0;34m=\u001b[0m\u001b[0;32mTrue\u001b[0m\u001b[0;34m,\u001b[0m \u001b[0msep\u001b[0m\u001b[0;34m=\u001b[0m\u001b[0;34m\",\"\u001b[0m\u001b[0;34m)\u001b[0m\u001b[0;34m\u001b[0m\u001b[0;34m\u001b[0m\u001b[0m\n\u001b[0m\u001b[1;32m      3\u001b[0m \u001b[0mdf\u001b[0m\u001b[0;34m.\u001b[0m\u001b[0mregisterTempTable\u001b[0m\u001b[0;34m(\u001b[0m\u001b[0;34m\"df\"\u001b[0m\u001b[0;34m)\u001b[0m\u001b[0;34m\u001b[0m\u001b[0;34m\u001b[0m\u001b[0m\n\u001b[1;32m      4\u001b[0m \u001b[0mdf\u001b[0m\u001b[0;34m.\u001b[0m\u001b[0mcount\u001b[0m\u001b[0;34m(\u001b[0m\u001b[0;34m)\u001b[0m\u001b[0;34m\u001b[0m\u001b[0;34m\u001b[0m\u001b[0m\n",
            "\u001b[0;32m/usr/local/lib/python3.10/dist-packages/pyspark/sql/readwriter.py\u001b[0m in \u001b[0;36mload\u001b[0;34m(self, path, format, schema, **options)\u001b[0m\n\u001b[1;32m    305\u001b[0m         \u001b[0mself\u001b[0m\u001b[0;34m.\u001b[0m\u001b[0moptions\u001b[0m\u001b[0;34m(\u001b[0m\u001b[0;34m**\u001b[0m\u001b[0moptions\u001b[0m\u001b[0;34m)\u001b[0m\u001b[0;34m\u001b[0m\u001b[0;34m\u001b[0m\u001b[0m\n\u001b[1;32m    306\u001b[0m         \u001b[0;32mif\u001b[0m \u001b[0misinstance\u001b[0m\u001b[0;34m(\u001b[0m\u001b[0mpath\u001b[0m\u001b[0;34m,\u001b[0m \u001b[0mstr\u001b[0m\u001b[0;34m)\u001b[0m\u001b[0;34m:\u001b[0m\u001b[0;34m\u001b[0m\u001b[0;34m\u001b[0m\u001b[0m\n\u001b[0;32m--> 307\u001b[0;31m             \u001b[0;32mreturn\u001b[0m \u001b[0mself\u001b[0m\u001b[0;34m.\u001b[0m\u001b[0m_df\u001b[0m\u001b[0;34m(\u001b[0m\u001b[0mself\u001b[0m\u001b[0;34m.\u001b[0m\u001b[0m_jreader\u001b[0m\u001b[0;34m.\u001b[0m\u001b[0mload\u001b[0m\u001b[0;34m(\u001b[0m\u001b[0mpath\u001b[0m\u001b[0;34m)\u001b[0m\u001b[0;34m)\u001b[0m\u001b[0;34m\u001b[0m\u001b[0;34m\u001b[0m\u001b[0m\n\u001b[0m\u001b[1;32m    308\u001b[0m         \u001b[0;32melif\u001b[0m \u001b[0mpath\u001b[0m \u001b[0;32mis\u001b[0m \u001b[0;32mnot\u001b[0m \u001b[0;32mNone\u001b[0m\u001b[0;34m:\u001b[0m\u001b[0;34m\u001b[0m\u001b[0;34m\u001b[0m\u001b[0m\n\u001b[1;32m    309\u001b[0m             \u001b[0;32mif\u001b[0m \u001b[0mtype\u001b[0m\u001b[0;34m(\u001b[0m\u001b[0mpath\u001b[0m\u001b[0;34m)\u001b[0m \u001b[0;34m!=\u001b[0m \u001b[0mlist\u001b[0m\u001b[0;34m:\u001b[0m\u001b[0;34m\u001b[0m\u001b[0;34m\u001b[0m\u001b[0m\n",
            "\u001b[0;32m/usr/local/lib/python3.10/dist-packages/py4j/java_gateway.py\u001b[0m in \u001b[0;36m__call__\u001b[0;34m(self, *args)\u001b[0m\n\u001b[1;32m   1320\u001b[0m \u001b[0;34m\u001b[0m\u001b[0m\n\u001b[1;32m   1321\u001b[0m         \u001b[0manswer\u001b[0m \u001b[0;34m=\u001b[0m \u001b[0mself\u001b[0m\u001b[0;34m.\u001b[0m\u001b[0mgateway_client\u001b[0m\u001b[0;34m.\u001b[0m\u001b[0msend_command\u001b[0m\u001b[0;34m(\u001b[0m\u001b[0mcommand\u001b[0m\u001b[0;34m)\u001b[0m\u001b[0;34m\u001b[0m\u001b[0;34m\u001b[0m\u001b[0m\n\u001b[0;32m-> 1322\u001b[0;31m         return_value = get_return_value(\n\u001b[0m\u001b[1;32m   1323\u001b[0m             answer, self.gateway_client, self.target_id, self.name)\n\u001b[1;32m   1324\u001b[0m \u001b[0;34m\u001b[0m\u001b[0m\n",
            "\u001b[0;32m/usr/local/lib/python3.10/dist-packages/pyspark/errors/exceptions/captured.py\u001b[0m in \u001b[0;36mdeco\u001b[0;34m(*a, **kw)\u001b[0m\n\u001b[1;32m    183\u001b[0m                 \u001b[0;31m# Hide where the exception came from that shows a non-Pythonic\u001b[0m\u001b[0;34m\u001b[0m\u001b[0;34m\u001b[0m\u001b[0m\n\u001b[1;32m    184\u001b[0m                 \u001b[0;31m# JVM exception message.\u001b[0m\u001b[0;34m\u001b[0m\u001b[0;34m\u001b[0m\u001b[0m\n\u001b[0;32m--> 185\u001b[0;31m                 \u001b[0;32mraise\u001b[0m \u001b[0mconverted\u001b[0m \u001b[0;32mfrom\u001b[0m \u001b[0;32mNone\u001b[0m\u001b[0;34m\u001b[0m\u001b[0;34m\u001b[0m\u001b[0m\n\u001b[0m\u001b[1;32m    186\u001b[0m             \u001b[0;32melse\u001b[0m\u001b[0;34m:\u001b[0m\u001b[0;34m\u001b[0m\u001b[0;34m\u001b[0m\u001b[0m\n\u001b[1;32m    187\u001b[0m                 \u001b[0;32mraise\u001b[0m\u001b[0;34m\u001b[0m\u001b[0;34m\u001b[0m\u001b[0m\n",
            "\u001b[0;31mAnalysisException\u001b[0m: [PATH_NOT_FOUND] Path does not exist: file:/content/dados_ssp_sp.csv."
          ]
        }
      ]
    },
    {
      "cell_type": "code",
      "source": [
        "df.show(4)"
      ],
      "metadata": {
        "id": "pdRyF7YS6tRu"
      },
      "execution_count": null,
      "outputs": []
    },
    {
      "cell_type": "code",
      "source": [
        "from pyspark.sql.functions import concat, col, to_date, lit, lpad\n",
        "\n",
        "# Assuming \"ano\" and \"mes\" are integer columns\n",
        "df = df.withColumn(\n",
        "    \"mes\",\n",
        "    lpad(col(\"mes\").cast(\"string\"), 2, \"0\")\n",
        ")\n",
        "\n",
        "# Coluna de yyyymm\n",
        "df = df.withColumn(\"yyyymm\", concat(col(\"ano\"), col(\"mes\") ) )\n",
        "\n",
        "\n",
        "# Reordenar Coluna\n",
        "reordem = [\"yyyymm\"] + df.columns[:-1]\n",
        "reordem\n",
        "\n",
        "# Ordem Dataframe\n",
        "df = df.select(reordem)"
      ],
      "metadata": {
        "id": "gKkePo3yjul0"
      },
      "execution_count": null,
      "outputs": []
    },
    {
      "cell_type": "code",
      "source": [
        "# # Verificando dominios\n",
        "# df.select(\"yyyymm\", \"ano\", \"mes\").distinct() \\\n",
        "#   .orderBy( asc(\"yyyymm\") ) \\\n",
        "#   .show(5)"
      ],
      "metadata": {
        "colab": {
          "base_uri": "https://localhost:8080/"
        },
        "id": "EmzrhaYlieOZ",
        "outputId": "ee370e26-069e-42d1-e613-2b86bb820b69"
      },
      "execution_count": null,
      "outputs": [
        {
          "output_type": "stream",
          "name": "stdout",
          "text": [
            "+------+----+---+\n",
            "|yyyymm| ano|mes|\n",
            "+------+----+---+\n",
            "|200201|2002| 01|\n",
            "|200202|2002| 02|\n",
            "|200203|2002| 03|\n",
            "|200204|2002| 04|\n",
            "|200205|2002| 05|\n",
            "+------+----+---+\n",
            "only showing top 5 rows\n",
            "\n"
          ]
        }
      ]
    },
    {
      "cell_type": "code",
      "source": [
        "#Testes Filtros\n",
        "df_filtrado = df.filter( (col(\"ano\") == 2019) & (col(\"regiao_ssp\") == \"Capital\") )#& (col(\"mes\") == 1) )\n",
        "\n",
        "# & (col(\"id_municipio\") == \"3501103\") )"
      ],
      "metadata": {
        "id": "J1LKHD-F6vbP"
      },
      "execution_count": null,
      "outputs": []
    },
    {
      "cell_type": "code",
      "source": [
        "df_filtrado.count()"
      ],
      "metadata": {
        "colab": {
          "base_uri": "https://localhost:8080/"
        },
        "id": "av5oqweQ7HSW",
        "outputId": "e5be3fa4-25b6-45d0-a7b8-c18467a84cec"
      },
      "execution_count": null,
      "outputs": [
        {
          "output_type": "execute_result",
          "data": {
            "text/plain": [
              "12"
            ]
          },
          "metadata": {},
          "execution_count": 191
        }
      ]
    },
    {
      "cell_type": "code",
      "source": [
        "df_filtrado.show(12)"
      ],
      "metadata": {
        "colab": {
          "base_uri": "https://localhost:8080/"
        },
        "id": "UqxpWvrp7IbP",
        "outputId": "2b2674fc-c242-4b82-d879-671e614d3a43"
      },
      "execution_count": null,
      "outputs": [
        {
          "output_type": "stream",
          "name": "stdout",
          "text": [
            "+------+------+----+---+------------+----------+----------------+-------------------------------------+-----------------------------------------+--------------------------------------------------------------+------------------------------------------+------------------------+----------------------+-------------------------------+---------------------+-----------------------------------------------+-----------------------------+----------+-------------------------------+----------------+-------+---------------------+---------------------+------------+----------------+-------------+--------------+------------+\n",
            "|yyyymm|yyyymm| ano|mes|id_municipio|regiao_ssp|homicidio_doloso|numero_de_vitimas_em_homicidio_doloso|homicidio_doloso_por_acidente_de_transito|numero_de_vitimas_em_homicidio_doloso_por_acidente_de_transito|homicidio_culposo_por_acidente_de_transito|homicidio_culposo_outros|tentativa_de_homicidio|lesao_corporal_seguida_de_morte|lesao_corporal_dolosa|lesao_corporal_culposa_por_acidente_de_transito|lesao_corporal_culposa_outras|latrocinio|numero_de_vitimas_em_latrocinio|total_de_estupro|estupro|estupro_de_vulneravel|total_de_roubo_outros|roubo_outros|roubo_de_veiculo|roubo_a_banco|roubo_de_carga|furto_outros|\n",
            "+------+------+----+---+------------+----------+----------------+-------------------------------------+-----------------------------------------+--------------------------------------------------------------+------------------------------------------+------------------------+----------------------+-------------------------------+---------------------+-----------------------------------------------+-----------------------------+----------+-------------------------------+----------------+-------+---------------------+---------------------+------------+----------------+-------------+--------------+------------+\n",
            "|201901|201901|2019| 01|     3550308|   Capital|              55|                                   56|                                        0|                                                             0|                                        66|                       3|                    71|                              2|                 2565|                                           1106|                           89|         6|                              6|             214|     61|                  153|                10980|       10672|            1747|            1|           307|       17270|\n",
            "|201902|201902|2019| 02|     3550308|   Capital|              48|                                   48|                                        0|                                                             0|                                        31|                       4|                    57|                              2|                 2495|                                            988|                           98|         4|                              5|             186|     67|                  119|                10206|        9948|            1585|            1|           257|       19468|\n",
            "|201903|201903|2019| 03|     3550308|   Capital|              75|                                   85|                                        0|                                                             0|                                        31|                       0|                    64|                              0|                 2662|                                           1170|                           97|         3|                              3|             238|     72|                  166|                11810|       11509|            1796|            2|           299|       23693|\n",
            "|201904|201904|2019| 04|     3550308|   Capital|              59|                                   59|                                        0|                                                             0|                                        22|                       0|                    69|                              1|                 2793|                                           1255|                          172|         3|                              3|             229|     60|                  169|                11141|       10844|            1865|            1|           296|       18730|\n",
            "|201905|201905|2019| 05|     3550308|   Capital|              45|                                   50|                                        0|                                                             0|                                        47|                       1|                    67|                              1|                 2429|                                           1285|                          104|         7|                              7|             199|     58|                  141|                11547|       11263|            1914|            1|           283|       20480|\n",
            "|201906|201906|2019| 06|     3550308|   Capital|              46|                                   48|                                        1|                                                             1|                                        30|                       1|                    55|                              3|                 2270|                                           1156|                           99|         8|                              8|             177|     59|                  118|                12486|       12185|            1802|            2|           299|       19312|\n",
            "|201907|201907|2019| 07|     3550308|   Capital|              53|                                   55|                                        2|                                                             2|                                        34|                       4|                    57|                              0|                 2305|                                           1229|                           94|         3|                              3|             198|     47|                  151|                12019|       11667|            1688|            2|           350|       17946|\n",
            "|201908|201908|2019| 08|     3550308|   Capital|              40|                                   42|                                        0|                                                             0|                                        38|                       1|                    60|                              2|                 2283|                                           1238|                           87|         3|                              4|             209|     55|                  154|                12258|       11945|            1616|            1|           312|       18647|\n",
            "|201909|201909|2019| 09|     3550308|   Capital|              52|                                   57|                                        0|                                                             0|                                        26|                       2|                    67|                              2|                 2389|                                           1122|                          103|         8|                              8|             253|     77|                  176|                11540|       11283|            1525|            0|           257|       17166|\n",
            "|201910|201910|2019| 10|     3550308|   Capital|              62|                                   66|                                        0|                                                             0|                                        36|                       1|                    56|                              3|                 2618|                                           1356|                          131|         2|                              2|             302|     84|                  218|                12485|       12134|            1772|            1|           350|       18952|\n",
            "|201911|201911|2019| 11|     3550308|   Capital|              62|                                   63|                                        0|                                                             0|                                        28|                       4|                    66|                              2|                 2527|                                           1161|                          111|         2|                              2|             248|     71|                  177|                12274|       11956|            1858|            1|           317|       17955|\n",
            "|201912|201912|2019| 12|     3550308|   Capital|              53|                                   56|                                        0|                                                             0|                                        32|                       3|                    57|                              4|                 2528|                                           1080|                          134|        15|                             15|             210|     61|                  149|                12388|       11963|            2061|            0|           425|       16947|\n",
            "+------+------+----+---+------------+----------+----------------+-------------------------------------+-----------------------------------------+--------------------------------------------------------------+------------------------------------------+------------------------+----------------------+-------------------------------+---------------------+-----------------------------------------------+-----------------------------+----------+-------------------------------+----------------+-------+---------------------+---------------------+------------+----------------+-------------+--------------+------------+\n",
            "\n"
          ]
        }
      ]
    },
    {
      "cell_type": "code",
      "source": [
        "manter = df.columns[0:5]\n",
        "outras_colunas = set(df.columns) - set(manter)"
      ],
      "metadata": {
        "id": "o9EgkPI88TWn"
      },
      "execution_count": null,
      "outputs": []
    },
    {
      "cell_type": "code",
      "source": [
        "colunas_manter = manter\n",
        "colunas_pivotar = list(outras_colunas)"
      ],
      "metadata": {
        "id": "3PEj4jvC8XR4"
      },
      "execution_count": null,
      "outputs": []
    },
    {
      "cell_type": "code",
      "source": [
        "len(colunas_pivotar)"
      ],
      "metadata": {
        "colab": {
          "base_uri": "https://localhost:8080/"
        },
        "id": "9fDKRhnK0P-k",
        "outputId": "3c976882-ddeb-4a14-f809-423aa3fe01f1"
      },
      "execution_count": null,
      "outputs": [
        {
          "output_type": "execute_result",
          "data": {
            "text/plain": [
              "23"
            ]
          },
          "metadata": {},
          "execution_count": 213
        }
      ]
    },
    {
      "cell_type": "code",
      "source": [
        "colunas_manter"
      ],
      "metadata": {
        "colab": {
          "base_uri": "https://localhost:8080/"
        },
        "id": "0Em7ZpLcxhLa",
        "outputId": "178822c5-15ae-4c3a-bdc0-9f7d7bcf7452"
      },
      "execution_count": null,
      "outputs": [
        {
          "output_type": "execute_result",
          "data": {
            "text/plain": [
              "['yyyymm', 'ano', 'mes', 'id_municipio', 'regiao_ssp']"
            ]
          },
          "metadata": {},
          "execution_count": 215
        }
      ]
    },
    {
      "cell_type": "code",
      "source": [
        "colunas_pivotar"
      ],
      "metadata": {
        "id": "FvRiIS-51KYJ",
        "colab": {
          "base_uri": "https://localhost:8080/"
        },
        "outputId": "88fddb2e-8c52-4f91-f035-d350049d7b67"
      },
      "execution_count": null,
      "outputs": [
        {
          "output_type": "execute_result",
          "data": {
            "text/plain": [
              "['roubo_de_veiculo',\n",
              " 'numero_de_vitimas_em_homicidio_doloso',\n",
              " 'homicidio_culposo_por_acidente_de_transito',\n",
              " 'roubo_outros',\n",
              " 'numero_de_vitimas_em_latrocinio',\n",
              " 'homicidio_doloso',\n",
              " 'furto_outros',\n",
              " 'lesao_corporal_culposa_por_acidente_de_transito',\n",
              " 'numero_de_vitimas_em_homicidio_doloso_por_acidente_de_transito',\n",
              " 'homicidio_culposo_outros',\n",
              " 'total_de_roubo_outros',\n",
              " 'lesao_corporal_seguida_de_morte',\n",
              " 'total_de_estupro',\n",
              " 'estupro_de_vulneravel',\n",
              " 'tentativa_de_homicidio',\n",
              " 'estupro',\n",
              " 'roubo_de_carga',\n",
              " 'homicidio_doloso_por_acidente_de_transito',\n",
              " 'furto_de_veiculo',\n",
              " 'lesao_corporal_dolosa',\n",
              " 'latrocinio',\n",
              " 'lesao_corporal_culposa_outras',\n",
              " 'roubo_a_banco']"
            ]
          },
          "metadata": {},
          "execution_count": 216
        }
      ]
    },
    {
      "cell_type": "code",
      "source": [
        "# Assuming your DataFrame is named 'df'\n",
        "unpivotExp = \", \".join([f\"'{col}', {col}\" for col in colunas_pivotar])"
      ],
      "metadata": {
        "id": "XorP1nTu1PmK"
      },
      "execution_count": null,
      "outputs": []
    },
    {
      "cell_type": "code",
      "source": [
        "unpivotExp"
      ],
      "metadata": {
        "colab": {
          "base_uri": "https://localhost:8080/",
          "height": 140
        },
        "id": "EkFXwIsJ1L_O",
        "outputId": "bb63f38b-fa8c-4081-d365-ef26f3c4950c"
      },
      "execution_count": null,
      "outputs": [
        {
          "output_type": "execute_result",
          "data": {
            "text/plain": [
              "\"'roubo_de_veiculo', roubo_de_veiculo, 'numero_de_vitimas_em_homicidio_doloso', numero_de_vitimas_em_homicidio_doloso, 'homicidio_culposo_por_acidente_de_transito', homicidio_culposo_por_acidente_de_transito, 'roubo_outros', roubo_outros, 'numero_de_vitimas_em_latrocinio', numero_de_vitimas_em_latrocinio, 'homicidio_doloso', homicidio_doloso, 'furto_outros', furto_outros, 'lesao_corporal_culposa_por_acidente_de_transito', lesao_corporal_culposa_por_acidente_de_transito, 'numero_de_vitimas_em_homicidio_doloso_por_acidente_de_transito', numero_de_vitimas_em_homicidio_doloso_por_acidente_de_transito, 'homicidio_culposo_outros', homicidio_culposo_outros, 'total_de_roubo_outros', total_de_roubo_outros, 'lesao_corporal_seguida_de_morte', lesao_corporal_seguida_de_morte, 'total_de_estupro', total_de_estupro, 'estupro_de_vulneravel', estupro_de_vulneravel, 'tentativa_de_homicidio', tentativa_de_homicidio, 'estupro', estupro, 'roubo_de_carga', roubo_de_carga, 'homicidio_doloso_por_acidente_de_transito', homicidio_doloso_por_acidente_de_transito, 'furto_de_veiculo', furto_de_veiculo, 'lesao_corporal_dolosa', lesao_corporal_dolosa, 'latrocinio', latrocinio, 'lesao_corporal_culposa_outras', lesao_corporal_culposa_outras, 'roubo_a_banco', roubo_a_banco\""
            ],
            "application/vnd.google.colaboratory.intrinsic+json": {
              "type": "string"
            }
          },
          "metadata": {},
          "execution_count": 218
        }
      ]
    },
    {
      "cell_type": "code",
      "source": [
        "len(colunas_pivotar)"
      ],
      "metadata": {
        "colab": {
          "base_uri": "https://localhost:8080/"
        },
        "id": "HcatvvqoqkW2",
        "outputId": "063215c7-641d-4880-bbee-b7880723481e"
      },
      "execution_count": null,
      "outputs": [
        {
          "output_type": "execute_result",
          "data": {
            "text/plain": [
              "23"
            ]
          },
          "metadata": {},
          "execution_count": 219
        }
      ]
    },
    {
      "cell_type": "code",
      "source": [
        "df_unpivoted = df.selectExpr(*colunas_manter, f\"stack({len(colunas_pivotar)}, {unpivotExp}) as (indicador, valor)\")"
      ],
      "metadata": {
        "id": "ZXM3lnBc1jQe"
      },
      "execution_count": null,
      "outputs": []
    },
    {
      "cell_type": "code",
      "source": [
        "df_unpivoted.count()"
      ],
      "metadata": {
        "colab": {
          "base_uri": "https://localhost:8080/"
        },
        "id": "LVkWGhaZ19fa",
        "outputId": "9a79aaa5-ac51-4c32-f00d-74c2db15c4b2"
      },
      "execution_count": null,
      "outputs": [
        {
          "output_type": "execute_result",
          "data": {
            "text/plain": [
              "3539148"
            ]
          },
          "metadata": {},
          "execution_count": 93
        }
      ]
    },
    {
      "cell_type": "code",
      "source": [
        "# Furtos é a modalidade de ocorrência com maior registros realizados durante toda a série histórica\n",
        "# Vale ressaltar que para aprimorar essa análise, faria sentido o indicador ocorrências p/ cada 100 mil habitantes da região\n",
        "# Permitindo uma análise condizente entre os municípios, dado que a Capital apresenta, em nºs absolutos, a maior incidência de crimes\n",
        "\n",
        "df_unpivoted.orderBy( desc(\"valor\"), asc(\"ano\"), asc(\"mes\") ).show(10, truncate=False)"
      ],
      "metadata": {
        "colab": {
          "base_uri": "https://localhost:8080/"
        },
        "id": "-B85fQOz2ZbL",
        "outputId": "3eb73005-b923-4725-ea05-c2174fc50116"
      },
      "execution_count": null,
      "outputs": [
        {
          "output_type": "stream",
          "name": "stdout",
          "text": [
            "+------+----+---+------------+----------+------------+-----+\n",
            "|yyyymm|ano |mes|id_municipio|regiao_ssp|indicador   |valor|\n",
            "+------+----+---+------------+----------+------------+-----+\n",
            "|20202 |2020|2  |3550308     |Capital   |furto_outros|25063|\n",
            "|20193 |2019|3  |3550308     |Capital   |furto_outros|23693|\n",
            "|20182 |2018|2  |3550308     |Capital   |furto_outros|22852|\n",
            "|20195 |2019|5  |3550308     |Capital   |furto_outros|20480|\n",
            "|20192 |2019|2  |3550308     |Capital   |furto_outros|19468|\n",
            "|20196 |2019|6  |3550308     |Capital   |furto_outros|19312|\n",
            "|201910|2019|10 |3550308     |Capital   |furto_outros|18952|\n",
            "|20194 |2019|4  |3550308     |Capital   |furto_outros|18730|\n",
            "|20198 |2019|8  |3550308     |Capital   |furto_outros|18647|\n",
            "|20201 |2020|1  |3550308     |Capital   |furto_outros|18593|\n",
            "+------+----+---+------------+----------+------------+-----+\n",
            "only showing top 10 rows\n",
            "\n"
          ]
        }
      ]
    },
    {
      "cell_type": "code",
      "source": [
        "# Save File\n",
        "path = f\"/content/drive/MyDrive/Dados_SSP_SP/Parquet_Files\"\n",
        "df_unpivoted.coalesce(1) \\\n",
        "  .write \\\n",
        "  .partitionBy(\"yyyymm\") \\\n",
        "  .parquet(path, mode=\"overwrite\")"
      ],
      "metadata": {
        "id": "rrWnCPIGZXAg"
      },
      "execution_count": null,
      "outputs": []
    },
    {
      "cell_type": "code",
      "source": [
        "#End"
      ],
      "metadata": {
        "id": "cENaBkmPb-z4"
      },
      "execution_count": null,
      "outputs": []
    }
  ]
}