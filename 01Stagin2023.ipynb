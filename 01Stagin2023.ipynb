{
 "cells": [
  {
   "cell_type": "code",
   "execution_count": 1,
   "metadata": {},
   "outputs": [
    {
     "name": "stdout",
     "output_type": "stream",
     "text": [
      "Starting Spark application\n"
     ]
    },
    {
     "data": {
      "text/html": [
       "<table>\n",
       "<tr><th>ID</th><th>YARN Application ID</th><th>Kind</th><th>State</th><th>Spark UI</th><th>Driver log</th><th>Current session?</th></tr><tr><td>3</td><td>application_1704932445830_0004</td><td>pyspark</td><td>idle</td><td><a target=\"_blank\" href=\"http://ip-172-31-31-253.ec2.internal:20888/proxy/application_1704932445830_0004/\">Link</a></td><td><a target=\"_blank\" href=\"http://ip-172-31-21-171.ec2.internal:8042/node/containerlogs/container_1704932445830_0004_01_000001/livy\">Link</a></td><td>✔</td></tr></table>"
      ],
      "text/plain": [
       "<IPython.core.display.HTML object>"
      ]
     },
     "metadata": {},
     "output_type": "display_data"
    },
    {
     "data": {
      "application/vnd.jupyter.widget-view+json": {
       "model_id": "",
       "version_major": 2,
       "version_minor": 0
      },
      "text/plain": [
       "FloatProgress(value=0.0, bar_style='info', description='Progress:', layout=Layout(height='25px', width='50%'),…"
      ]
     },
     "metadata": {},
     "output_type": "display_data"
    },
    {
     "name": "stdout",
     "output_type": "stream",
     "text": [
      "SparkSession available as 'spark'.\n"
     ]
    },
    {
     "data": {
      "application/vnd.jupyter.widget-view+json": {
       "model_id": "",
       "version_major": 2,
       "version_minor": 0
      },
      "text/plain": [
       "FloatProgress(value=0.0, bar_style='info', description='Progress:', layout=Layout(height='25px', width='50%'),…"
      ]
     },
     "metadata": {},
     "output_type": "display_data"
    },
    {
     "name": "stdout",
     "output_type": "stream",
     "text": [
      "<pyspark.sql.session.SparkSession object at 0x7faea7f87510>"
     ]
    }
   ],
   "source": [
    "spark"
   ]
  },
  {
   "cell_type": "code",
   "execution_count": 2,
   "metadata": {},
   "outputs": [
    {
     "data": {
      "application/vnd.jupyter.widget-view+json": {
       "model_id": "",
       "version_major": 2,
       "version_minor": 0
      },
      "text/plain": [
       "FloatProgress(value=0.0, bar_style='info', description='Progress:', layout=Layout(height='25px', width='50%'),…"
      ]
     },
     "metadata": {},
     "output_type": "display_data"
    }
   ],
   "source": [
    "#importando bibliotecas\n",
    "import os\n",
    "import sys\n",
    "import pytz\n",
    "import numpy as np\n",
    "import datetime\n",
    "import time\n",
    "from pyspark.sql import SparkSession\n",
    "from pyspark.sql import SQLContext\n",
    "from pyspark.sql.functions import col, udf, lpad, translate, to_timestamp, date_format\n",
    "from datetime import datetime\n",
    "from datetime import timedelta\n",
    "from datetime import date\n",
    "from dateutil.relativedelta import relativedelta\n",
    "from pyspark.sql.types import *\n",
    "from pyspark.sql.functions import count, avg, col, asc, desc, min, avg,max,sum,count,stddev"
   ]
  },
  {
   "cell_type": "code",
   "execution_count": 3,
   "metadata": {},
   "outputs": [
    {
     "data": {
      "application/vnd.jupyter.widget-view+json": {
       "model_id": "",
       "version_major": 2,
       "version_minor": 0
      },
      "text/plain": [
       "FloatProgress(value=0.0, bar_style='info', description='Progress:', layout=Layout(height='25px', width='50%'),…"
      ]
     },
     "metadata": {},
     "output_type": "display_data"
    }
   ],
   "source": [
    "#funcao freq\n",
    "### FREQ FUNCTION\n",
    "def Freq(pTabela,pColuna):\n",
    "\n",
    "    qtd_total=pTabela.count()\n",
    "\n",
    "    pTabela.registerTempTable(\"tab_input\")\n",
    "    frq = spark.sql(\n",
    "            \"\"\"\n",
    "                select\n",
    "                    {col},\n",
    "                    count(*) as qtd_absoluto,\n",
    "                    round(100*(count(*) / {tot}),2) as qtd_percentual\n",
    "                from\n",
    "                    tab_input\n",
    "                group by\n",
    "                    {col}\n",
    "                order by\n",
    "                    {col}\n",
    "            \"\"\".format(col=pColuna, tot=qtd_total))\n",
    "\n",
    "    qtd=frq.count()\n",
    "    print('Quantidade de dominios',qtd)\n",
    "    if qtd > 500:\n",
    "        frq.show(1000,truncate=False)\n",
    "        return \"Dominio muito granular\"\n",
    "\n",
    "    else:\n",
    "        frq.show(qtd,truncate=False)\n",
    "        print(\"volumetria total:\",qtd_total)\n",
    "        return 'Freq da coluna ' + pColuna;"
   ]
  },
  {
   "cell_type": "code",
   "execution_count": 4,
   "metadata": {},
   "outputs": [
    {
     "data": {
      "application/vnd.jupyter.widget-view+json": {
       "model_id": "",
       "version_major": 2,
       "version_minor": 0
      },
      "text/plain": [
       "FloatProgress(value=0.0, bar_style='info', description='Progress:', layout=Layout(height='25px', width='50%'),…"
      ]
     },
     "metadata": {},
     "output_type": "display_data"
    }
   ],
   "source": [
    "agora = datetime.now(pytz.timezone('America/Sao_Paulo'))\n",
    "dthproc = agora.strftime(\"%Y%m%d%H%M%S\")"
   ]
  },
  {
   "cell_type": "code",
   "execution_count": 5,
   "metadata": {},
   "outputs": [
    {
     "data": {
      "application/vnd.jupyter.widget-view+json": {
       "model_id": "",
       "version_major": 2,
       "version_minor": 0
      },
      "text/plain": [
       "FloatProgress(value=0.0, bar_style='info', description='Progress:', layout=Layout(height='25px', width='50%'),…"
      ]
     },
     "metadata": {},
     "output_type": "display_data"
    }
   ],
   "source": [
    "spark = SparkSession.builder.appName(\"t_ssp_montly_file\").getOrCreate()\n",
    "sqlContext = SQLContext(spark.sparkContext)"
   ]
  },
  {
   "cell_type": "markdown",
   "metadata": {},
   "source": [
    "# Carregando arquivos"
   ]
  },
  {
   "cell_type": "code",
   "execution_count": 6,
   "metadata": {},
   "outputs": [
    {
     "data": {
      "application/vnd.jupyter.widget-view+json": {
       "model_id": "",
       "version_major": 2,
       "version_minor": 0
      },
      "text/plain": [
       "FloatProgress(value=0.0, bar_style='info', description='Progress:', layout=Layout(height='25px', width='50%'),…"
      ]
     },
     "metadata": {},
     "output_type": "display_data"
    }
   ],
   "source": [
    "### MOD_PER_FILE\n",
    "file = \"OcorrenciaMensal(Criminal)-EstadoSP_2023.csv\"\n",
    "#file = \"OcorrenciaMensal(Criminal)-EstadoSP_2022.csv\""
   ]
  },
  {
   "cell_type": "code",
   "execution_count": 7,
   "metadata": {},
   "outputs": [
    {
     "data": {
      "application/vnd.jupyter.widget-view+json": {
       "model_id": "",
       "version_major": 2,
       "version_minor": 0
      },
      "text/plain": [
       "FloatProgress(value=0.0, bar_style='info', description='Progress:', layout=Layout(height='25px', width='50%'),…"
      ]
     },
     "metadata": {},
     "output_type": "display_data"
    },
    {
     "name": "stdout",
     "output_type": "stream",
     "text": [
      "EstadoSP_2023"
     ]
    }
   ],
   "source": [
    "ts_file_generation = file.split(\"-\")[-1].replace(\".csv\", \"\")\n",
    "print(ts_file_generation)"
   ]
  },
  {
   "cell_type": "code",
   "execution_count": 8,
   "metadata": {},
   "outputs": [
    {
     "data": {
      "application/vnd.jupyter.widget-view+json": {
       "model_id": "",
       "version_major": 2,
       "version_minor": 0
      },
      "text/plain": [
       "FloatProgress(value=0.0, bar_style='info', description='Progress:', layout=Layout(height='25px', width='50%'),…"
      ]
     },
     "metadata": {},
     "output_type": "display_data"
    }
   ],
   "source": [
    "# Endereco Buckets (provisorio)\n",
    "bucket_control =    \"bkt-ssp/Files/05_Control\"\n",
    "bucket_ingestion =  \"bkt-ssp/Files/01_IngestionZone\"\n",
    "bucket_raw =        \"bkt-ssp/Files/02_RawZone\"\n",
    "bucket_trusted =    \"bkt-ssp/Files/03_TrustedZone\"\n",
    "bucket_refined =    \"bkt-ssp/Files/04_RefinedZone\""
   ]
  },
  {
   "cell_type": "code",
   "execution_count": 9,
   "metadata": {},
   "outputs": [
    {
     "data": {
      "application/vnd.jupyter.widget-view+json": {
       "model_id": "",
       "version_major": 2,
       "version_minor": 0
      },
      "text/plain": [
       "FloatProgress(value=0.0, bar_style='info', description='Progress:', layout=Layout(height='25px', width='50%'),…"
      ]
     },
     "metadata": {},
     "output_type": "display_data"
    }
   ],
   "source": [
    "### MOD_PER_FILE\n",
    "output_lake = \"ingestion_ssp_2022\""
   ]
  },
  {
   "cell_type": "code",
   "execution_count": 10,
   "metadata": {},
   "outputs": [
    {
     "data": {
      "application/vnd.jupyter.widget-view+json": {
       "model_id": "",
       "version_major": 2,
       "version_minor": 0
      },
      "text/plain": [
       "FloatProgress(value=0.0, bar_style='info', description='Progress:', layout=Layout(height='25px', width='50%'),…"
      ]
     },
     "metadata": {},
     "output_type": "display_data"
    },
    {
     "name": "stdout",
     "output_type": "stream",
     "text": [
      "s3://bkt-ssp/Files/01_IngestionZone/OcorrenciaMensal(Criminal)-EstadoSP_2023.csv"
     ]
    }
   ],
   "source": [
    "### MOD_PER_FILE\n",
    "full_path_ingestion = 's3://{bkt}/{file}'.format(bkt=bucket_ingestion,file=file)\n",
    "print(full_path_ingestion)"
   ]
  },
  {
   "cell_type": "code",
   "execution_count": 11,
   "metadata": {},
   "outputs": [
    {
     "data": {
      "application/vnd.jupyter.widget-view+json": {
       "model_id": "",
       "version_major": 2,
       "version_minor": 0
      },
      "text/plain": [
       "FloatProgress(value=0.0, bar_style='info', description='Progress:', layout=Layout(height='25px', width='50%'),…"
      ]
     },
     "metadata": {},
     "output_type": "display_data"
    },
    {
     "name": "stdout",
     "output_type": "stream",
     "text": [
      "records ingested:  23\n",
      "Elapsed time: 8.818820714950562 seconds"
     ]
    }
   ],
   "source": [
    "start_time = time.time()\n",
    "\n",
    "pouso = spark.read.format(\n",
    "       \"com.databricks.spark.csv\").option(\n",
    "       \"header\", \"true\").option(\n",
    "       \"encoding\", \"ISO-8859-1\").option(\n",
    "       \"encoding\", \"UTF-8\").option(\n",
    "       \"inferSchema\", \"false\").option(\n",
    "        \"delimiter\", ',').load(\n",
    "       full_path_ingestion)\n",
    "\n",
    "pouso.registerTempTable(\"pouso\")\n",
    "pouso.cache()\n",
    "qtd = pouso.count()\n",
    "print('records ingested: ', qtd)\n",
    "\n",
    "# Calculate the elapsed time\n",
    "elapsed_time = time.time() - start_time\n",
    "print('Elapsed time:', elapsed_time, 'seconds')"
   ]
  },
  {
   "cell_type": "code",
   "execution_count": 12,
   "metadata": {},
   "outputs": [
    {
     "data": {
      "application/vnd.jupyter.widget-view+json": {
       "model_id": "",
       "version_major": 2,
       "version_minor": 0
      },
      "text/plain": [
       "FloatProgress(value=0.0, bar_style='info', description='Progress:', layout=Layout(height='25px', width='50%'),…"
      ]
     },
     "metadata": {},
     "output_type": "display_data"
    }
   ],
   "source": [
    "# Ordernamento dados ascendente\n",
    "# Nao necessario para ingestao do ano 2023 e 2024\n",
    "# pouso = pouso.orderBy(asc(\"ano\"),asc(\"mes\"), asc(\"regiao_ssp\"), asc(\"id_municipio\"))"
   ]
  },
  {
   "cell_type": "code",
   "execution_count": 13,
   "metadata": {},
   "outputs": [
    {
     "data": {
      "application/vnd.jupyter.widget-view+json": {
       "model_id": "",
       "version_major": 2,
       "version_minor": 0
      },
      "text/plain": [
       "FloatProgress(value=0.0, bar_style='info', description='Progress:', layout=Layout(height='25px', width='50%'),…"
      ]
     },
     "metadata": {},
     "output_type": "display_data"
    },
    {
     "name": "stdout",
     "output_type": "stream",
     "text": [
      "Natureza,\n",
      "Janeiro,\n",
      "Fevereiro,\n",
      "Marco,\n",
      "Abril,\n",
      "Maio,\n",
      "Junho,\n",
      "Julho,\n",
      "Agosto,\n",
      "Setembro,\n",
      "Outubro,\n",
      "Novembro,\n",
      "Dezembro,\n",
      "Total,"
     ]
    }
   ],
   "source": [
    "# Listagem Colunas\n",
    "for column in pouso.columns:\n",
    "    print(column+',')"
   ]
  },
  {
   "cell_type": "code",
   "execution_count": 14,
   "metadata": {},
   "outputs": [
    {
     "data": {
      "application/vnd.jupyter.widget-view+json": {
       "model_id": "",
       "version_major": 2,
       "version_minor": 0
      },
      "text/plain": [
       "FloatProgress(value=0.0, bar_style='info', description='Progress:', layout=Layout(height='25px', width='50%'),…"
      ]
     },
     "metadata": {},
     "output_type": "display_data"
    },
    {
     "name": "stdout",
     "output_type": "stream",
     "text": [
      "23"
     ]
    }
   ],
   "source": [
    "### Lake SQL statement, partition files will be saved in raw bucket\n",
    "\n",
    "lake = spark.sql(\n",
    "    \"\"\"\n",
    "        select\n",
    "            -- padrao para todas as tabelas\n",
    "\n",
    "            --Nova Coluna para facilitar particionamento yyyy-mm\n",
    "            \n",
    "            --concat(ano, lpad(mes, 2, '0')) as yyyymm,\n",
    "            --concat(ano, lpad(mes, 2, '0')) as yyyymm_partition,\n",
    "\n",
    "            -- Data e Hora do Processamento\n",
    "\n",
    "            {pdthproc} as ts_proc,\n",
    "            {pdthproc} as ts_proc_partition,\n",
    "\n",
    "            -- campos do arquivos\n",
    "            \n",
    "            Natureza,\n",
    "            Janeiro,\n",
    "            Fevereiro,\n",
    "            Marco,\n",
    "            Abril,\n",
    "            Maio,\n",
    "            Junho,\n",
    "            Julho,\n",
    "            Agosto,\n",
    "            Setembro,\n",
    "            Outubro,\n",
    "            Novembro,\n",
    "            Dezembro,\n",
    "            Total\n",
    "        from\n",
    "            pouso\n",
    "    \"\"\".format(tsfileger=ts_file_generation, pdthproc=dthproc))\n",
    "lake.registerTempTable(\"lake\")\n",
    "lake.cache()\n",
    "lake.count()"
   ]
  },
  {
   "cell_type": "code",
   "execution_count": 15,
   "metadata": {},
   "outputs": [
    {
     "data": {
      "application/vnd.jupyter.widget-view+json": {
       "model_id": "",
       "version_major": 2,
       "version_minor": 0
      },
      "text/plain": [
       "FloatProgress(value=0.0, bar_style='info', description='Progress:', layout=Layout(height='25px', width='50%'),…"
      ]
     },
     "metadata": {},
     "output_type": "display_data"
    },
    {
     "name": "stdout",
     "output_type": "stream",
     "text": [
      "s3://bkt-ssp/Files/02_RawZone/ingestion_ssp_2022"
     ]
    }
   ],
   "source": [
    "#Destino\n",
    "path_raw = os.path.join('s3://',bucket_raw,output_lake)\n",
    "print(path_raw)\n",
    "\n",
    "lake.coalesce(1).write \\\n",
    ".partitionBy(\"natureza\", \"ts_proc\", \"ts_proc_partition\") \\\n",
    ".csv(path_raw,mode='overwrite')"
   ]
  },
  {
   "cell_type": "code",
   "execution_count": 18,
   "metadata": {},
   "outputs": [
    {
     "data": {
      "application/vnd.jupyter.widget-view+json": {
       "model_id": "",
       "version_major": 2,
       "version_minor": 0
      },
      "text/plain": [
       "FloatProgress(value=0.0, bar_style='info', description='Progress:', layout=Layout(height='25px', width='50%'),…"
      ]
     },
     "metadata": {},
     "output_type": "display_data"
    }
   ],
   "source": [
    "#End"
   ]
  }
 ],
 "metadata": {
  "kernelspec": {
   "display_name": "PySpark",
   "language": "",
   "name": "pysparkkernel"
  },
  "language_info": {
   "codemirror_mode": {
    "name": "python",
    "version": 3
   },
   "mimetype": "text/x-python",
   "name": "pyspark",
   "pygments_lexer": "python3"
  }
 },
 "nbformat": 4,
 "nbformat_minor": 4
}
