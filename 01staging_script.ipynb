{
  "cells": [
    {
      "cell_type": "code",
      "execution_count": null,
      "metadata": {
        "id": "eelA5oAOMRXc"
      },
      "outputs": [],
      "source": [
        "# !pip install pyspark"
      ]
    },
    {
      "cell_type": "code",
      "execution_count": null,
      "metadata": {},
      "outputs": [],
      "source": [
        "spark"
      ]
    },
    {
      "cell_type": "code",
      "execution_count": null,
      "metadata": {
        "id": "CTkN7gdqmxRr"
      },
      "outputs": [],
      "source": [
        "#importando bibliotecas\n",
        "import os\n",
        "import sys\n",
        "import pytz\n",
        "import numpy as np\n",
        "import datetime\n",
        "import time\n",
        "from pyspark.sql import SparkSession\n",
        "from pyspark.sql import SQLContext\n",
        "from pyspark.sql.functions import col, udf, lpad, translate, to_timestamp, date_format\n",
        "from datetime import datetime\n",
        "from datetime import timedelta\n",
        "from datetime import date\n",
        "from dateutil.relativedelta import relativedelta\n",
        "from pyspark.sql.types import *\n",
        "from pyspark.sql.functions import count, avg, col, asc, desc, min, avg,max,sum,count,stddev"
      ]
    },
    {
      "cell_type": "code",
      "execution_count": null,
      "metadata": {
        "id": "OemBwzmumzAT"
      },
      "outputs": [],
      "source": [
        "#funcao freq\n",
        "### FREQ FUNCTION\n",
        "def Freq(pTabela,pColuna):\n",
        "\n",
        "    qtd_total=pTabela.count()\n",
        "\n",
        "    pTabela.registerTempTable(\"tab_input\")\n",
        "    frq = spark.sql(\n",
        "            \"\"\"\n",
        "                select\n",
        "                    {col},\n",
        "                    count(*) as qtd_absoluto,\n",
        "                    round(100*(count(*) / {tot}),2) as qtd_percentual\n",
        "                from\n",
        "                    tab_input\n",
        "                group by\n",
        "                    {col}\n",
        "                order by\n",
        "                    {col}\n",
        "            \"\"\".format(col=pColuna, tot=qtd_total))\n",
        "\n",
        "    qtd=frq.count()\n",
        "    print('Quantidade de dominios',qtd)\n",
        "    if qtd > 500:\n",
        "        frq.show(1000,truncate=False)\n",
        "        return \"Dominio muito granular\"\n",
        "\n",
        "    else:\n",
        "        frq.show(qtd,truncate=False)\n",
        "        print(\"volumetria total:\",qtd_total)\n",
        "        return 'Freq da coluna ' + pColuna;"
      ]
    },
    {
      "cell_type": "code",
      "execution_count": null,
      "metadata": {
        "id": "DtuDV7cenibZ"
      },
      "outputs": [],
      "source": [
        "agora = datetime.now(pytz.timezone('America/Sao_Paulo'))\n",
        "dthproc = agora.strftime(\"%Y%m%d%H%M%S\")"
      ]
    },
    {
      "cell_type": "code",
      "execution_count": null,
      "metadata": {
        "colab": {
          "base_uri": "https://localhost:8080/"
        },
        "id": "yDbUzDdEoBsh",
        "outputId": "4af13df0-6d3c-44d7-9af0-9295f03febc7"
      },
      "outputs": [
        {
          "name": "stderr",
          "output_type": "stream",
          "text": [
            "/usr/local/lib/python3.10/dist-packages/pyspark/sql/context.py:113: FutureWarning: Deprecated in 3.0.0. Use SparkSession.builder.getOrCreate() instead.\n",
            "  warnings.warn(\n"
          ]
        }
      ],
      "source": [
        "spark = SparkSession.builder.appName(\"t_ssp_montly_file\").getOrCreate()\n",
        "sqlContext = SQLContext(spark.sparkContext)"
      ]
    },
    {
      "cell_type": "code",
      "execution_count": null,
      "metadata": {
        "colab": {
          "base_uri": "https://localhost:8080/",
          "height": 219
        },
        "id": "UL_d8rS-MpEt",
        "outputId": "cdac7151-4128-4e64-a27c-8a6a273b6466"
      },
      "outputs": [
        {
          "data": {
            "text/html": [
              "\n",
              "            <div>\n",
              "                <p><b>SparkSession - in-memory</b></p>\n",
              "                \n",
              "        <div>\n",
              "            <p><b>SparkContext</b></p>\n",
              "\n",
              "            <p><a href=\"http://eb32246dd2d9:4040\">Spark UI</a></p>\n",
              "\n",
              "            <dl>\n",
              "              <dt>Version</dt>\n",
              "                <dd><code>v3.5.0</code></dd>\n",
              "              <dt>Master</dt>\n",
              "                <dd><code>local[*]</code></dd>\n",
              "              <dt>AppName</dt>\n",
              "                <dd><code>t_ssp_montly_file</code></dd>\n",
              "            </dl>\n",
              "        </div>\n",
              "        \n",
              "            </div>\n",
              "        "
            ],
            "text/plain": [
              "<pyspark.sql.session.SparkSession at 0x7e55353c4b80>"
            ]
          },
          "execution_count": 6,
          "metadata": {},
          "output_type": "execute_result"
        }
      ],
      "source": [
        "spark"
      ]
    },
    {
      "cell_type": "markdown",
      "metadata": {
        "id": "W7f1Asvvm4jK"
      },
      "source": [
        "#Carregando arquivos"
      ]
    },
    {
      "cell_type": "code",
      "execution_count": null,
      "metadata": {
        "id": "oOEITP2Am5TB"
      },
      "outputs": [],
      "source": [
        "### MOD_PER_FILE\n",
        "file = \"dados_ssp_sp.csv\""
      ]
    },
    {
      "cell_type": "code",
      "execution_count": null,
      "metadata": {
        "colab": {
          "base_uri": "https://localhost:8080/"
        },
        "id": "S_oOyoHKoTMo",
        "outputId": "2c3e636f-687d-4c47-8ab1-920ca0886995"
      },
      "outputs": [
        {
          "name": "stdout",
          "output_type": "stream",
          "text": [
            "dados_ssp_sp00\n"
          ]
        }
      ],
      "source": [
        "ts_file_generation = file.split(\"-\")[-1].replace(\".csv\", \"\") + \"00\"\n",
        "print(ts_file_generation)"
      ]
    },
    {
      "cell_type": "markdown",
      "metadata": {
        "id": "3CQipTU5QD5K"
      },
      "source": [
        "# Endereco Buckets (provisorio)"
      ]
    },
    {
      "cell_type": "code",
      "execution_count": null,
      "metadata": {
        "id": "lv1J_rFpoUym"
      },
      "outputs": [],
      "source": [
        "bucket_control =    \"bkt-ssp/Files/05_Control\"\n",
        "bucket_ingestion =  \"bkt-ssp/Files/01_IngestionZone\"\n",
        "bucket_raw =        \"bkt-ssp/Files/02_RawZone\"\n",
        "bucket_trusted =    \"bkt-ssp/Files/03_TrustedZone\"\n",
        "bucket_refined =    \"bkt-ssp/Files/04_RefinedZone\""
      ]
    },
    {
      "cell_type": "code",
      "execution_count": null,
      "metadata": {
        "id": "dAEUz10eobYg"
      },
      "outputs": [],
      "source": [
        "### MOD_PER_FILE\n",
        "output_lake = \"ingestion_ssp_montly_file\""
      ]
    },
    {
      "cell_type": "code",
      "execution_count": null,
      "metadata": {
        "colab": {
          "base_uri": "https://localhost:8080/"
        },
        "id": "8gl7hylBohtN",
        "outputId": "ee27cd33-1ae0-4486-e435-82fbf2414cb8"
      },
      "outputs": [
        {
          "name": "stdout",
          "output_type": "stream",
          "text": [
            "s3://bkt-ssp/Files/1_IngestionZone/dados_ssp_sp.csv\n"
          ]
        }
      ],
      "source": [
        "### MOD_PER_FILE\n",
        "full_path_ingestion = 's3://{bkt}/{file}'.format(bkt=bucket_ingestion,file=file)\n",
        "print(full_path_ingestion)"
      ]
    },
    {
      "cell_type": "code",
      "execution_count": null,
      "metadata": {
        "colab": {
          "base_uri": "https://localhost:8080/"
        },
        "id": "HAPVj5jKojej",
        "outputId": "f244a128-e432-4e59-e135-722086ad1580"
      },
      "outputs": [
        {
          "name": "stderr",
          "output_type": "stream",
          "text": [
            "/usr/local/lib/python3.10/dist-packages/pyspark/sql/dataframe.py:329: FutureWarning: Deprecated in 2.0, use createOrReplaceTempView instead.\n",
            "  warnings.warn(\"Deprecated in 2.0, use createOrReplaceTempView instead.\", FutureWarning)\n"
          ]
        },
        {
          "name": "stdout",
          "output_type": "stream",
          "text": [
            "records ingested:  153876\n",
            "Elapsed time: 0.9863908290863037 seconds\n"
          ]
        }
      ],
      "source": [
        "start_time = time.time()\n",
        "\n",
        "pouso = spark.read.format(\n",
        "       \"com.databricks.spark.csv\").option(\n",
        "       \"header\", \"true\").option(\n",
        "       \"encoding\", \"ISO-8859-1\").option(\n",
        "       \"encoding\", \"UTF-8\").option(\n",
        "       \"inferSchema\", \"false\").option(\n",
        "        \"delimiter\", ',').load(\n",
        "       full_path_ingestion)\n",
        "\n",
        "pouso.registerTempTable(\"pouso\")\n",
        "pouso.cache()\n",
        "qtd = pouso.count()\n",
        "print('records ingested: ', qtd)\n",
        "\n",
        "# Calculate the elapsed time\n",
        "elapsed_time = time.time() - start_time\n",
        "print('Elapsed time:', elapsed_time, 'seconds')"
      ]
    },
    {
      "cell_type": "markdown",
      "metadata": {
        "id": "M8wBQILpOfe2"
      },
      "source": [
        "# Ordernamento dados ascendente"
      ]
    },
    {
      "cell_type": "code",
      "execution_count": null,
      "metadata": {
        "id": "ITGkHuXSNzcA"
      },
      "outputs": [],
      "source": [
        "pouso = pouso.orderBy(asc(\"ano\"),asc(\"mes\"), asc(\"regiao_ssp\"), asc(\"id_municipio\"))"
      ]
    },
    {
      "cell_type": "markdown",
      "metadata": {
        "id": "VdN12p97qo6W"
      },
      "source": [
        "# Listagem Colunas"
      ]
    },
    {
      "cell_type": "code",
      "execution_count": null,
      "metadata": {
        "colab": {
          "base_uri": "https://localhost:8080/"
        },
        "id": "FhcUwHiGqqqc",
        "outputId": "cf4ed0e2-dd2e-4016-e280-808860163025"
      },
      "outputs": [
        {
          "name": "stdout",
          "output_type": "stream",
          "text": [
            "ano,\n",
            "mes,\n",
            "id_municipio,\n",
            "regiao_ssp,\n",
            "homicidio_doloso,\n",
            "numero_de_vitimas_em_homicidio_doloso,\n",
            "homicidio_doloso_por_acidente_de_transito,\n",
            "numero_de_vitimas_em_homicidio_doloso_por_acidente_de_transito,\n",
            "homicidio_culposo_por_acidente_de_transito,\n",
            "homicidio_culposo_outros,\n",
            "tentativa_de_homicidio,\n",
            "lesao_corporal_seguida_de_morte,\n",
            "lesao_corporal_dolosa,\n",
            "lesao_corporal_culposa_por_acidente_de_transito,\n",
            "lesao_corporal_culposa_outras,\n",
            "latrocinio,\n",
            "numero_de_vitimas_em_latrocinio,\n",
            "total_de_estupro,\n",
            "estupro,\n",
            "estupro_de_vulneravel,\n",
            "total_de_roubo_outros,\n",
            "roubo_outros,\n",
            "roubo_de_veiculo,\n",
            "roubo_a_banco,\n",
            "roubo_de_carga,\n",
            "furto_outros,\n",
            "furto_de_veiculo,\n"
          ]
        }
      ],
      "source": [
        "for column in pouso.columns:\n",
        "  print(column+',')"
      ]
    },
    {
      "cell_type": "code",
      "execution_count": null,
      "metadata": {
        "colab": {
          "base_uri": "https://localhost:8080/"
        },
        "id": "fEPGmGCrsVU4",
        "outputId": "90a3b614-86ab-4f76-80c9-aefe0ebfde75"
      },
      "outputs": [
        {
          "data": {
            "text/plain": [
              "153876"
            ]
          },
          "execution_count": 55,
          "metadata": {},
          "output_type": "execute_result"
        }
      ],
      "source": [
        "### Lake SQL statement, partition files will be saved in raw bucket\n",
        "\n",
        "lake = spark.sql(\n",
        "    \"\"\"\n",
        "        select\n",
        "            -- padrao para todas as tabelas\n",
        "\n",
        "            --Nova Coluna para facilitar particionamento yyyy-mm\n",
        "            concat(ano, lpad(mes, 2, '0')) as yyyymm,\n",
        "            concat(ano, lpad(mes, 2, '0')) as yyyymm_partition,\n",
        "\n",
        "            -- Data e Hora do Processamento\n",
        "\n",
        "            {pdthproc} as ts_proc,\n",
        "            {pdthproc} as ts_proc_partition,\n",
        "\n",
        "            -- campos do arquivos\n",
        "\n",
        "            ano,\n",
        "            mes,\n",
        "            id_municipio,\n",
        "            regiao_ssp,\n",
        "            homicidio_doloso,\n",
        "            numero_de_vitimas_em_homicidio_doloso,\n",
        "            homicidio_doloso_por_acidente_de_transito,\n",
        "            numero_de_vitimas_em_homicidio_doloso_por_acidente_de_transito,\n",
        "            homicidio_culposo_por_acidente_de_transito,\n",
        "            homicidio_culposo_outros,\n",
        "            tentativa_de_homicidio,\n",
        "            lesao_corporal_seguida_de_morte,\n",
        "            lesao_corporal_dolosa,\n",
        "            lesao_corporal_culposa_por_acidente_de_transito,\n",
        "            lesao_corporal_culposa_outras,\n",
        "            latrocinio,\n",
        "            numero_de_vitimas_em_latrocinio,\n",
        "            total_de_estupro,\n",
        "            estupro,\n",
        "            estupro_de_vulneravel,\n",
        "            total_de_roubo_outros,\n",
        "            roubo_outros,\n",
        "            roubo_de_veiculo,\n",
        "            roubo_a_banco,\n",
        "            roubo_de_carga,\n",
        "            furto_outros,\n",
        "            furto_de_veiculo\n",
        "        from\n",
        "            pouso\n",
        "    \"\"\".format(tsfileger=ts_file_generation, pdthproc=dthproc))\n",
        "lake.registerTempTable(\"lake\")\n",
        "lake.cache()\n",
        "lake.count()"
      ]
    },
    {
      "cell_type": "code",
      "execution_count": null,
      "metadata": {
        "colab": {
          "base_uri": "https://localhost:8080/"
        },
        "id": "Tu5rTIT6SkJf",
        "outputId": "522cd837-901b-4461-a579-0fdd8a1cf6d8"
      },
      "outputs": [
        {
          "name": "stdout",
          "output_type": "stream",
          "text": [
            "s3://bkt-ssp/Files/2_RawZone/ingestion_ssp_montly_file\n"
          ]
        }
      ],
      "source": [
        "#Destino\n",
        "path_raw = os.path.join('s3://',bucket_raw,output_lake)\n",
        "print(path_raw)"
      ]
    },
    {
      "cell_type": "code",
      "execution_count": null,
      "metadata": {
        "id": "44mFeJoEttLc"
      },
      "outputs": [],
      "source": [
        "path_raw = os.path.join('s3://',bucket_raw,output_lake)\n",
        "print(path_raw)\n",
        "\n",
        "lake.coalesce(1).write \\\n",
        ".partitionBy(\"yyyymm\", \"yyyymm_partition\", \"ts_proc\", \"ts_proc_partition\") \\\n",
        ".csv(path_raw,mode='overwrite')"
      ]
    },
    {
      "cell_type": "code",
      "execution_count": null,
      "metadata": {
        "colab": {
          "base_uri": "https://localhost:8080/",
          "height": 17
        },
        "id": "XcKrpom3wujC",
        "outputId": "f472b783-242f-4e66-c004-8940b1aefd46"
      },
      "outputs": [
        {
          "data": {
            "application/javascript": "google.colab.output.setIframeHeight(0, true, {maxHeight: 5000})",
            "text/plain": [
              "<IPython.core.display.Javascript object>"
            ]
          },
          "metadata": {},
          "output_type": "display_data"
        },
        {
          "data": {
            "application/javascript": "google.colab.output.setIframeHeight(0, true, {maxHeight: 5000})",
            "text/plain": [
              "<IPython.core.display.Javascript object>"
            ]
          },
          "metadata": {},
          "output_type": "display_data"
        }
      ],
      "source": [
        "#End"
      ]
    }
  ],
  "metadata": {
    "colab": {
      "provenance": []
    },
    "kernelspec": {
      "display_name": "Python 3",
      "name": "python3"
    },
    "language_info": {
      "name": "python"
    }
  },
  "nbformat": 4,
  "nbformat_minor": 0
}
